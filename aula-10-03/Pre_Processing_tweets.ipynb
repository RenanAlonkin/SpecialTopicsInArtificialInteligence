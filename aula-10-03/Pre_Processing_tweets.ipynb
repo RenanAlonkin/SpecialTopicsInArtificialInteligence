{
 "cells": [
  {
   "cell_type": "code",
   "execution_count": 38,
   "metadata": {},
   "outputs": [],
   "source": [
    "import numpy as np\n",
    "import pandas as pd\n",
    "import nltk\n",
    "import unidecode\n",
    "\n",
    "from nltk import tokenize"
   ]
  },
  {
   "cell_type": "code",
   "execution_count": 39,
   "metadata": {},
   "outputs": [],
   "source": [
    "def pretty_print_tweet(item):\n",
    "    print(item.Classificacao.ljust(10) + \":\\t\" + item.Text[0:60] + \"...\")"
   ]
  },
  {
   "cell_type": "code",
   "execution_count": 40,
   "metadata": {},
   "outputs": [
    {
     "data": {
      "text/html": [
       "<div>\n",
       "<style scoped>\n",
       "    .dataframe tbody tr th:only-of-type {\n",
       "        vertical-align: middle;\n",
       "    }\n",
       "\n",
       "    .dataframe tbody tr th {\n",
       "        vertical-align: top;\n",
       "    }\n",
       "\n",
       "    .dataframe thead th {\n",
       "        text-align: right;\n",
       "    }\n",
       "</style>\n",
       "<table border=\"1\" class=\"dataframe\">\n",
       "  <thead>\n",
       "    <tr style=\"text-align: right;\">\n",
       "      <th></th>\n",
       "      <th>Unnamed: 0</th>\n",
       "      <th>Created At</th>\n",
       "      <th>Text</th>\n",
       "      <th>Geo Coordinates.latitude</th>\n",
       "      <th>Geo Coordinates.longitude</th>\n",
       "      <th>User Location</th>\n",
       "      <th>Username</th>\n",
       "      <th>User Screen Name</th>\n",
       "      <th>Retweet Count</th>\n",
       "      <th>Classificacao</th>\n",
       "      <th>...</th>\n",
       "      <th>Unnamed: 15</th>\n",
       "      <th>Unnamed: 16</th>\n",
       "      <th>Unnamed: 17</th>\n",
       "      <th>Unnamed: 18</th>\n",
       "      <th>Unnamed: 19</th>\n",
       "      <th>Unnamed: 20</th>\n",
       "      <th>Unnamed: 21</th>\n",
       "      <th>Unnamed: 22</th>\n",
       "      <th>Unnamed: 23</th>\n",
       "      <th>Unnamed: 24</th>\n",
       "    </tr>\n",
       "  </thead>\n",
       "  <tbody>\n",
       "    <tr>\n",
       "      <th>0</th>\n",
       "      <td>0</td>\n",
       "      <td>Sun Jan 08 01:22:05 +0000 2017</td>\n",
       "      <td>���⛪ @ Catedral de Santo Antônio - Governador ...</td>\n",
       "      <td>NaN</td>\n",
       "      <td>NaN</td>\n",
       "      <td>Brasil</td>\n",
       "      <td>Leonardo C Schneider</td>\n",
       "      <td>LeoCSchneider</td>\n",
       "      <td>0</td>\n",
       "      <td>Neutro</td>\n",
       "      <td>...</td>\n",
       "      <td>NaN</td>\n",
       "      <td>NaN</td>\n",
       "      <td>NaN</td>\n",
       "      <td>NaN</td>\n",
       "      <td>NaN</td>\n",
       "      <td>NaN</td>\n",
       "      <td>NaN</td>\n",
       "      <td>NaN</td>\n",
       "      <td>NaN</td>\n",
       "      <td>NaN</td>\n",
       "    </tr>\n",
       "  </tbody>\n",
       "</table>\n",
       "<p>1 rows × 26 columns</p>\n",
       "</div>"
      ],
      "text/plain": [
       "   Unnamed: 0                      Created At  \\\n",
       "0           0  Sun Jan 08 01:22:05 +0000 2017   \n",
       "\n",
       "                                                Text  \\\n",
       "0  ���⛪ @ Catedral de Santo Antônio - Governador ...   \n",
       "\n",
       "   Geo Coordinates.latitude  Geo Coordinates.longitude User Location  \\\n",
       "0                       NaN                        NaN        Brasil   \n",
       "\n",
       "               Username User Screen Name  Retweet Count Classificacao  \\\n",
       "0  Leonardo C Schneider    LeoCSchneider              0        Neutro   \n",
       "\n",
       "      ...      Unnamed: 15  Unnamed: 16  Unnamed: 17  Unnamed: 18  \\\n",
       "0     ...              NaN          NaN          NaN          NaN   \n",
       "\n",
       "   Unnamed: 19  Unnamed: 20  Unnamed: 21  Unnamed: 22  Unnamed: 23  \\\n",
       "0          NaN          NaN          NaN          NaN          NaN   \n",
       "\n",
       "   Unnamed: 24  \n",
       "0          NaN  \n",
       "\n",
       "[1 rows x 26 columns]"
      ]
     },
     "execution_count": 40,
     "metadata": {},
     "output_type": "execute_result"
    }
   ],
   "source": [
    "df = pd.read_csv('data/Tweets_Mg.csv', encoding='utf-8')\n",
    "df_orig = df\n",
    "df.head(1)"
   ]
  },
  {
   "cell_type": "code",
   "execution_count": 41,
   "metadata": {},
   "outputs": [
    {
     "data": {
      "text/html": [
       "<div>\n",
       "<style scoped>\n",
       "    .dataframe tbody tr th:only-of-type {\n",
       "        vertical-align: middle;\n",
       "    }\n",
       "\n",
       "    .dataframe tbody tr th {\n",
       "        vertical-align: top;\n",
       "    }\n",
       "\n",
       "    .dataframe thead th {\n",
       "        text-align: right;\n",
       "    }\n",
       "</style>\n",
       "<table border=\"1\" class=\"dataframe\">\n",
       "  <thead>\n",
       "    <tr style=\"text-align: right;\">\n",
       "      <th></th>\n",
       "      <th>Unnamed: 0</th>\n",
       "      <th>Created At</th>\n",
       "      <th>Text</th>\n",
       "      <th>Geo Coordinates.latitude</th>\n",
       "      <th>Geo Coordinates.longitude</th>\n",
       "      <th>User Location</th>\n",
       "      <th>Username</th>\n",
       "      <th>User Screen Name</th>\n",
       "      <th>Retweet Count</th>\n",
       "      <th>Classificacao</th>\n",
       "      <th>...</th>\n",
       "      <th>Unnamed: 15</th>\n",
       "      <th>Unnamed: 16</th>\n",
       "      <th>Unnamed: 17</th>\n",
       "      <th>Unnamed: 18</th>\n",
       "      <th>Unnamed: 19</th>\n",
       "      <th>Unnamed: 20</th>\n",
       "      <th>Unnamed: 21</th>\n",
       "      <th>Unnamed: 22</th>\n",
       "      <th>Unnamed: 23</th>\n",
       "      <th>Unnamed: 24</th>\n",
       "    </tr>\n",
       "  </thead>\n",
       "  <tbody>\n",
       "    <tr>\n",
       "      <th>1</th>\n",
       "      <td>1</td>\n",
       "      <td>Sun Jan 08 01:49:01 +0000 2017</td>\n",
       "      <td>� @ Governador Valadares, Minas Gerais https:/...</td>\n",
       "      <td>-41.9333</td>\n",
       "      <td>-18.85</td>\n",
       "      <td>NaN</td>\n",
       "      <td>Wândell</td>\n",
       "      <td>klefnews</td>\n",
       "      <td>0</td>\n",
       "      <td>Neutro</td>\n",
       "      <td>...</td>\n",
       "      <td>NaN</td>\n",
       "      <td>NaN</td>\n",
       "      <td>NaN</td>\n",
       "      <td>NaN</td>\n",
       "      <td>NaN</td>\n",
       "      <td>NaN</td>\n",
       "      <td>NaN</td>\n",
       "      <td>NaN</td>\n",
       "      <td>NaN</td>\n",
       "      <td>NaN</td>\n",
       "    </tr>\n",
       "    <tr>\n",
       "      <th>10</th>\n",
       "      <td>10</td>\n",
       "      <td>Mon Jan 09 15:09:31 +0000 2017</td>\n",
       "      <td>\"Daí a gente visita governador valadares\"\\n\"Qu...</td>\n",
       "      <td>NaN</td>\n",
       "      <td>NaN</td>\n",
       "      <td>error 404 location not found</td>\n",
       "      <td>gambim</td>\n",
       "      <td>marina_gambim</td>\n",
       "      <td>0</td>\n",
       "      <td>Neutro</td>\n",
       "      <td>...</td>\n",
       "      <td>NaN</td>\n",
       "      <td>NaN</td>\n",
       "      <td>NaN</td>\n",
       "      <td>NaN</td>\n",
       "      <td>NaN</td>\n",
       "      <td>NaN</td>\n",
       "      <td>NaN</td>\n",
       "      <td>NaN</td>\n",
       "      <td>NaN</td>\n",
       "      <td>NaN</td>\n",
       "    </tr>\n",
       "    <tr>\n",
       "      <th>30</th>\n",
       "      <td>30</td>\n",
       "      <td>Fri Jan 06 11:02:14 +0000 2017</td>\n",
       "      <td>#beta #betalab #mg Afiliada da Globo: Apresent...</td>\n",
       "      <td>NaN</td>\n",
       "      <td>NaN</td>\n",
       "      <td>NaN</td>\n",
       "      <td>Guilherme # Beta</td>\n",
       "      <td>guilhermecorde</td>\n",
       "      <td>0</td>\n",
       "      <td>Neutro</td>\n",
       "      <td>...</td>\n",
       "      <td>NaN</td>\n",
       "      <td>NaN</td>\n",
       "      <td>NaN</td>\n",
       "      <td>NaN</td>\n",
       "      <td>NaN</td>\n",
       "      <td>NaN</td>\n",
       "      <td>NaN</td>\n",
       "      <td>NaN</td>\n",
       "      <td>NaN</td>\n",
       "      <td>NaN</td>\n",
       "    </tr>\n",
       "  </tbody>\n",
       "</table>\n",
       "<p>3 rows × 26 columns</p>\n",
       "</div>"
      ],
      "text/plain": [
       "    Unnamed: 0                      Created At  \\\n",
       "1            1  Sun Jan 08 01:49:01 +0000 2017   \n",
       "10          10  Mon Jan 09 15:09:31 +0000 2017   \n",
       "30          30  Fri Jan 06 11:02:14 +0000 2017   \n",
       "\n",
       "                                                 Text  \\\n",
       "1   � @ Governador Valadares, Minas Gerais https:/...   \n",
       "10  \"Daí a gente visita governador valadares\"\\n\"Qu...   \n",
       "30  #beta #betalab #mg Afiliada da Globo: Apresent...   \n",
       "\n",
       "    Geo Coordinates.latitude  Geo Coordinates.longitude  \\\n",
       "1                   -41.9333                     -18.85   \n",
       "10                       NaN                        NaN   \n",
       "30                       NaN                        NaN   \n",
       "\n",
       "                   User Location          Username User Screen Name  \\\n",
       "1                            NaN           Wândell         klefnews   \n",
       "10  error 404 location not found            gambim    marina_gambim   \n",
       "30                           NaN  Guilherme # Beta   guilhermecorde   \n",
       "\n",
       "    Retweet Count Classificacao     ...      Unnamed: 15  Unnamed: 16  \\\n",
       "1               0        Neutro     ...              NaN          NaN   \n",
       "10              0        Neutro     ...              NaN          NaN   \n",
       "30              0        Neutro     ...              NaN          NaN   \n",
       "\n",
       "    Unnamed: 17  Unnamed: 18  Unnamed: 19  Unnamed: 20  Unnamed: 21  \\\n",
       "1           NaN          NaN          NaN          NaN          NaN   \n",
       "10          NaN          NaN          NaN          NaN          NaN   \n",
       "30          NaN          NaN          NaN          NaN          NaN   \n",
       "\n",
       "    Unnamed: 22  Unnamed: 23  Unnamed: 24  \n",
       "1           NaN          NaN          NaN  \n",
       "10          NaN          NaN          NaN  \n",
       "30          NaN          NaN          NaN  \n",
       "\n",
       "[3 rows x 26 columns]"
      ]
     },
     "execution_count": 41,
     "metadata": {},
     "output_type": "execute_result"
    }
   ],
   "source": [
    "df.loc[[1,10,30]]"
   ]
  },
  {
   "cell_type": "code",
   "execution_count": 42,
   "metadata": {},
   "outputs": [
    {
     "name": "stdout",
     "output_type": "stream",
     "text": [
      "<class 'pandas.core.frame.DataFrame'>\n",
      "RangeIndex: 8199 entries, 0 to 8198\n",
      "Data columns (total 26 columns):\n",
      "Unnamed: 0                   8199 non-null int64\n",
      "Created At                   8199 non-null object\n",
      "Text                         8199 non-null object\n",
      "Geo Coordinates.latitude     104 non-null float64\n",
      "Geo Coordinates.longitude    104 non-null float64\n",
      "User Location                5489 non-null object\n",
      "Username                     8199 non-null object\n",
      "User Screen Name             8199 non-null object\n",
      "Retweet Count                8199 non-null int64\n",
      "Classificacao                8199 non-null object\n",
      "Observação                   1 non-null object\n",
      "Unnamed: 10                  0 non-null float64\n",
      "Unnamed: 11                  0 non-null float64\n",
      "Unnamed: 12                  0 non-null float64\n",
      "Unnamed: 13                  0 non-null float64\n",
      "Unnamed: 14                  0 non-null float64\n",
      "Unnamed: 15                  0 non-null float64\n",
      "Unnamed: 16                  0 non-null float64\n",
      "Unnamed: 17                  0 non-null float64\n",
      "Unnamed: 18                  0 non-null float64\n",
      "Unnamed: 19                  0 non-null float64\n",
      "Unnamed: 20                  0 non-null float64\n",
      "Unnamed: 21                  0 non-null float64\n",
      "Unnamed: 22                  0 non-null float64\n",
      "Unnamed: 23                  0 non-null float64\n",
      "Unnamed: 24                  0 non-null float64\n",
      "dtypes: float64(17), int64(2), object(7)\n",
      "memory usage: 1.6+ MB\n"
     ]
    }
   ],
   "source": [
    "df.info()"
   ]
  },
  {
   "cell_type": "markdown",
   "metadata": {},
   "source": [
    "## Remover as colunas que não serão utilizadas"
   ]
  },
  {
   "cell_type": "code",
   "execution_count": 43,
   "metadata": {},
   "outputs": [
    {
     "data": {
      "text/html": [
       "<div>\n",
       "<style scoped>\n",
       "    .dataframe tbody tr th:only-of-type {\n",
       "        vertical-align: middle;\n",
       "    }\n",
       "\n",
       "    .dataframe tbody tr th {\n",
       "        vertical-align: top;\n",
       "    }\n",
       "\n",
       "    .dataframe thead th {\n",
       "        text-align: right;\n",
       "    }\n",
       "</style>\n",
       "<table border=\"1\" class=\"dataframe\">\n",
       "  <thead>\n",
       "    <tr style=\"text-align: right;\">\n",
       "      <th></th>\n",
       "      <th>Text</th>\n",
       "      <th>Classificacao</th>\n",
       "    </tr>\n",
       "  </thead>\n",
       "  <tbody>\n",
       "    <tr>\n",
       "      <th>0</th>\n",
       "      <td>���⛪ @ Catedral de Santo Antônio - Governador ...</td>\n",
       "      <td>Neutro</td>\n",
       "    </tr>\n",
       "    <tr>\n",
       "      <th>1</th>\n",
       "      <td>� @ Governador Valadares, Minas Gerais https:/...</td>\n",
       "      <td>Neutro</td>\n",
       "    </tr>\n",
       "    <tr>\n",
       "      <th>2</th>\n",
       "      <td>�� @ Governador Valadares, Minas Gerais https:...</td>\n",
       "      <td>Neutro</td>\n",
       "    </tr>\n",
       "    <tr>\n",
       "      <th>3</th>\n",
       "      <td>��� https://t.co/BnDsO34qK0</td>\n",
       "      <td>Neutro</td>\n",
       "    </tr>\n",
       "    <tr>\n",
       "      <th>4</th>\n",
       "      <td>��� PSOL vai questionar aumento de vereadores ...</td>\n",
       "      <td>Negativo</td>\n",
       "    </tr>\n",
       "  </tbody>\n",
       "</table>\n",
       "</div>"
      ],
      "text/plain": [
       "                                                Text Classificacao\n",
       "0  ���⛪ @ Catedral de Santo Antônio - Governador ...        Neutro\n",
       "1  � @ Governador Valadares, Minas Gerais https:/...        Neutro\n",
       "2  �� @ Governador Valadares, Minas Gerais https:...        Neutro\n",
       "3                        ��� https://t.co/BnDsO34qK0        Neutro\n",
       "4  ��� PSOL vai questionar aumento de vereadores ...      Negativo"
      ]
     },
     "execution_count": 43,
     "metadata": {},
     "output_type": "execute_result"
    }
   ],
   "source": [
    "df = df[['Text','Classificacao']]\n",
    "df.head()"
   ]
  },
  {
   "cell_type": "code",
   "execution_count": 44,
   "metadata": {},
   "outputs": [
    {
     "name": "stdout",
     "output_type": "stream",
     "text": [
      "Neutro    :\t���⛪ @ Catedral de Santo Antônio - Governador Valadares/MG h...\n",
      "Neutro    :\t� @ Governador Valadares, Minas Gerais https://t.co/B3ThIDJC...\n",
      "Neutro    :\t�� @ Governador Valadares, Minas Gerais https://t.co/dPkgzVR...\n",
      "Neutro    :\t��� https://t.co/BnDsO34qK0...\n",
      "Negativo  :\t��� PSOL vai questionar aumento de vereadores e prefeito de ...\n",
      "Neutro    :\t\" bom é bandido morto\"\n",
      "Deputado Cabo Júlio é condenado e fic...\n",
      "Neutro    :\t\"..E 25% dos mineiros dizem não torcer para time nenhum,mesm...\n",
      "Neutro    :\t\"A gigantesca barba do mal\" em destaque no caderno Cultura d...\n",
      "Negativo  :\t\"BB e governo de Minas travam disputa sobre depósitos judici...\n",
      "Neutro    :\t\"com vcs bh fica pequena!\" Belo Horizonte (pron. [bɛloɾiˈzõn...\n"
     ]
    }
   ],
   "source": [
    "for i in range(10):\n",
    "    pretty_print_tweet(df.loc[i])"
   ]
  },
  {
   "cell_type": "markdown",
   "metadata": {},
   "source": [
    "## Contagem do número de tweets por categoria"
   ]
  },
  {
   "cell_type": "code",
   "execution_count": 45,
   "metadata": {},
   "outputs": [
    {
     "data": {
      "text/html": [
       "<div>\n",
       "<style scoped>\n",
       "    .dataframe tbody tr th:only-of-type {\n",
       "        vertical-align: middle;\n",
       "    }\n",
       "\n",
       "    .dataframe tbody tr th {\n",
       "        vertical-align: top;\n",
       "    }\n",
       "\n",
       "    .dataframe thead th {\n",
       "        text-align: right;\n",
       "    }\n",
       "</style>\n",
       "<table border=\"1\" class=\"dataframe\">\n",
       "  <thead>\n",
       "    <tr style=\"text-align: right;\">\n",
       "      <th></th>\n",
       "      <th>Text</th>\n",
       "    </tr>\n",
       "    <tr>\n",
       "      <th>Classificacao</th>\n",
       "      <th></th>\n",
       "    </tr>\n",
       "  </thead>\n",
       "  <tbody>\n",
       "    <tr>\n",
       "      <th>Negativo</th>\n",
       "      <td>2446</td>\n",
       "    </tr>\n",
       "    <tr>\n",
       "      <th>Neutro</th>\n",
       "      <td>2453</td>\n",
       "    </tr>\n",
       "    <tr>\n",
       "      <th>Positivo</th>\n",
       "      <td>3300</td>\n",
       "    </tr>\n",
       "  </tbody>\n",
       "</table>\n",
       "</div>"
      ],
      "text/plain": [
       "               Text\n",
       "Classificacao      \n",
       "Negativo       2446\n",
       "Neutro         2453\n",
       "Positivo       3300"
      ]
     },
     "execution_count": 45,
     "metadata": {},
     "output_type": "execute_result"
    }
   ],
   "source": [
    "df.groupby('Classificacao').count()"
   ]
  },
  {
   "cell_type": "markdown",
   "metadata": {},
   "source": [
    "## Separar os elementos baseado na classificação"
   ]
  },
  {
   "cell_type": "code",
   "execution_count": 46,
   "metadata": {},
   "outputs": [],
   "source": [
    "df_neg = df.query('Classificacao == \"Negativo\"')\n",
    "df_pos = df.query('Classificacao == \"Positivo\"')\n",
    "df_neu = df.query('Classificacao == \"Neutro\"')"
   ]
  },
  {
   "cell_type": "markdown",
   "metadata": {},
   "source": [
    "## Negativos"
   ]
  },
  {
   "cell_type": "code",
   "execution_count": 47,
   "metadata": {},
   "outputs": [
    {
     "name": "stdout",
     "output_type": "stream",
     "text": [
      "Negativo  :\t��� PSOL vai questionar aumento de vereadores e prefeito de ...\n",
      "Negativo  :\t\"BB e governo de Minas travam disputa sobre depósitos judici...\n",
      "Negativo  :\t\"erro desconhecido\" é mato! Aliás, é da secretaria estadual ...\n",
      "Negativo  :\t\"Mesmo sem muito dinheiro no caixa o governo de Minas Gerais...\n",
      "Negativo  :\t\"uso de aeronave pertencente ao  Estado de MG, em domingo, p...\n"
     ]
    }
   ],
   "source": [
    "for i in range(5):\n",
    "    pretty_print_tweet(df_neg.reset_index().loc[i])"
   ]
  },
  {
   "cell_type": "markdown",
   "metadata": {},
   "source": [
    "## Positivos"
   ]
  },
  {
   "cell_type": "code",
   "execution_count": 48,
   "metadata": {},
   "outputs": [
    {
     "name": "stdout",
     "output_type": "stream",
     "text": [
      "Positivo  :\t#DefesaAgropecuária \"Governo de Minas Gerais aposta nos Arra...\n",
      "Positivo  :\t#EBC Governo de Minas investiga casos suspeitos de febre ama...\n",
      "Positivo  :\t#Minas vai dobrar oferta de trabalho e estudo nos #presídios...\n",
      "Positivo  :\t#Minas vai dobrar oferta de trabalho e estudo nos #presídios...\n",
      "Positivo  :\t#SUS Minas Gerais recebe recurso máximo disponibilizado pelo...\n"
     ]
    }
   ],
   "source": [
    "for i in range(5):\n",
    "    pretty_print_tweet(df_pos.reset_index().loc[i])"
   ]
  },
  {
   "cell_type": "markdown",
   "metadata": {},
   "source": [
    "## Neutros"
   ]
  },
  {
   "cell_type": "code",
   "execution_count": 49,
   "metadata": {},
   "outputs": [
    {
     "name": "stdout",
     "output_type": "stream",
     "text": [
      "Neutro    :\t���⛪ @ Catedral de Santo Antônio - Governador Valadares/MG h...\n",
      "Neutro    :\t� @ Governador Valadares, Minas Gerais https://t.co/B3ThIDJC...\n",
      "Neutro    :\t�� @ Governador Valadares, Minas Gerais https://t.co/dPkgzVR...\n",
      "Neutro    :\t��� https://t.co/BnDsO34qK0...\n",
      "Neutro    :\t\" bom é bandido morto\"\n",
      "Deputado Cabo Júlio é condenado e fic...\n"
     ]
    }
   ],
   "source": [
    "for i in range(5):\n",
    "    pretty_print_tweet(df_neu.reset_index().loc[i])"
   ]
  },
  {
   "cell_type": "markdown",
   "metadata": {},
   "source": [
    "# Pre-processamento dos tweets"
   ]
  },
  {
   "cell_type": "markdown",
   "metadata": {},
   "source": [
    "A funcao `remover_acentos` é aplicada a cada tupla do DataFrame na coluna text, usando a função `apply`."
   ]
  },
  {
   "cell_type": "code",
   "execution_count": 50,
   "metadata": {},
   "outputs": [],
   "source": [
    "def remover_acentos(texto):\n",
    "    return unidecode.unidecode(texto)"
   ]
  },
  {
   "cell_type": "code",
   "execution_count": 51,
   "metadata": {},
   "outputs": [],
   "source": [
    "df.Text = df.Text.apply(remover_acentos)"
   ]
  },
  {
   "cell_type": "code",
   "execution_count": 52,
   "metadata": {},
   "outputs": [
    {
     "name": "stdout",
     "output_type": "stream",
     "text": [
      "Neutro    :\t[?] @ Catedral de Santo Antonio - Governador Valadares/MG ht...\n",
      "Neutro    :\t @ Governador Valadares, Minas Gerais https://t.co/B3ThIDJCS...\n",
      "Neutro    :\t @ Governador Valadares, Minas Gerais https://t.co/dPkgzVR2Q...\n",
      "Neutro    :\t https://t.co/BnDsO34qK0...\n",
      "Negativo  :\t PSOL vai questionar aumento de vereadores e prefeito de BH ...\n",
      "Neutro    :\t\" bom e bandido morto\"\n",
      "Deputado Cabo Julio e condenado e fic...\n",
      "Neutro    :\t\"..E 25% dos mineiros dizem nao torcer para time nenhum,mesm...\n",
      "Neutro    :\t\"A gigantesca barba do mal\" em destaque no caderno Cultura d...\n",
      "Negativo  :\t\"BB e governo de Minas travam disputa sobre depositos judici...\n",
      "Neutro    :\t\"com vcs bh fica pequena!\" Belo Horizonte (pron. [belori'zon...\n"
     ]
    }
   ],
   "source": [
    "for i in range(10):\n",
    "    pretty_print_tweet(df.loc[i])"
   ]
  },
  {
   "cell_type": "markdown",
   "metadata": {},
   "source": [
    "- Remoção de endereço de website\n",
    "- remoção de caracteres que não são letras, numeros, espaços , virgulas ou pontos"
   ]
  },
  {
   "cell_type": "code",
   "execution_count": 53,
   "metadata": {},
   "outputs": [],
   "source": [
    "regex_to_replace = {r'https?:\\/\\/.*[\\r\\n]*':'', '[^a-zA-Z0-9\\s,.]+' : ''}"
   ]
  },
  {
   "cell_type": "code",
   "execution_count": 54,
   "metadata": {},
   "outputs": [],
   "source": [
    "df.Text = df.Text.replace(regex_to_replace, regex = True)"
   ]
  },
  {
   "cell_type": "code",
   "execution_count": 55,
   "metadata": {},
   "outputs": [
    {
     "name": "stdout",
     "output_type": "stream",
     "text": [
      "Neutro    :\t  Catedral de Santo Antonio  Governador ValadaresMG ...\n",
      "Neutro    :\t  Governador Valadares, Minas Gerais ...\n",
      "Neutro    :\t  Governador Valadares, Minas Gerais ...\n",
      "Neutro    :\t ...\n",
      "Negativo  :\t PSOL vai questionar aumento de vereadores e prefeito de BH ...\n",
      "Neutro    :\t bom e bandido morto\n",
      "Deputado Cabo Julio e condenado e fica ...\n",
      "Neutro    :\t..E 25 dos mineiros dizem nao torcer para time nenhum,mesmo ...\n",
      "Neutro    :\tA gigantesca barba do mal em destaque no caderno Cultura do ...\n",
      "Negativo  :\tBB e governo de Minas travam disputa sobre depositos judicia...\n",
      "Neutro    :\tcom vcs bh fica pequena Belo Horizonte pron. belorizontSi10 ...\n"
     ]
    }
   ],
   "source": [
    "for i in range(10):\n",
    "    pretty_print_tweet(df.loc[i])"
   ]
  },
  {
   "cell_type": "markdown",
   "metadata": {},
   "source": [
    "## Remoção de Stopwords"
   ]
  },
  {
   "cell_type": "code",
   "execution_count": 56,
   "metadata": {},
   "outputs": [],
   "source": [
    "def remove_stopwords(sentence, language=\"portuguese\"):\n",
    "    from nltk.corpus import stopwords\n",
    "    #Split sentence into words\n",
    "    words = sentence.split(' ')\n",
    "    #Get the stopwords\n",
    "    stopwords = stopwords.words(language)\n",
    "    words_new = [word for word in words if word not in stopwords]\n",
    "    #impode words into a sentence and return\n",
    "    return ' '.join(words_new)"
   ]
  },
  {
   "cell_type": "code",
   "execution_count": 57,
   "metadata": {},
   "outputs": [
    {
     "name": "stderr",
     "output_type": "stream",
     "text": [
      "/home/aluno/anaconda3/lib/python3.7/site-packages/ipykernel_launcher.py:1: SettingWithCopyWarning: \n",
      "A value is trying to be set on a copy of a slice from a DataFrame.\n",
      "Try using .loc[row_indexer,col_indexer] = value instead\n",
      "\n",
      "See the caveats in the documentation: http://pandas.pydata.org/pandas-docs/stable/indexing.html#indexing-view-versus-copy\n",
      "  \"\"\"Entry point for launching an IPython kernel.\n"
     ]
    }
   ],
   "source": [
    "df['Text'] = df['Text'].apply(remove_stopwords)"
   ]
  },
  {
   "cell_type": "code",
   "execution_count": 58,
   "metadata": {},
   "outputs": [
    {
     "name": "stdout",
     "output_type": "stream",
     "text": [
      "Neutro    :\t  Catedral Santo Antonio  Governador ValadaresMG ...\n",
      "Neutro    :\t  Governador Valadares, Minas Gerais ...\n",
      "Neutro    :\t  Governador Valadares, Minas Gerais ...\n",
      "Neutro    :\t ...\n",
      "Negativo  :\t PSOL vai questionar aumento vereadores prefeito BH Justica ...\n",
      "Neutro    :\t bom bandido morto\n",
      "Deputado Cabo Julio condenado fica ineleg...\n",
      "Neutro    :\t..E 25 mineiros dizem nao torcer time nenhum,mesmo dentro es...\n",
      "Neutro    :\tA gigantesca barba mal destaque caderno Cultura Estado Minas...\n",
      "Negativo  :\tBB governo Minas travam disputa sobre depositos judiciais ...\n",
      "Neutro    :\tvcs bh fica pequena Belo Horizonte pron. belorizontSi10 capi...\n"
     ]
    }
   ],
   "source": [
    "for i in range(10):\n",
    "    pretty_print_tweet(df.loc[i])"
   ]
  },
  {
   "cell_type": "markdown",
   "metadata": {},
   "source": [
    "## Aplicação de Stemmings"
   ]
  },
  {
   "cell_type": "code",
   "execution_count": 59,
   "metadata": {},
   "outputs": [],
   "source": [
    "def stem_sentence(sentence, language = \"portuguese\"):\n",
    "    from nltk.stem.snowball import SnowballStemmer\n",
    "    words = sentence.split(' ')\n",
    "    #Stem words\n",
    "    stemmer = SnowballStemmer(language)\n",
    "    words_stem = [stemmer.stem(word) for word in words]\n",
    "    #impode words into a sentence and return\n",
    "    return ' '.join(words_stem)"
   ]
  },
  {
   "cell_type": "code",
   "execution_count": 60,
   "metadata": {},
   "outputs": [
    {
     "name": "stdout",
     "output_type": "stream",
     "text": [
      "Neutro    :\t  catedral sant antoni  govern valadaresmg ...\n",
      "Neutro    :\t  govern valadares, min ger ...\n",
      "Neutro    :\t  govern valadares, min ger ...\n",
      "Neutro    :\t ...\n",
      "Negativo  :\t psol vai question aument vereador prefeit bh justic  polit ...\n",
      "Neutro    :\t bom band morto\n",
      "deput cab juli conden fic inelegivel 10 anos...\n",
      "Neutro    :\t..e 25 mineir diz nao torc tim nenhum,mesm dentr estad atlet...\n",
      "Neutro    :\ta gigantesc barb mal destaqu cadern cultur estad minas. ...\n",
      "Negativo  :\tbb govern min trav disput sobr deposit judic ...\n",
      "Neutro    :\tvcs bh fic pequen bel horizont pron. belorizontsi10 capital ...\n"
     ]
    },
    {
     "name": "stderr",
     "output_type": "stream",
     "text": [
      "/home/aluno/anaconda3/lib/python3.7/site-packages/ipykernel_launcher.py:1: SettingWithCopyWarning: \n",
      "A value is trying to be set on a copy of a slice from a DataFrame.\n",
      "Try using .loc[row_indexer,col_indexer] = value instead\n",
      "\n",
      "See the caveats in the documentation: http://pandas.pydata.org/pandas-docs/stable/indexing.html#indexing-view-versus-copy\n",
      "  \"\"\"Entry point for launching an IPython kernel.\n"
     ]
    }
   ],
   "source": [
    "df['Text'] = df['Text'].apply(stem_sentence)\n",
    "for i in range(10):\n",
    "    pretty_print_tweet(df.loc[i])"
   ]
  },
  {
   "cell_type": "markdown",
   "metadata": {},
   "source": [
    "## Contagem de Termos Antes / Depois do Pré-Processamento\n",
    "- Usamos uma função que explora a coluna que contém os textos, separa cada sentença em palavras, e retorna o conjunto (sem repetições) de palavras."
   ]
  },
  {
   "cell_type": "code",
   "execution_count": 61,
   "metadata": {},
   "outputs": [],
   "source": [
    "from itertools import chain\n",
    "def get_word_set(sentences):\n",
    "    words_for_sentence =  [sentence.split(' ') for sentence in sentences]\n",
    "    flatten_list = list(chain(*words_for_sentence))\n",
    "    word_set = set (flatten_list)\n",
    "    return word_set"
   ]
  },
  {
   "cell_type": "code",
   "execution_count": 62,
   "metadata": {},
   "outputs": [
    {
     "name": "stdout",
     "output_type": "stream",
     "text": [
      "Número de Termos:  16271\n"
     ]
    }
   ],
   "source": [
    "word_set_orig = get_word_set(df_orig.Text)\n",
    "print('Número de Termos: ', len(word_set_orig))"
   ]
  },
  {
   "cell_type": "code",
   "execution_count": 63,
   "metadata": {},
   "outputs": [
    {
     "name": "stdout",
     "output_type": "stream",
     "text": [
      "Número de Termos:  6639\n"
     ]
    }
   ],
   "source": [
    "word_set = get_word_set(df.Text)\n",
    "print('Número de Termos: ', len(word_set))"
   ]
  },
  {
   "cell_type": "code",
   "execution_count": 64,
   "metadata": {},
   "outputs": [
    {
     "name": "stdout",
     "output_type": "stream",
     "text": [
      "A redução de número de termos foi de 59.20%\n"
     ]
    }
   ],
   "source": [
    "ratio = 1 - len(word_set)/len(word_set_orig)\n",
    "print(\"A redução de número de termos foi de {:.2f}%\".format(ratio*100))"
   ]
  },
  {
   "cell_type": "markdown",
   "metadata": {},
   "source": [
    "## Palavras mais Frequentes Positivas e Negativas"
   ]
  },
  {
   "cell_type": "code",
   "execution_count": 67,
   "metadata": {},
   "outputs": [
    {
     "data": {
      "text/html": [
       "<div>\n",
       "<style scoped>\n",
       "    .dataframe tbody tr th:only-of-type {\n",
       "        vertical-align: middle;\n",
       "    }\n",
       "\n",
       "    .dataframe tbody tr th {\n",
       "        vertical-align: top;\n",
       "    }\n",
       "\n",
       "    .dataframe thead th {\n",
       "        text-align: right;\n",
       "    }\n",
       "</style>\n",
       "<table border=\"1\" class=\"dataframe\">\n",
       "  <thead>\n",
       "    <tr style=\"text-align: right;\">\n",
       "      <th></th>\n",
       "      <th>Text</th>\n",
       "      <th>Classificacao</th>\n",
       "    </tr>\n",
       "  </thead>\n",
       "  <tbody>\n",
       "    <tr>\n",
       "      <th>0</th>\n",
       "      <td>defesaagropecu govern min ger apost arranj pro...</td>\n",
       "      <td>Positivo</td>\n",
       "    </tr>\n",
       "    <tr>\n",
       "      <th>1</th>\n",
       "      <td>ebc govern min investig cas suspeit febr amare...</td>\n",
       "      <td>Positivo</td>\n",
       "    </tr>\n",
       "    <tr>\n",
       "      <th>2</th>\n",
       "      <td>min vai dobr ofert trabalh estud presidi estado\\n</td>\n",
       "      <td>Positivo</td>\n",
       "    </tr>\n",
       "    <tr>\n",
       "      <th>3</th>\n",
       "      <td>min vai dobr ofert trabalh estud presidi estado\\n</td>\n",
       "      <td>Positivo</td>\n",
       "    </tr>\n",
       "    <tr>\n",
       "      <th>4</th>\n",
       "      <td>sus min ger receb recurs maxim disponibiliz go...</td>\n",
       "      <td>Positivo</td>\n",
       "    </tr>\n",
       "  </tbody>\n",
       "</table>\n",
       "</div>"
      ],
      "text/plain": [
       "                                                Text Classificacao\n",
       "0  defesaagropecu govern min ger apost arranj pro...      Positivo\n",
       "1  ebc govern min investig cas suspeit febr amare...      Positivo\n",
       "2  min vai dobr ofert trabalh estud presidi estado\\n      Positivo\n",
       "3  min vai dobr ofert trabalh estud presidi estado\\n      Positivo\n",
       "4  sus min ger receb recurs maxim disponibiliz go...      Positivo"
      ]
     },
     "execution_count": 67,
     "metadata": {},
     "output_type": "execute_result"
    }
   ],
   "source": [
    "dfnew = df.query('Classificacao == \"Positivo\"').append(df.query('Classificacao == \"Negativo\"')).reset_index(drop=True)\n",
    "dfnew.head()"
   ]
  },
  {
   "cell_type": "code",
   "execution_count": 68,
   "metadata": {},
   "outputs": [],
   "source": [
    "from collections import Counter\n",
    "positive_counts = Counter()\n",
    "negative_counts = Counter()\n",
    "total_counts = Counter()"
   ]
  },
  {
   "cell_type": "code",
   "execution_count": 70,
   "metadata": {},
   "outputs": [],
   "source": [
    "for i in range(len(dfnew.Text)):\n",
    "    if(dfnew.Classificacao[i]=='Positivo'):\n",
    "        for word in dfnew.Text[i].split(\" \"):\n",
    "            positive_counts[word] += 1\n",
    "            total_counts[word] += 1\n",
    "    else:\n",
    "        for word in dfnew.Text[i].split(\" \"):\n",
    "            negative_counts[word] += 1\n",
    "            total_counts[word] += 1"
   ]
  },
  {
   "cell_type": "code",
   "execution_count": 72,
   "metadata": {},
   "outputs": [
    {
     "data": {
      "text/plain": [
       "[('', 4080),\n",
       " ('min', 964),\n",
       " ('drog', 916),\n",
       " ('pres', 778),\n",
       " ('rt', 608),\n",
       " ('mg', 570),\n",
       " ('presidi', 536),\n",
       " ('febr', 489),\n",
       " ('trafic', 487),\n",
       " ('amarel', 474)]"
      ]
     },
     "execution_count": 72,
     "metadata": {},
     "output_type": "execute_result"
    }
   ],
   "source": [
    "positive_counts.most_common(10)"
   ]
  },
  {
   "cell_type": "code",
   "execution_count": 73,
   "metadata": {},
   "outputs": [
    {
     "data": {
      "text/plain": [
       "[('', 2207),\n",
       " ('rt', 1729),\n",
       " ('govern', 1518),\n",
       " ('helicopter', 1234),\n",
       " ('mg', 1096),\n",
       " ('compr', 977),\n",
       " ('calam', 958),\n",
       " ('dois', 786),\n",
       " ('min', 677),\n",
       " ('q', 621)]"
      ]
     },
     "execution_count": 73,
     "metadata": {},
     "output_type": "execute_result"
    }
   ],
   "source": [
    "negative_counts.most_common(10)"
   ]
  },
  {
   "cell_type": "code",
   "execution_count": 74,
   "metadata": {},
   "outputs": [
    {
     "data": {
      "text/plain": [
       "[('', 6287),\n",
       " ('rt', 2337),\n",
       " ('govern', 1789),\n",
       " ('mg', 1666),\n",
       " ('min', 1641),\n",
       " ('helicopter', 1234),\n",
       " ('compr', 977),\n",
       " ('calam', 958),\n",
       " ('drog', 916),\n",
       " ('dois', 892)]"
      ]
     },
     "execution_count": 74,
     "metadata": {},
     "output_type": "execute_result"
    }
   ],
   "source": [
    "total_counts.most_common(10)"
   ]
  },
  {
   "cell_type": "markdown",
   "metadata": {},
   "source": [
    "## Taxas de Positivos em relação aos Negativos\n",
    "- Para saber a correspondência de cada palavra com tweets positivos ou negativos podemos calcular uma taxa que:\n",
    "    - Positivos: tenham valores acima de 1 (numerador maior que denomidador)\n",
    "    - Negativos: tenham valores entre 0 e 1 (denominador maior que numerador)\n",
    "    - Neutro: próximo de 1 (numerador e denominador parecidos)"
   ]
  },
  {
   "cell_type": "code",
   "execution_count": 76,
   "metadata": {},
   "outputs": [],
   "source": [
    "pos_neg_ratios = Counter()\n",
    "#Calculate the ratios of positive and negative uses of the most common words\n",
    "#Consider words to be \"common\" if they've ben used at least 100 times\n",
    "for term, cnt in list(total_counts.most_common()):\n",
    "    if(cnt > 100):\n",
    "        pos_neg_ratio = positive_counts[term]/float(negative_counts[term] + 1)\n",
    "        pos_neg_ratios[term] = pos_neg_ratio"
   ]
  },
  {
   "cell_type": "code",
   "execution_count": 77,
   "metadata": {},
   "outputs": [
    {
     "data": {
      "text/plain": [
       "[('drog', 916.0),\n",
       " ('trafic', 487.0),\n",
       " ('pmmg190', 351.0),\n",
       " ('apreend', 320.0),\n",
       " ('priv', 269.0),\n",
       " ('for', 253.0),\n",
       " ('anos,', 252.0),\n",
       " ('febr', 244.5),\n",
       " ('amarel', 237.0),\n",
       " ('roub', 222.5)]"
      ]
     },
     "execution_count": 77,
     "metadata": {},
     "output_type": "execute_result"
    }
   ],
   "source": [
    "pos_neg_ratios.most_common(10)"
   ]
  },
  {
   "cell_type": "code",
   "execution_count": 78,
   "metadata": {},
   "outputs": [
    {
     "name": "stdout",
     "output_type": "stream",
     "text": [
      "Pos-to-neg ratio for 'drog' = 916.000\n"
     ]
    }
   ],
   "source": [
    "print(\"Pos-to-neg ratio for 'drog' = {:.3f}\".format(pos_neg_ratios[\"drog\"]))"
   ]
  },
  {
   "cell_type": "markdown",
   "metadata": {},
   "source": [
    "### Normalização de taxa para valores positivos e negativos e linearização"
   ]
  },
  {
   "cell_type": "code",
   "execution_count": 79,
   "metadata": {},
   "outputs": [],
   "source": [
    "# convert ratios to Logs\n",
    "for word, ratio in pos_neg_ratios.most_common():\n",
    "    if (ratio > 1):\n",
    "        pos_neg_ratios[word] = np.log(ratio)\n",
    "    elif(ratio < 1):\n",
    "        pos_neg_ratios[word] = -np.log(1/(ratio+0.01))\n",
    "    else:\n",
    "        pos_neg_ratios[word] = 0"
   ]
  },
  {
   "cell_type": "code",
   "execution_count": 84,
   "metadata": {},
   "outputs": [
    {
     "name": "stdout",
     "output_type": "stream",
     "text": [
      "Pos-to-neg ratio for 'drog' = 6.820\n",
      "Pos-to-neg ratio for 'trafic' = 6.188\n"
     ]
    }
   ],
   "source": [
    "print(\"Pos-to-neg ratio for 'drog' = {:.3f}\".format(pos_neg_ratios[\"drog\"]))\n",
    "print(\"Pos-to-neg ratio for 'trafic' = {:.3f}\".format(pos_neg_ratios[\"trafic\"]))"
   ]
  },
  {
   "cell_type": "code",
   "execution_count": 86,
   "metadata": {},
   "outputs": [
    {
     "data": {
      "text/plain": [
       "[('compr', -4.605170185988092),\n",
       " ('calam', -4.605170185988092),\n",
       " ('financeira,', -4.605170185988092),\n",
       " ('financeir', -4.605170185988092),\n",
       " ('pau', -4.605170185988092),\n",
       " ('canalhic', -4.605170185988092),\n",
       " ('anapaulavol', -4.605170185988092),\n",
       " ('viv', -4.605170185988092),\n",
       " ('estado.\\n\\n', -4.605170185988092),\n",
       " ('bb', -4.605170185988092),\n",
       " ('judicial', -4.605170185988092),\n",
       " ('21,8', -4.605170185988092),\n",
       " ('calamidade,', -4.605170185988092),\n",
       " ('uolnotic', -4.605170185988092),\n",
       " ('helicopteros.', -4.605170185988092)]"
      ]
     },
     "execution_count": 86,
     "metadata": {},
     "output_type": "execute_result"
    }
   ],
   "source": [
    "pos_neg_ratios.most_common()[-15:]"
   ]
  },
  {
   "cell_type": "markdown",
   "metadata": {},
   "source": [
    "# Visualização do Score de dos termos"
   ]
  },
  {
   "cell_type": "code",
   "execution_count": 88,
   "metadata": {},
   "outputs": [
    {
     "data": {
      "text/html": [
       "<div>\n",
       "<style scoped>\n",
       "    .dataframe tbody tr th:only-of-type {\n",
       "        vertical-align: middle;\n",
       "    }\n",
       "\n",
       "    .dataframe tbody tr th {\n",
       "        vertical-align: top;\n",
       "    }\n",
       "\n",
       "    .dataframe thead th {\n",
       "        text-align: right;\n",
       "    }\n",
       "</style>\n",
       "<table border=\"1\" class=\"dataframe\">\n",
       "  <thead>\n",
       "    <tr style=\"text-align: right;\">\n",
       "      <th></th>\n",
       "      <th>Term</th>\n",
       "      <th>Score</th>\n",
       "    </tr>\n",
       "  </thead>\n",
       "  <tbody>\n",
       "    <tr>\n",
       "      <th>0</th>\n",
       "      <td></td>\n",
       "      <td>0.614010</td>\n",
       "    </tr>\n",
       "    <tr>\n",
       "      <th>1</th>\n",
       "      <td>rt</td>\n",
       "      <td>-1.017645</td>\n",
       "    </tr>\n",
       "    <tr>\n",
       "      <th>2</th>\n",
       "      <td>govern</td>\n",
       "      <td>-1.669152</td>\n",
       "    </tr>\n",
       "    <tr>\n",
       "      <th>3</th>\n",
       "      <td>mg</td>\n",
       "      <td>-0.635635</td>\n",
       "    </tr>\n",
       "    <tr>\n",
       "      <th>4</th>\n",
       "      <td>min</td>\n",
       "      <td>0.351944</td>\n",
       "    </tr>\n",
       "  </tbody>\n",
       "</table>\n",
       "</div>"
      ],
      "text/plain": [
       "     Term     Score\n",
       "0          0.614010\n",
       "1      rt -1.017645\n",
       "2  govern -1.669152\n",
       "3      mg -0.635635\n",
       "4     min  0.351944"
      ]
     },
     "execution_count": 88,
     "metadata": {},
     "output_type": "execute_result"
    }
   ],
   "source": [
    "df_pos_neg_ratios = pd.DataFrame.from_dict(pos_neg_ratios, orient='index').reset_index()\n",
    "df_pos_neg_ratios.columns=['Term','Score']\n",
    "df_pos_neg_ratios.head()"
   ]
  },
  {
   "cell_type": "code",
   "execution_count": 90,
   "metadata": {},
   "outputs": [
    {
     "data": {
      "text/plain": [
       "<matplotlib.axes._subplots.AxesSubplot at 0x7f5b0af935f8>"
      ]
     },
     "execution_count": 90,
     "metadata": {},
     "output_type": "execute_result"
    },
    {
     "data": {
      "image/png": "[encoded data removed]",
      "text/plain": [
       "<Figure size 720x1440 with 1 Axes>"
      ]
     },
     "metadata": {
      "needs_background": "light"
     },
     "output_type": "display_data"
    }
   ],
   "source": [
    "import seaborn as sns\n",
    "from matplotlib import pyplot\n",
    "fig, ax = pyplot.subplots(figsize=(10,20))\n",
    "sns.barplot(ax = ax, y = \"Term\", x = \"Score\", data = df_pos_neg_ratios.sort_values([\"Score\"]))"
   ]
  },
  {
   "cell_type": "code",
   "execution_count": 92,
   "metadata": {},
   "outputs": [],
   "source": [
    "def get_scores (sentence, pos_neg_ratios):\n",
    "    keys = pos_neg_ratios.keys()\n",
    "    words = [word for word in sentence.split(' ') if word in keys]\n",
    "    word_scores = [ pos_neg_ratios[word] for word in words]\n",
    "    return word_scores"
   ]
  },
  {
   "cell_type": "code",
   "execution_count": 93,
   "metadata": {},
   "outputs": [
    {
     "name": "stdout",
     "output_type": "stream",
     "text": [
      "Text:defesaagropecu govern min ger apost arranj produt loc ritd \n",
      "Scores:[-1.669  0.352  0.772  0.614]\n",
      "\n",
      "Text:ebc govern min investig cas suspeit febr amarel mal estad \n",
      "Scores:[-1.669  0.352  3.418  5.283  5.499  5.468 -0.821  0.614]\n",
      "\n",
      "Text:min vai dobr ofert trabalh estud presidi estado\n",
      "\n",
      "Scores:[ 0.352 -1.693  4.898]\n",
      "\n",
      "Text:min vai dobr ofert trabalh estud presidi estado\n",
      "\n",
      "Scores:[ 0.352 -1.693  4.898]\n",
      "\n",
      "Text:sus min ger receb recurs maxim disponibiliz govern federal aco vigilanciasanitaria... \n",
      "Scores:[ 0.352  0.772  1.379 -3.664 -1.669  0.614]\n",
      "\n"
     ]
    }
   ],
   "source": [
    "for i in range(5):\n",
    "    print('Text:{}'.format(dfnew.Text[i]))\n",
    "    scores = get_scores(dfnew.Text[i], pos_neg_ratios)\n",
    "    print('Scores:{}\\n'.format(np.around(scores,3)))"
   ]
  },
  {
   "cell_type": "code",
   "execution_count": 97,
   "metadata": {},
   "outputs": [],
   "source": [
    "def predict(sentence):\n",
    "    scores = get_scores(sentence, pos_neg_ratios)\n",
    "    score = sum(scores)\n",
    "    if(score > 0):\n",
    "        return 'Positivo'\n",
    "    else:\n",
    "        return 'Negativo'"
   ]
  },
  {
   "cell_type": "code",
   "execution_count": 98,
   "metadata": {},
   "outputs": [
    {
     "name": "stdout",
     "output_type": "stream",
     "text": [
      "Predicted: Positivo ; Text: defesaagropecu govern min ger apost arranj produt \n",
      "Predicted: Positivo ; Text: ebc govern min investig cas suspeit febr amarel ma\n",
      "Predicted: Positivo ; Text: min vai dobr ofert trabalh estud presidi estado\n",
      "\n",
      "Predicted: Positivo ; Text: min vai dobr ofert trabalh estud presidi estado\n",
      "\n",
      "Predicted: Negativo ; Text: sus min ger receb recurs maxim disponibiliz govern\n",
      "Predicted: Negativo ; Text: diegocabral75 exam ai mg, ta td bem pimentel cad d\n",
      "Predicted: Positivo ; Text: israelmass ferrisss jornaloglob men 1 cois p orgul\n",
      "Predicted: Negativo ; Text: madeleinelacsk em mg sp,o estad razoavel control s\n",
      "Predicted: Negativo ; Text: madonegatt mg melhor estad\n",
      "Predicted: Negativo ; Text: mrsincer klyfor mblivr mblivrebh min govern 2003 2\n"
     ]
    }
   ],
   "source": [
    "for i in range(10):\n",
    "    print('Predicted:', predict(dfnew.Text[i]),'; Text:',dfnew.Text[i] [:50])"
   ]
  },
  {
   "cell_type": "markdown",
   "metadata": {},
   "source": [
    "# Classificando todas as sentenças na base de dados\n",
    "## Forma 1"
   ]
  },
  {
   "cell_type": "code",
   "execution_count": 100,
   "metadata": {},
   "outputs": [],
   "source": [
    "dfnew['Predicted'] = [predict(sentence) for sentence in dfnew.Text]"
   ]
  },
  {
   "cell_type": "code",
   "execution_count": 101,
   "metadata": {},
   "outputs": [],
   "source": [
    "dfnew['Predicted'] = dfnew.Text.apply(predict)"
   ]
  },
  {
   "cell_type": "code",
   "execution_count": 102,
   "metadata": {},
   "outputs": [
    {
     "data": {
      "text/html": [
       "<div>\n",
       "<style scoped>\n",
       "    .dataframe tbody tr th:only-of-type {\n",
       "        vertical-align: middle;\n",
       "    }\n",
       "\n",
       "    .dataframe tbody tr th {\n",
       "        vertical-align: top;\n",
       "    }\n",
       "\n",
       "    .dataframe thead th {\n",
       "        text-align: right;\n",
       "    }\n",
       "</style>\n",
       "<table border=\"1\" class=\"dataframe\">\n",
       "  <thead>\n",
       "    <tr style=\"text-align: right;\">\n",
       "      <th></th>\n",
       "      <th>Text</th>\n",
       "      <th>Classificacao</th>\n",
       "      <th>Predicted</th>\n",
       "    </tr>\n",
       "  </thead>\n",
       "  <tbody>\n",
       "    <tr>\n",
       "      <th>0</th>\n",
       "      <td>defesaagropecu govern min ger apost arranj pro...</td>\n",
       "      <td>Positivo</td>\n",
       "      <td>Positivo</td>\n",
       "    </tr>\n",
       "    <tr>\n",
       "      <th>1</th>\n",
       "      <td>ebc govern min investig cas suspeit febr amare...</td>\n",
       "      <td>Positivo</td>\n",
       "      <td>Positivo</td>\n",
       "    </tr>\n",
       "    <tr>\n",
       "      <th>2</th>\n",
       "      <td>min vai dobr ofert trabalh estud presidi estado\\n</td>\n",
       "      <td>Positivo</td>\n",
       "      <td>Positivo</td>\n",
       "    </tr>\n",
       "    <tr>\n",
       "      <th>3</th>\n",
       "      <td>min vai dobr ofert trabalh estud presidi estado\\n</td>\n",
       "      <td>Positivo</td>\n",
       "      <td>Positivo</td>\n",
       "    </tr>\n",
       "    <tr>\n",
       "      <th>4</th>\n",
       "      <td>sus min ger receb recurs maxim disponibiliz go...</td>\n",
       "      <td>Positivo</td>\n",
       "      <td>Negativo</td>\n",
       "    </tr>\n",
       "    <tr>\n",
       "      <th>5</th>\n",
       "      <td>diegocabral75 exam ai mg, ta td bem pimentel c...</td>\n",
       "      <td>Positivo</td>\n",
       "      <td>Negativo</td>\n",
       "    </tr>\n",
       "    <tr>\n",
       "      <th>6</th>\n",
       "      <td>israelmass ferrisss jornaloglob men 1 cois p o...</td>\n",
       "      <td>Positivo</td>\n",
       "      <td>Positivo</td>\n",
       "    </tr>\n",
       "    <tr>\n",
       "      <th>7</th>\n",
       "      <td>madeleinelacsk em mg sp,o estad razoavel contr...</td>\n",
       "      <td>Positivo</td>\n",
       "      <td>Negativo</td>\n",
       "    </tr>\n",
       "    <tr>\n",
       "      <th>8</th>\n",
       "      <td>madonegatt mg melhor estad</td>\n",
       "      <td>Positivo</td>\n",
       "      <td>Negativo</td>\n",
       "    </tr>\n",
       "    <tr>\n",
       "      <th>9</th>\n",
       "      <td>mrsincer klyfor mblivr mblivrebh min govern 20...</td>\n",
       "      <td>Positivo</td>\n",
       "      <td>Negativo</td>\n",
       "    </tr>\n",
       "  </tbody>\n",
       "</table>\n",
       "</div>"
      ],
      "text/plain": [
       "                                                Text Classificacao Predicted\n",
       "0  defesaagropecu govern min ger apost arranj pro...      Positivo  Positivo\n",
       "1  ebc govern min investig cas suspeit febr amare...      Positivo  Positivo\n",
       "2  min vai dobr ofert trabalh estud presidi estado\\n      Positivo  Positivo\n",
       "3  min vai dobr ofert trabalh estud presidi estado\\n      Positivo  Positivo\n",
       "4  sus min ger receb recurs maxim disponibiliz go...      Positivo  Negativo\n",
       "5  diegocabral75 exam ai mg, ta td bem pimentel c...      Positivo  Negativo\n",
       "6  israelmass ferrisss jornaloglob men 1 cois p o...      Positivo  Positivo\n",
       "7  madeleinelacsk em mg sp,o estad razoavel contr...      Positivo  Negativo\n",
       "8                         madonegatt mg melhor estad      Positivo  Negativo\n",
       "9  mrsincer klyfor mblivr mblivrebh min govern 20...      Positivo  Negativo"
      ]
     },
     "execution_count": 102,
     "metadata": {},
     "output_type": "execute_result"
    }
   ],
   "source": [
    "dfnew.head(10)"
   ]
  },
  {
   "cell_type": "markdown",
   "metadata": {},
   "source": [
    "# Avaliação dos resultados"
   ]
  },
  {
   "cell_type": "code",
   "execution_count": 105,
   "metadata": {},
   "outputs": [
    {
     "data": {
      "text/plain": [
       "Predicted  False  True  __all__\n",
       "Actual                         \n",
       "False       2358    88     2446\n",
       "True         260  3040     3300\n",
       "__all__     2618  3128     5746"
      ]
     },
     "execution_count": 105,
     "metadata": {},
     "output_type": "execute_result"
    }
   ],
   "source": [
    "from pandas_ml import ConfusionMatrix\n",
    "cm = ConfusionMatrix(y_true=dfnew.Classificacao.map({'Positivo': 1, 'Negativo': 0}), y_pred=dfnew.Predicted.map({'Positivo': 1, 'Negativo': 0}))\n",
    "cm"
   ]
  },
  {
   "cell_type": "code",
   "execution_count": null,
   "metadata": {},
   "outputs": [],
   "source": []
  }
 ],
 "metadata": {
  "kernelspec": {
   "display_name": "Python 3",
   "language": "python",
   "name": "python3"
  },
  "language_info": {
   "codemirror_mode": {
    "name": "ipython",
    "version": 3
   },
   "file_extension": ".py",
   "mimetype": "text/x-python",
   "name": "python",
   "nbconvert_exporter": "python",
   "pygments_lexer": "ipython3",
   "version": "3.7.1"
  }
 },
 "nbformat": 4,
 "nbformat_minor": 2
}
