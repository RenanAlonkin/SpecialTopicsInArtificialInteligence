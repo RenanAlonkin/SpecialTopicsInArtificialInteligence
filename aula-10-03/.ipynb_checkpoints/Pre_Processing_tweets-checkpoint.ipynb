{
 "cells": [
  {
   "cell_type": "code",
   "execution_count": 35,
   "metadata": {},
   "outputs": [],
   "source": [
    "import numpy as np\n",
    "import pandas as pd\n",
    "import nltk\n",
    "import unidecode\n",
    "\n",
    "from nltk import tokenize"
   ]
  },
  {
   "cell_type": "markdown",
   "metadata": {},
   "source": [
    "def pretty_print_tweet(item):\n",
    "    print(item.Classificacao.ljust(10) + \":\\t\" + item.Text[0:60] + \"...\")"
   ]
  },
  {
   "cell_type": "code",
   "execution_count": 6,
   "metadata": {},
   "outputs": [
    {
     "data": {
      "text/html": [
       "<div>\n",
       "<style scoped>\n",
       "    .dataframe tbody tr th:only-of-type {\n",
       "        vertical-align: middle;\n",
       "    }\n",
       "\n",
       "    .dataframe tbody tr th {\n",
       "        vertical-align: top;\n",
       "    }\n",
       "\n",
       "    .dataframe thead th {\n",
       "        text-align: right;\n",
       "    }\n",
       "</style>\n",
       "<table border=\"1\" class=\"dataframe\">\n",
       "  <thead>\n",
       "    <tr style=\"text-align: right;\">\n",
       "      <th></th>\n",
       "      <th>Unnamed: 0</th>\n",
       "      <th>Created At</th>\n",
       "      <th>Text</th>\n",
       "      <th>Geo Coordinates.latitude</th>\n",
       "      <th>Geo Coordinates.longitude</th>\n",
       "      <th>User Location</th>\n",
       "      <th>Username</th>\n",
       "      <th>User Screen Name</th>\n",
       "      <th>Retweet Count</th>\n",
       "      <th>Classificacao</th>\n",
       "      <th>...</th>\n",
       "      <th>Unnamed: 15</th>\n",
       "      <th>Unnamed: 16</th>\n",
       "      <th>Unnamed: 17</th>\n",
       "      <th>Unnamed: 18</th>\n",
       "      <th>Unnamed: 19</th>\n",
       "      <th>Unnamed: 20</th>\n",
       "      <th>Unnamed: 21</th>\n",
       "      <th>Unnamed: 22</th>\n",
       "      <th>Unnamed: 23</th>\n",
       "      <th>Unnamed: 24</th>\n",
       "    </tr>\n",
       "  </thead>\n",
       "  <tbody>\n",
       "    <tr>\n",
       "      <th>0</th>\n",
       "      <td>0</td>\n",
       "      <td>Sun Jan 08 01:22:05 +0000 2017</td>\n",
       "      <td>���⛪ @ Catedral de Santo Antônio - Governador ...</td>\n",
       "      <td>NaN</td>\n",
       "      <td>NaN</td>\n",
       "      <td>Brasil</td>\n",
       "      <td>Leonardo C Schneider</td>\n",
       "      <td>LeoCSchneider</td>\n",
       "      <td>0</td>\n",
       "      <td>Neutro</td>\n",
       "      <td>...</td>\n",
       "      <td>NaN</td>\n",
       "      <td>NaN</td>\n",
       "      <td>NaN</td>\n",
       "      <td>NaN</td>\n",
       "      <td>NaN</td>\n",
       "      <td>NaN</td>\n",
       "      <td>NaN</td>\n",
       "      <td>NaN</td>\n",
       "      <td>NaN</td>\n",
       "      <td>NaN</td>\n",
       "    </tr>\n",
       "  </tbody>\n",
       "</table>\n",
       "<p>1 rows × 26 columns</p>\n",
       "</div>"
      ],
      "text/plain": [
       "   Unnamed: 0                      Created At  \\\n",
       "0           0  Sun Jan 08 01:22:05 +0000 2017   \n",
       "\n",
       "                                                Text  \\\n",
       "0  ���⛪ @ Catedral de Santo Antônio - Governador ...   \n",
       "\n",
       "   Geo Coordinates.latitude  Geo Coordinates.longitude User Location  \\\n",
       "0                       NaN                        NaN        Brasil   \n",
       "\n",
       "               Username User Screen Name  Retweet Count Classificacao  \\\n",
       "0  Leonardo C Schneider    LeoCSchneider              0        Neutro   \n",
       "\n",
       "      ...      Unnamed: 15  Unnamed: 16  Unnamed: 17  Unnamed: 18  \\\n",
       "0     ...              NaN          NaN          NaN          NaN   \n",
       "\n",
       "   Unnamed: 19  Unnamed: 20  Unnamed: 21  Unnamed: 22  Unnamed: 23  \\\n",
       "0          NaN          NaN          NaN          NaN          NaN   \n",
       "\n",
       "   Unnamed: 24  \n",
       "0          NaN  \n",
       "\n",
       "[1 rows x 26 columns]"
      ]
     },
     "execution_count": 6,
     "metadata": {},
     "output_type": "execute_result"
    }
   ],
   "source": [
    "df = pd.read_csv('data/Tweets_Mg.csv', encoding='utf-8')\n",
    "df_orig = df\n",
    "df.head(1)"
   ]
  },
  {
   "cell_type": "code",
   "execution_count": 8,
   "metadata": {},
   "outputs": [
    {
     "data": {
      "text/html": [
       "<div>\n",
       "<style scoped>\n",
       "    .dataframe tbody tr th:only-of-type {\n",
       "        vertical-align: middle;\n",
       "    }\n",
       "\n",
       "    .dataframe tbody tr th {\n",
       "        vertical-align: top;\n",
       "    }\n",
       "\n",
       "    .dataframe thead th {\n",
       "        text-align: right;\n",
       "    }\n",
       "</style>\n",
       "<table border=\"1\" class=\"dataframe\">\n",
       "  <thead>\n",
       "    <tr style=\"text-align: right;\">\n",
       "      <th></th>\n",
       "      <th>Unnamed: 0</th>\n",
       "      <th>Created At</th>\n",
       "      <th>Text</th>\n",
       "      <th>Geo Coordinates.latitude</th>\n",
       "      <th>Geo Coordinates.longitude</th>\n",
       "      <th>User Location</th>\n",
       "      <th>Username</th>\n",
       "      <th>User Screen Name</th>\n",
       "      <th>Retweet Count</th>\n",
       "      <th>Classificacao</th>\n",
       "      <th>...</th>\n",
       "      <th>Unnamed: 15</th>\n",
       "      <th>Unnamed: 16</th>\n",
       "      <th>Unnamed: 17</th>\n",
       "      <th>Unnamed: 18</th>\n",
       "      <th>Unnamed: 19</th>\n",
       "      <th>Unnamed: 20</th>\n",
       "      <th>Unnamed: 21</th>\n",
       "      <th>Unnamed: 22</th>\n",
       "      <th>Unnamed: 23</th>\n",
       "      <th>Unnamed: 24</th>\n",
       "    </tr>\n",
       "  </thead>\n",
       "  <tbody>\n",
       "    <tr>\n",
       "      <th>1</th>\n",
       "      <td>1</td>\n",
       "      <td>Sun Jan 08 01:49:01 +0000 2017</td>\n",
       "      <td>� @ Governador Valadares, Minas Gerais https:/...</td>\n",
       "      <td>-41.9333</td>\n",
       "      <td>-18.85</td>\n",
       "      <td>NaN</td>\n",
       "      <td>Wândell</td>\n",
       "      <td>klefnews</td>\n",
       "      <td>0</td>\n",
       "      <td>Neutro</td>\n",
       "      <td>...</td>\n",
       "      <td>NaN</td>\n",
       "      <td>NaN</td>\n",
       "      <td>NaN</td>\n",
       "      <td>NaN</td>\n",
       "      <td>NaN</td>\n",
       "      <td>NaN</td>\n",
       "      <td>NaN</td>\n",
       "      <td>NaN</td>\n",
       "      <td>NaN</td>\n",
       "      <td>NaN</td>\n",
       "    </tr>\n",
       "    <tr>\n",
       "      <th>10</th>\n",
       "      <td>10</td>\n",
       "      <td>Mon Jan 09 15:09:31 +0000 2017</td>\n",
       "      <td>\"Daí a gente visita governador valadares\"\\n\"Qu...</td>\n",
       "      <td>NaN</td>\n",
       "      <td>NaN</td>\n",
       "      <td>error 404 location not found</td>\n",
       "      <td>gambim</td>\n",
       "      <td>marina_gambim</td>\n",
       "      <td>0</td>\n",
       "      <td>Neutro</td>\n",
       "      <td>...</td>\n",
       "      <td>NaN</td>\n",
       "      <td>NaN</td>\n",
       "      <td>NaN</td>\n",
       "      <td>NaN</td>\n",
       "      <td>NaN</td>\n",
       "      <td>NaN</td>\n",
       "      <td>NaN</td>\n",
       "      <td>NaN</td>\n",
       "      <td>NaN</td>\n",
       "      <td>NaN</td>\n",
       "    </tr>\n",
       "    <tr>\n",
       "      <th>30</th>\n",
       "      <td>30</td>\n",
       "      <td>Fri Jan 06 11:02:14 +0000 2017</td>\n",
       "      <td>#beta #betalab #mg Afiliada da Globo: Apresent...</td>\n",
       "      <td>NaN</td>\n",
       "      <td>NaN</td>\n",
       "      <td>NaN</td>\n",
       "      <td>Guilherme # Beta</td>\n",
       "      <td>guilhermecorde</td>\n",
       "      <td>0</td>\n",
       "      <td>Neutro</td>\n",
       "      <td>...</td>\n",
       "      <td>NaN</td>\n",
       "      <td>NaN</td>\n",
       "      <td>NaN</td>\n",
       "      <td>NaN</td>\n",
       "      <td>NaN</td>\n",
       "      <td>NaN</td>\n",
       "      <td>NaN</td>\n",
       "      <td>NaN</td>\n",
       "      <td>NaN</td>\n",
       "      <td>NaN</td>\n",
       "    </tr>\n",
       "  </tbody>\n",
       "</table>\n",
       "<p>3 rows × 26 columns</p>\n",
       "</div>"
      ],
      "text/plain": [
       "    Unnamed: 0                      Created At  \\\n",
       "1            1  Sun Jan 08 01:49:01 +0000 2017   \n",
       "10          10  Mon Jan 09 15:09:31 +0000 2017   \n",
       "30          30  Fri Jan 06 11:02:14 +0000 2017   \n",
       "\n",
       "                                                 Text  \\\n",
       "1   � @ Governador Valadares, Minas Gerais https:/...   \n",
       "10  \"Daí a gente visita governador valadares\"\\n\"Qu...   \n",
       "30  #beta #betalab #mg Afiliada da Globo: Apresent...   \n",
       "\n",
       "    Geo Coordinates.latitude  Geo Coordinates.longitude  \\\n",
       "1                   -41.9333                     -18.85   \n",
       "10                       NaN                        NaN   \n",
       "30                       NaN                        NaN   \n",
       "\n",
       "                   User Location          Username User Screen Name  \\\n",
       "1                            NaN           Wândell         klefnews   \n",
       "10  error 404 location not found            gambim    marina_gambim   \n",
       "30                           NaN  Guilherme # Beta   guilhermecorde   \n",
       "\n",
       "    Retweet Count Classificacao     ...      Unnamed: 15  Unnamed: 16  \\\n",
       "1               0        Neutro     ...              NaN          NaN   \n",
       "10              0        Neutro     ...              NaN          NaN   \n",
       "30              0        Neutro     ...              NaN          NaN   \n",
       "\n",
       "    Unnamed: 17  Unnamed: 18  Unnamed: 19  Unnamed: 20  Unnamed: 21  \\\n",
       "1           NaN          NaN          NaN          NaN          NaN   \n",
       "10          NaN          NaN          NaN          NaN          NaN   \n",
       "30          NaN          NaN          NaN          NaN          NaN   \n",
       "\n",
       "    Unnamed: 22  Unnamed: 23  Unnamed: 24  \n",
       "1           NaN          NaN          NaN  \n",
       "10          NaN          NaN          NaN  \n",
       "30          NaN          NaN          NaN  \n",
       "\n",
       "[3 rows x 26 columns]"
      ]
     },
     "execution_count": 8,
     "metadata": {},
     "output_type": "execute_result"
    }
   ],
   "source": [
    "df.loc[[1,10,30]]"
   ]
  },
  {
   "cell_type": "code",
   "execution_count": 9,
   "metadata": {},
   "outputs": [
    {
     "name": "stdout",
     "output_type": "stream",
     "text": [
      "<class 'pandas.core.frame.DataFrame'>\n",
      "RangeIndex: 8199 entries, 0 to 8198\n",
      "Data columns (total 26 columns):\n",
      "Unnamed: 0                   8199 non-null int64\n",
      "Created At                   8199 non-null object\n",
      "Text                         8199 non-null object\n",
      "Geo Coordinates.latitude     104 non-null float64\n",
      "Geo Coordinates.longitude    104 non-null float64\n",
      "User Location                5489 non-null object\n",
      "Username                     8199 non-null object\n",
      "User Screen Name             8199 non-null object\n",
      "Retweet Count                8199 non-null int64\n",
      "Classificacao                8199 non-null object\n",
      "Observação                   1 non-null object\n",
      "Unnamed: 10                  0 non-null float64\n",
      "Unnamed: 11                  0 non-null float64\n",
      "Unnamed: 12                  0 non-null float64\n",
      "Unnamed: 13                  0 non-null float64\n",
      "Unnamed: 14                  0 non-null float64\n",
      "Unnamed: 15                  0 non-null float64\n",
      "Unnamed: 16                  0 non-null float64\n",
      "Unnamed: 17                  0 non-null float64\n",
      "Unnamed: 18                  0 non-null float64\n",
      "Unnamed: 19                  0 non-null float64\n",
      "Unnamed: 20                  0 non-null float64\n",
      "Unnamed: 21                  0 non-null float64\n",
      "Unnamed: 22                  0 non-null float64\n",
      "Unnamed: 23                  0 non-null float64\n",
      "Unnamed: 24                  0 non-null float64\n",
      "dtypes: float64(17), int64(2), object(7)\n",
      "memory usage: 1.6+ MB\n"
     ]
    }
   ],
   "source": [
    "df.info()"
   ]
  },
  {
   "cell_type": "markdown",
   "metadata": {},
   "source": [
    "## Remover as colunas que não serão utilizadas"
   ]
  },
  {
   "cell_type": "code",
   "execution_count": 11,
   "metadata": {},
   "outputs": [
    {
     "data": {
      "text/html": [
       "<div>\n",
       "<style scoped>\n",
       "    .dataframe tbody tr th:only-of-type {\n",
       "        vertical-align: middle;\n",
       "    }\n",
       "\n",
       "    .dataframe tbody tr th {\n",
       "        vertical-align: top;\n",
       "    }\n",
       "\n",
       "    .dataframe thead th {\n",
       "        text-align: right;\n",
       "    }\n",
       "</style>\n",
       "<table border=\"1\" class=\"dataframe\">\n",
       "  <thead>\n",
       "    <tr style=\"text-align: right;\">\n",
       "      <th></th>\n",
       "      <th>Text</th>\n",
       "      <th>Classificacao</th>\n",
       "    </tr>\n",
       "  </thead>\n",
       "  <tbody>\n",
       "    <tr>\n",
       "      <th>0</th>\n",
       "      <td>���⛪ @ Catedral de Santo Antônio - Governador ...</td>\n",
       "      <td>Neutro</td>\n",
       "    </tr>\n",
       "    <tr>\n",
       "      <th>1</th>\n",
       "      <td>� @ Governador Valadares, Minas Gerais https:/...</td>\n",
       "      <td>Neutro</td>\n",
       "    </tr>\n",
       "    <tr>\n",
       "      <th>2</th>\n",
       "      <td>�� @ Governador Valadares, Minas Gerais https:...</td>\n",
       "      <td>Neutro</td>\n",
       "    </tr>\n",
       "    <tr>\n",
       "      <th>3</th>\n",
       "      <td>��� https://t.co/BnDsO34qK0</td>\n",
       "      <td>Neutro</td>\n",
       "    </tr>\n",
       "    <tr>\n",
       "      <th>4</th>\n",
       "      <td>��� PSOL vai questionar aumento de vereadores ...</td>\n",
       "      <td>Negativo</td>\n",
       "    </tr>\n",
       "  </tbody>\n",
       "</table>\n",
       "</div>"
      ],
      "text/plain": [
       "                                                Text Classificacao\n",
       "0  ���⛪ @ Catedral de Santo Antônio - Governador ...        Neutro\n",
       "1  � @ Governador Valadares, Minas Gerais https:/...        Neutro\n",
       "2  �� @ Governador Valadares, Minas Gerais https:...        Neutro\n",
       "3                        ��� https://t.co/BnDsO34qK0        Neutro\n",
       "4  ��� PSOL vai questionar aumento de vereadores ...      Negativo"
      ]
     },
     "execution_count": 11,
     "metadata": {},
     "output_type": "execute_result"
    }
   ],
   "source": [
    "df = df[['Text','Classificacao']]\n",
    "df.head()"
   ]
  },
  {
   "cell_type": "code",
   "execution_count": 14,
   "metadata": {},
   "outputs": [
    {
     "name": "stdout",
     "output_type": "stream",
     "text": [
      "Neutro    :\t���⛪ @ Catedral de Santo Antônio - Governador Valadares/MG h...\n",
      "Neutro    :\t� @ Governador Valadares, Minas Gerais https://t.co/B3ThIDJC...\n",
      "Neutro    :\t�� @ Governador Valadares, Minas Gerais https://t.co/dPkgzVR...\n",
      "Neutro    :\t��� https://t.co/BnDsO34qK0...\n",
      "Negativo  :\t��� PSOL vai questionar aumento de vereadores e prefeito de ...\n",
      "Neutro    :\t\" bom é bandido morto\"\n",
      "Deputado Cabo Júlio é condenado e fic...\n",
      "Neutro    :\t\"..E 25% dos mineiros dizem não torcer para time nenhum,mesm...\n",
      "Neutro    :\t\"A gigantesca barba do mal\" em destaque no caderno Cultura d...\n",
      "Negativo  :\t\"BB e governo de Minas travam disputa sobre depósitos judici...\n",
      "Neutro    :\t\"com vcs bh fica pequena!\" Belo Horizonte (pron. [bɛloɾiˈzõn...\n"
     ]
    }
   ],
   "source": [
    "for i in range(10):\n",
    "    pretty_print_tweet(df.loc[i])"
   ]
  },
  {
   "cell_type": "markdown",
   "metadata": {},
   "source": [
    "## Contagem do número de tweets por categoria"
   ]
  },
  {
   "cell_type": "code",
   "execution_count": 15,
   "metadata": {},
   "outputs": [
    {
     "data": {
      "text/html": [
       "<div>\n",
       "<style scoped>\n",
       "    .dataframe tbody tr th:only-of-type {\n",
       "        vertical-align: middle;\n",
       "    }\n",
       "\n",
       "    .dataframe tbody tr th {\n",
       "        vertical-align: top;\n",
       "    }\n",
       "\n",
       "    .dataframe thead th {\n",
       "        text-align: right;\n",
       "    }\n",
       "</style>\n",
       "<table border=\"1\" class=\"dataframe\">\n",
       "  <thead>\n",
       "    <tr style=\"text-align: right;\">\n",
       "      <th></th>\n",
       "      <th>Text</th>\n",
       "    </tr>\n",
       "    <tr>\n",
       "      <th>Classificacao</th>\n",
       "      <th></th>\n",
       "    </tr>\n",
       "  </thead>\n",
       "  <tbody>\n",
       "    <tr>\n",
       "      <th>Negativo</th>\n",
       "      <td>2446</td>\n",
       "    </tr>\n",
       "    <tr>\n",
       "      <th>Neutro</th>\n",
       "      <td>2453</td>\n",
       "    </tr>\n",
       "    <tr>\n",
       "      <th>Positivo</th>\n",
       "      <td>3300</td>\n",
       "    </tr>\n",
       "  </tbody>\n",
       "</table>\n",
       "</div>"
      ],
      "text/plain": [
       "               Text\n",
       "Classificacao      \n",
       "Negativo       2446\n",
       "Neutro         2453\n",
       "Positivo       3300"
      ]
     },
     "execution_count": 15,
     "metadata": {},
     "output_type": "execute_result"
    }
   ],
   "source": [
    "df.groupby('Classificacao').count()"
   ]
  },
  {
   "cell_type": "markdown",
   "metadata": {},
   "source": [
    "## Separar os elementos baseado na classificação"
   ]
  },
  {
   "cell_type": "code",
   "execution_count": 17,
   "metadata": {},
   "outputs": [],
   "source": [
    "df_neg = df.query('Classificacao == \"Negativo\"')\n",
    "df_pos = df.query('Classificacao == \"Positivo\"')\n",
    "df_neu = df.query('Classificacao == \"Neutro\"')"
   ]
  },
  {
   "cell_type": "markdown",
   "metadata": {},
   "source": [
    "## Negativos"
   ]
  },
  {
   "cell_type": "code",
   "execution_count": 18,
   "metadata": {},
   "outputs": [
    {
     "name": "stdout",
     "output_type": "stream",
     "text": [
      "Negativo  :\t��� PSOL vai questionar aumento de vereadores e prefeito de ...\n",
      "Negativo  :\t\"BB e governo de Minas travam disputa sobre depósitos judici...\n",
      "Negativo  :\t\"erro desconhecido\" é mato! Aliás, é da secretaria estadual ...\n",
      "Negativo  :\t\"Mesmo sem muito dinheiro no caixa o governo de Minas Gerais...\n",
      "Negativo  :\t\"uso de aeronave pertencente ao  Estado de MG, em domingo, p...\n"
     ]
    }
   ],
   "source": [
    "for i in range(5):\n",
    "    pretty_print_tweet(df_neg.reset_index().loc[i])"
   ]
  },
  {
   "cell_type": "markdown",
   "metadata": {},
   "source": [
    "## Positivos"
   ]
  },
  {
   "cell_type": "code",
   "execution_count": 19,
   "metadata": {},
   "outputs": [
    {
     "name": "stdout",
     "output_type": "stream",
     "text": [
      "Positivo  :\t#DefesaAgropecuária \"Governo de Minas Gerais aposta nos Arra...\n",
      "Positivo  :\t#EBC Governo de Minas investiga casos suspeitos de febre ama...\n",
      "Positivo  :\t#Minas vai dobrar oferta de trabalho e estudo nos #presídios...\n",
      "Positivo  :\t#Minas vai dobrar oferta de trabalho e estudo nos #presídios...\n",
      "Positivo  :\t#SUS Minas Gerais recebe recurso máximo disponibilizado pelo...\n"
     ]
    }
   ],
   "source": [
    "for i in range(5):\n",
    "    pretty_print_tweet(df_pos.reset_index().loc[i])"
   ]
  },
  {
   "cell_type": "markdown",
   "metadata": {},
   "source": [
    "## Neutros"
   ]
  },
  {
   "cell_type": "code",
   "execution_count": 20,
   "metadata": {},
   "outputs": [
    {
     "name": "stdout",
     "output_type": "stream",
     "text": [
      "Neutro    :\t���⛪ @ Catedral de Santo Antônio - Governador Valadares/MG h...\n",
      "Neutro    :\t� @ Governador Valadares, Minas Gerais https://t.co/B3ThIDJC...\n",
      "Neutro    :\t�� @ Governador Valadares, Minas Gerais https://t.co/dPkgzVR...\n",
      "Neutro    :\t��� https://t.co/BnDsO34qK0...\n",
      "Neutro    :\t\" bom é bandido morto\"\n",
      "Deputado Cabo Júlio é condenado e fic...\n"
     ]
    }
   ],
   "source": [
    "for i in range(5):\n",
    "    pretty_print_tweet(df_neu.reset_index().loc[i])"
   ]
  },
  {
   "cell_type": "markdown",
   "metadata": {},
   "source": [
    "# Pre-processamento dos tweets"
   ]
  },
  {
   "cell_type": "markdown",
   "metadata": {},
   "source": [
    "A funcao `remover_acentos` é aplicada a cada tupla do DataFrame na coluna text, usando a função `apply`."
   ]
  },
  {
   "cell_type": "code",
   "execution_count": 22,
   "metadata": {},
   "outputs": [],
   "source": [
    "def remover_acentos(texto):\n",
    "    return unidecode.unidecode(texto)"
   ]
  },
  {
   "cell_type": "code",
   "execution_count": 23,
   "metadata": {},
   "outputs": [],
   "source": [
    "df.Text = df.Text.apply(remover_acentos)"
   ]
  },
  {
   "cell_type": "code",
   "execution_count": 24,
   "metadata": {},
   "outputs": [
    {
     "name": "stdout",
     "output_type": "stream",
     "text": [
      "Neutro    :\t[?] @ Catedral de Santo Antonio - Governador Valadares/MG ht...\n",
      "Neutro    :\t @ Governador Valadares, Minas Gerais https://t.co/B3ThIDJCS...\n",
      "Neutro    :\t @ Governador Valadares, Minas Gerais https://t.co/dPkgzVR2Q...\n",
      "Neutro    :\t https://t.co/BnDsO34qK0...\n",
      "Negativo  :\t PSOL vai questionar aumento de vereadores e prefeito de BH ...\n",
      "Neutro    :\t\" bom e bandido morto\"\n",
      "Deputado Cabo Julio e condenado e fic...\n",
      "Neutro    :\t\"..E 25% dos mineiros dizem nao torcer para time nenhum,mesm...\n",
      "Neutro    :\t\"A gigantesca barba do mal\" em destaque no caderno Cultura d...\n",
      "Negativo  :\t\"BB e governo de Minas travam disputa sobre depositos judici...\n",
      "Neutro    :\t\"com vcs bh fica pequena!\" Belo Horizonte (pron. [belori'zon...\n"
     ]
    }
   ],
   "source": [
    "for i in range(10):\n",
    "    pretty_print_tweet(df.loc[i])"
   ]
  },
  {
   "cell_type": "markdown",
   "metadata": {},
   "source": [
    "- Remoção de endereço de website\n",
    "- remoção de caracteres que não são letras, numeros, espaços , virgulas ou pontos"
   ]
  },
  {
   "cell_type": "code",
   "execution_count": 25,
   "metadata": {},
   "outputs": [],
   "source": [
    "regex_to_replace = {r'https?:\\/\\/.*[\\r\\n]*':'', '[^a-zA-Z0-9\\s,.]+' : ''}"
   ]
  },
  {
   "cell_type": "code",
   "execution_count": 26,
   "metadata": {},
   "outputs": [],
   "source": [
    "df.Text = df.Text.replace(regex_to_replace, regex = True)"
   ]
  },
  {
   "cell_type": "code",
   "execution_count": 27,
   "metadata": {},
   "outputs": [
    {
     "name": "stdout",
     "output_type": "stream",
     "text": [
      "Neutro    :\t  Catedral de Santo Antonio  Governador ValadaresMG ...\n",
      "Neutro    :\t  Governador Valadares, Minas Gerais ...\n",
      "Neutro    :\t  Governador Valadares, Minas Gerais ...\n",
      "Neutro    :\t ...\n",
      "Negativo  :\t PSOL vai questionar aumento de vereadores e prefeito de BH ...\n",
      "Neutro    :\t bom e bandido morto\n",
      "Deputado Cabo Julio e condenado e fica ...\n",
      "Neutro    :\t..E 25 dos mineiros dizem nao torcer para time nenhum,mesmo ...\n",
      "Neutro    :\tA gigantesca barba do mal em destaque no caderno Cultura do ...\n",
      "Negativo  :\tBB e governo de Minas travam disputa sobre depositos judicia...\n",
      "Neutro    :\tcom vcs bh fica pequena Belo Horizonte pron. belorizontSi10 ...\n"
     ]
    }
   ],
   "source": [
    "for i in range(10):\n",
    "    pretty_print_tweet(df.loc[i])"
   ]
  },
  {
   "cell_type": "markdown",
   "metadata": {},
   "source": [
    "## Remoção de Stopwords"
   ]
  },
  {
   "cell_type": "code",
   "execution_count": 29,
   "metadata": {},
   "outputs": [],
   "source": [
    "def remove_stopwords(sentence, language=\"portuguese\"):\n",
    "    from nltk.corpus import stopwords\n",
    "    #Split sentence into words\n",
    "    words = sentence.split(' ')\n",
    "    #Get the stopwords\n",
    "    stopwords = stopwords.words(language)\n",
    "    words_new = [word for word in words if word not in stopwords]\n",
    "    #impode words into a sentence and return\n",
    "    return ' '.join(words_new)"
   ]
  },
  {
   "cell_type": "code",
   "execution_count": 30,
   "metadata": {},
   "outputs": [],
   "source": [
    "df['Text'] = df['Text'].apply(remove_stopwords)"
   ]
  },
  {
   "cell_type": "code",
   "execution_count": 31,
   "metadata": {},
   "outputs": [
    {
     "name": "stdout",
     "output_type": "stream",
     "text": [
      "Neutro    :\t  Catedral Santo Antonio  Governador ValadaresMG ...\n",
      "Neutro    :\t  Governador Valadares, Minas Gerais ...\n",
      "Neutro    :\t  Governador Valadares, Minas Gerais ...\n",
      "Neutro    :\t ...\n",
      "Negativo  :\t PSOL vai questionar aumento vereadores prefeito BH Justica ...\n",
      "Neutro    :\t bom bandido morto\n",
      "Deputado Cabo Julio condenado fica ineleg...\n",
      "Neutro    :\t..E 25 mineiros dizem nao torcer time nenhum,mesmo dentro es...\n",
      "Neutro    :\tA gigantesca barba mal destaque caderno Cultura Estado Minas...\n",
      "Negativo  :\tBB governo Minas travam disputa sobre depositos judiciais ...\n",
      "Neutro    :\tvcs bh fica pequena Belo Horizonte pron. belorizontSi10 capi...\n"
     ]
    }
   ],
   "source": [
    "for i in range(10):\n",
    "    pretty_print_tweet(df.loc[i])"
   ]
  },
  {
   "cell_type": "markdown",
   "metadata": {},
   "source": [
    "## Aplicação de Stemmings"
   ]
  },
  {
   "cell_type": "code",
   "execution_count": 32,
   "metadata": {},
   "outputs": [],
   "source": [
    "def stem_sentence(sentence, language = \"portuguese\"):\n",
    "    from nltk.stem.snowball import SnowballStemmer\n",
    "    words = sentence.split(' ')\n",
    "    #Stem words\n",
    "    stemmer = SnowballStemmer(language)\n",
    "    words_stem = [stemmer.stem(word) for word in words]\n",
    "    #impode words into a sentence and return\n",
    "    return ' '.join(words_stem)"
   ]
  },
  {
   "cell_type": "code",
   "execution_count": 33,
   "metadata": {},
   "outputs": [
    {
     "name": "stdout",
     "output_type": "stream",
     "text": [
      "Neutro    :\t  catedral sant antoni  govern valadaresmg ...\n",
      "Neutro    :\t  govern valadares, min ger ...\n",
      "Neutro    :\t  govern valadares, min ger ...\n",
      "Neutro    :\t ...\n",
      "Negativo  :\t psol vai question aument vereador prefeit bh justic  polit ...\n",
      "Neutro    :\t bom band morto\n",
      "deput cab juli conden fic inelegivel 10 anos...\n",
      "Neutro    :\t..e 25 mineir diz nao torc tim nenhum,mesm dentr estad atlet...\n",
      "Neutro    :\ta gigantesc barb mal destaqu cadern cultur estad minas. ...\n",
      "Negativo  :\tbb govern min trav disput sobr deposit judic ...\n",
      "Neutro    :\tvcs bh fic pequen bel horizont pron. belorizontsi10 capital ...\n"
     ]
    }
   ],
   "source": [
    "df['Text'] = df['Text'].apply(stem_sentence)\n",
    "for i in range(10):\n",
    "    pretty_print_tweet(df.loc[i])"
   ]
  },
  {
   "cell_type": "markdown",
   "metadata": {},
   "source": [
    "## Contagem de Termos Antes / Depois do Pré-Processamento\n",
    "- Usamos uma função que explora a coluna que contém os textos, separa cada sentença em palavras, e retorna o conjunto (sem repetições) de palavras."
   ]
  },
  {
   "cell_type": "code",
   "execution_count": 39,
   "metadata": {},
   "outputs": [],
   "source": [
    "from itertools import chain\n",
    "def get_word_set(sentences):\n",
    "    words_for_sentence =  [sentence.split(' ') for sentence in sentences]\n",
    "    flatten_list = list(chain(*words_for_sentence))\n",
    "    word_set = set (flatten_list)\n",
    "    return word_set"
   ]
  },
  {
   "cell_type": "code",
   "execution_count": 41,
   "metadata": {},
   "outputs": [
    {
     "name": "stdout",
     "output_type": "stream",
     "text": [
      "Número de Termos:  16271\n"
     ]
    }
   ],
   "source": [
    "word_set_orig = get_word_set(df_orig.Text)\n",
    "print('Número de Termos: ', len(word_set_orig))"
   ]
  },
  {
   "cell_type": "code",
   "execution_count": 42,
   "metadata": {},
   "outputs": [
    {
     "name": "stdout",
     "output_type": "stream",
     "text": [
      "Número de Termos:  6639\n"
     ]
    }
   ],
   "source": [
    "word_set = get_word_set(df.Text)\n",
    "print('Número de Termos: ', len(word_set))"
   ]
  },
  {
   "cell_type": "code",
   "execution_count": 43,
   "metadata": {},
   "outputs": [
    {
     "name": "stdout",
     "output_type": "stream",
     "text": [
      "A redução de número de termos foi de 59.20%\n"
     ]
    }
   ],
   "source": [
    "ratio = 1 - len(word_set)/len(word_set_orig)\n",
    "print(\"A redução de número de termos foi de {:.2f}%\".format(ratio*100))"
   ]
  },
  {
   "cell_type": "code",
   "execution_count": null,
   "metadata": {},
   "outputs": [],
   "source": []
  }
 ],
 "metadata": {
  "kernelspec": {
   "display_name": "Python 3",
   "language": "python",
   "name": "python3"
  },
  "language_info": {
   "codemirror_mode": {
    "name": "ipython",
    "version": 3
   },
   "file_extension": ".py",
   "mimetype": "text/x-python",
   "name": "python",
   "nbconvert_exporter": "python",
   "pygments_lexer": "ipython3",
   "version": "3.7.1"
  }
 },
 "nbformat": 4,
 "nbformat_minor": 2
}
