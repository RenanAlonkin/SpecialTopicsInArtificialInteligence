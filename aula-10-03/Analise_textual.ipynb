{
 "cells": [
  {
   "cell_type": "code",
   "execution_count": 1,
   "metadata": {},
   "outputs": [],
   "source": [
    "import numpy as np\n",
    "import pandas as pd"
   ]
  },
  {
   "cell_type": "markdown",
   "metadata": {},
   "source": [
    "## Pré processamento de strings"
   ]
  },
  {
   "cell_type": "code",
   "execution_count": 2,
   "metadata": {},
   "outputs": [
    {
     "name": "stdout",
     "output_type": "stream",
     "text": [
      "Esta é uma frase com pontuação! retira a minha pontuação, por favor?\n"
     ]
    }
   ],
   "source": [
    "text = 'Esta é uma frase com pontuação! retira a minha pontuação, por favor?'\n",
    "print(text)"
   ]
  },
  {
   "cell_type": "code",
   "execution_count": 3,
   "metadata": {},
   "outputs": [
    {
     "name": "stdout",
     "output_type": "stream",
     "text": [
      "Esta é uma frase com pontuação retira a minha pontuação por favor\n"
     ]
    }
   ],
   "source": [
    "expression = '[!?,]'\n",
    "text_new = pd.Series(text).replace( expression, '', regex = True ).loc[0]\n",
    "print(text_new)"
   ]
  },
  {
   "cell_type": "code",
   "execution_count": 4,
   "metadata": {},
   "outputs": [
    {
     "name": "stdout",
     "output_type": "stream",
     "text": [
      "Estima-se que 20% dos alunos do IFSC não sabem trabalhar com expressões regulares. Será que é verdade?\n"
     ]
    }
   ],
   "source": [
    "text = 'Estima-se que 20% dos alunos do IFSC não sabem trabalhar com expressões regulares. Será que é verdade?'\n",
    "print(text)"
   ]
  },
  {
   "cell_type": "code",
   "execution_count": 5,
   "metadata": {},
   "outputs": [
    {
     "name": "stdout",
     "output_type": "stream",
     "text": [
      "Estimase que 20 dos alunos do IFSC no sabem trabalhar com expresses regulares Ser que  verdade\n"
     ]
    }
   ],
   "source": [
    "expression = '[^a-zA-Z0-9\\s]'\n",
    "text_new = pd.Series(text).replace(expression, '', regex = True).loc[0]\n",
    "print(text_new)"
   ]
  },
  {
   "cell_type": "code",
   "execution_count": 8,
   "metadata": {},
   "outputs": [
    {
     "name": "stdout",
     "output_type": "stream",
     "text": [
      "Estima-se que 20% dos alunos do IFSC nao sabem trabalhar com expressoes regulares. Sera que e verdade?\n"
     ]
    }
   ],
   "source": [
    "text = 'Estima-se que 20% dos alunos do IFSC não sabem trabalhar com expressões regulares. Será que é verdade?'\n",
    "import unidecode\n",
    "def remover_acentos(texto):\n",
    "    return unidecode.unidecode(texto)\n",
    "\n",
    "text_new = remover_acentos(text)\n",
    "print(text_new)"
   ]
  },
  {
   "cell_type": "code",
   "execution_count": 10,
   "metadata": {},
   "outputs": [
    {
     "name": "stdout",
     "output_type": "stream",
     "text": [
      "este é um site muito maneiro \n"
     ]
    }
   ],
   "source": [
    "text = 'este é um site muito maneiro https://ifsc.edu.br/'\n",
    "expression = r'https?:\\/\\/.*[\\r\\n]*'\n",
    "text_new = pd.Series(text).replace(expression, '', regex = True).loc[0]\n",
    "print(text_new)"
   ]
  },
  {
   "cell_type": "markdown",
   "metadata": {},
   "source": [
    "# Tokenização"
   ]
  },
  {
   "cell_type": "code",
   "execution_count": 20,
   "metadata": {},
   "outputs": [],
   "source": [
    "import nltk\n",
    "#nltk.download('punkt') #install portuguese language package\n",
    "from nltk import tokenize"
   ]
  },
  {
   "cell_type": "code",
   "execution_count": 15,
   "metadata": {},
   "outputs": [
    {
     "name": "stdout",
     "output_type": "stream",
     "text": [
      "['Hoje', 'é', 'um', 'dia', 'muito', 'bonito', ',', 'ótimo', 'para', 'estudar', 'text', 'Mining', '!', '!', '!', 'Teremos', 'muito', 'trabalho', '!']\n"
     ]
    }
   ],
   "source": [
    "text = \"Hoje é um dia muito bonito, ótimo para estudar text Mining!!! Teremos muito trabalho!\"\n",
    "tokens = tokenize.word_tokenize(text, language=\"portuguese\")\n",
    "print(tokens)"
   ]
  },
  {
   "cell_type": "code",
   "execution_count": 21,
   "metadata": {},
   "outputs": [
    {
     "name": "stdout",
     "output_type": "stream",
     "text": [
      "Lista de stopwords:\n",
      "['de', 'a', 'o', 'que', 'e', 'do', 'da', 'em', 'um', 'para', 'com', 'não', 'uma', 'os', 'no', 'se', 'na', 'por', 'mais', 'as', 'dos', 'como', 'mas', 'ao', 'ele', 'das', 'à', 'seu', 'sua', 'ou', 'quando', 'muito', 'nos', 'já', 'eu', 'também', 'só', 'pelo', 'pela', 'até', 'isso', 'ela', 'entre', 'depois', 'sem', 'mesmo', 'aos', 'seus', 'quem', 'nas'] ...\n"
     ]
    }
   ],
   "source": [
    "#nltk.download('stopwords')\n",
    "stopwords = nltk.corpus.stopwords.words('portuguese')\n",
    "print('Lista de stopwords:');\n",
    "print(stopwords[0:50], '...')"
   ]
  },
  {
   "cell_type": "code",
   "execution_count": 22,
   "metadata": {},
   "outputs": [],
   "source": [
    "def remove_stopwords(sentence, language=\"portuguese\"):\n",
    "    from nltk.corpus import stopwords\n",
    "    #Split sentence into words\n",
    "    words = sentence.split(' ')\n",
    "    #Get the stopwords\n",
    "    stopwords = stopwords.words(language)\n",
    "    words_new = [word for word in words if word not in stopwords]\n",
    "    #impode words into a sentence and return\n",
    "    return ' '.join(words_new)"
   ]
  },
  {
   "cell_type": "code",
   "execution_count": 23,
   "metadata": {},
   "outputs": [
    {
     "name": "stdout",
     "output_type": "stream",
     "text": [
      "Foi criado método faz separação stopwords, é forma testá-lo\n"
     ]
    }
   ],
   "source": [
    "text = \"Foi criado um método que faz a separação dos stopwords, e esta é uma forma de testá-lo\"\n",
    "text_new = remove_stopwords(text)\n",
    "print(text_new)"
   ]
  },
  {
   "cell_type": "code",
   "execution_count": 25,
   "metadata": {},
   "outputs": [],
   "source": [
    "def stem_sentence(sentence, language = \"portuguese\"):\n",
    "    from nltk.stem.snowball import SnowballStemmer\n",
    "    words = sentence.split(' ')\n",
    "    #Stem words\n",
    "    stemmer = SnowballStemmer(language)\n",
    "    words_stem = [stemmer.stem(word) for word in words]\n",
    "    #impode words into a sentence and return\n",
    "    return ' '.join(words_stem)"
   ]
  },
  {
   "cell_type": "code",
   "execution_count": 28,
   "metadata": {},
   "outputs": [
    {
     "name": "stdout",
     "output_type": "stream",
     "text": [
      "Trio suspeito de furto de carga    :  tri suspeit de furt de carg\n",
      "Trio suspeito de furto de cargas   :  tri suspeit de furt de carg\n",
      "Trio suspeito de furtos de cargas  :  tri suspeit de furt de carg\n",
      "-------------\n",
      "Foram comprados por vários carros. Comprei pelo menos 2. O pedro comprou mais  :  for compr por vári carros. compr pel men 2. o pedr compr mais\n"
     ]
    }
   ],
   "source": [
    "text = \"Foram comprados por vários carros. Comprei pelo menos 2. O pedro comprou mais\"\n",
    "msg1 = \"Trio suspeito de furto de carga\"\n",
    "msg2 = \"Trio suspeito de furto de cargas\"\n",
    "msg3 = \"Trio suspeito de furtos de cargas\"\n",
    "\n",
    "print(msg1.ljust(33), ' : ', stem_sentence(msg1))\n",
    "print(msg2.ljust(33), ' : ', stem_sentence(msg2))\n",
    "print(msg3.ljust(33), ' : ', stem_sentence(msg3))\n",
    "print('-------------')\n",
    "print(text.ljust(33), ' : ', stem_sentence(text))\n",
    "\n",
    "\n"
   ]
  },
  {
   "cell_type": "code",
   "execution_count": null,
   "metadata": {},
   "outputs": [],
   "source": []
  }
 ],
 "metadata": {
  "kernelspec": {
   "display_name": "Python 3",
   "language": "python",
   "name": "python3"
  },
  "language_info": {
   "codemirror_mode": {
    "name": "ipython",
    "version": 3
   },
   "file_extension": ".py",
   "mimetype": "text/x-python",
   "name": "python",
   "nbconvert_exporter": "python",
   "pygments_lexer": "ipython3",
   "version": "3.7.1"
  }
 },
 "nbformat": 4,
 "nbformat_minor": 2
}
