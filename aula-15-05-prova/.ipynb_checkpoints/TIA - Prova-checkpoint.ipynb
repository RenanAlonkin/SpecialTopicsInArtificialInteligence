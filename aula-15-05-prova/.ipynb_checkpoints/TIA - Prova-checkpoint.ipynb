{
 "cells": [
  {
   "cell_type": "markdown",
   "metadata": {
    "slideshow": {
     "slide_type": "-"
    }
   },
   "source": [
    "<link rel=\"stylesheet\" href=\"estilo.css\">\n",
    "\n",
    "<img src=\"img/logoifsc.png\">"
   ]
  },
  {
   "cell_type": "markdown",
   "metadata": {
    "slideshow": {
     "slide_type": "-"
    }
   },
   "source": [
    "---\n",
    "\n",
    "Prof. Carlos Andrés Ferrero\n",
    "\n",
    "# Tópicos Especiais em Inteligência Artificial\n",
    "\n",
    "## Prova 1\n",
    "---"
   ]
  },
  {
   "cell_type": "markdown",
   "metadata": {},
   "source": [
    "## Conjunto de Dados: Large Movie Review Dataset"
   ]
  },
  {
   "cell_type": "markdown",
   "metadata": {},
   "source": [
    "Este conjunto de dados apresenta reviews de filmes. O conjunto de dados está constituído de 748 reviews em idioma inglês.\n",
    "\n",
    "Referência:\n",
    "- Andrew L. Maas, Raymond E. Daly, Peter T. Pham, Dan Huang, Andrew Y. Ng, and Christopher Potts. (2011). Learning Word Vectors for Sentiment Analysis. The 49th Annual Meeting of the Association for Computational Linguistics (ACL 2011). "
   ]
  },
  {
   "cell_type": "markdown",
   "metadata": {},
   "source": [
    "## Pontuação\n",
    "\n",
    "1. Carregar e Mostrar os Dados (0.5)\n",
    "2. Conceitos de Pré-procesamento (1.0)\n",
    "3. Implementação de Funções de Pré-processamento (2.0)\n",
    "4. Contagem de Palavras (1.0)\n",
    "5. Calcular a Taxa Positivo-negativo e o Score Positivo-negativo das Palavras (1.0)\n",
    "6. Classificador de Reviews (1.5)\n",
    "7. Análise das Predições (1.0)\n",
    "8. Avaliar o Classificador com Novas Frases (1.0)\n",
    "9. Visualizar dados com Seaborn (1.0)"
   ]
  },
  {
   "cell_type": "markdown",
   "metadata": {},
   "source": [
    "# Verificar a instalação dos seguintes pacotes"
   ]
  },
  {
   "cell_type": "code",
   "execution_count": 127,
   "metadata": {},
   "outputs": [],
   "source": [
    "import numpy as np\n",
    "import pandas as pd\n",
    "from sklearn.metrics import accuracy_score\n",
    "import nltk\n",
    "from nltk import tokenize\n",
    "from nltk.stem.snowball import SnowballStemmer  \n",
    "from nltk.corpus import stopwords\n",
    "from string import punctuation\n",
    "import seaborn as sns\n",
    "from collections import Counter\n",
    "import matplotlib\n",
    "from matplotlib import pyplot"
   ]
  },
  {
   "cell_type": "markdown",
   "metadata": {},
   "source": [
    "## 1. Carregar e Mostrar os Dados"
   ]
  },
  {
   "cell_type": "markdown",
   "metadata": {},
   "source": [
    "**(TODO)**. Ler os dados do arquivo `data/imdb_labelled.txt` de revisões e armazene numa variável `data`"
   ]
  },
  {
   "cell_type": "code",
   "execution_count": 128,
   "metadata": {},
   "outputs": [],
   "source": [
    "# Escreva sua resposta aqui\n",
    "data = pd.read_csv('data/imdb_labelled.txt', sep='\\t',encoding='utf-8')"
   ]
  },
  {
   "cell_type": "markdown",
   "metadata": {},
   "source": [
    "**(TODO)**. O conjunto de dados possui duas colunas: `Review` que apresenta o texto da review e `Label` com o classe da avaliação (0 para negativo e 1 para positivo). Visualizar as 10 primeiras linhas do conjunto de dados (certifique-se que tenham sido lidas duas colunas). O resultado esperado é o seguinte:\n",
    "\n",
    "<img src=\"img/screenshoot_1_2.png\" width=\"300px\">"
   ]
  },
  {
   "cell_type": "code",
   "execution_count": 129,
   "metadata": {},
   "outputs": [
    {
     "data": {
      "text/html": [
       "<div>\n",
       "<style scoped>\n",
       "    .dataframe tbody tr th:only-of-type {\n",
       "        vertical-align: middle;\n",
       "    }\n",
       "\n",
       "    .dataframe tbody tr th {\n",
       "        vertical-align: top;\n",
       "    }\n",
       "\n",
       "    .dataframe thead th {\n",
       "        text-align: right;\n",
       "    }\n",
       "</style>\n",
       "<table border=\"1\" class=\"dataframe\">\n",
       "  <thead>\n",
       "    <tr style=\"text-align: right;\">\n",
       "      <th></th>\n",
       "      <th>Review</th>\n",
       "      <th>Label</th>\n",
       "    </tr>\n",
       "  </thead>\n",
       "  <tbody>\n",
       "    <tr>\n",
       "      <th>0</th>\n",
       "      <td>A very, very, very slow-moving, aimless movie ...</td>\n",
       "      <td>0</td>\n",
       "    </tr>\n",
       "    <tr>\n",
       "      <th>1</th>\n",
       "      <td>Not sure who was more lost - the flat characte...</td>\n",
       "      <td>0</td>\n",
       "    </tr>\n",
       "    <tr>\n",
       "      <th>2</th>\n",
       "      <td>Attempting artiness with black &amp; white and cle...</td>\n",
       "      <td>0</td>\n",
       "    </tr>\n",
       "    <tr>\n",
       "      <th>3</th>\n",
       "      <td>Very little music or anything to speak of.</td>\n",
       "      <td>0</td>\n",
       "    </tr>\n",
       "    <tr>\n",
       "      <th>4</th>\n",
       "      <td>The best scene in the movie was when Gerardo i...</td>\n",
       "      <td>1</td>\n",
       "    </tr>\n",
       "    <tr>\n",
       "      <th>5</th>\n",
       "      <td>The rest of the movie lacks art, charm, meanin...</td>\n",
       "      <td>0</td>\n",
       "    </tr>\n",
       "    <tr>\n",
       "      <th>6</th>\n",
       "      <td>Wasted two hours.</td>\n",
       "      <td>0</td>\n",
       "    </tr>\n",
       "    <tr>\n",
       "      <th>7</th>\n",
       "      <td>Saw the movie today and thought it was a good ...</td>\n",
       "      <td>1</td>\n",
       "    </tr>\n",
       "    <tr>\n",
       "      <th>8</th>\n",
       "      <td>A bit predictable.</td>\n",
       "      <td>0</td>\n",
       "    </tr>\n",
       "    <tr>\n",
       "      <th>9</th>\n",
       "      <td>Loved the casting of Jimmy Buffet as the scien...</td>\n",
       "      <td>1</td>\n",
       "    </tr>\n",
       "  </tbody>\n",
       "</table>\n",
       "</div>"
      ],
      "text/plain": [
       "                                              Review  Label\n",
       "0  A very, very, very slow-moving, aimless movie ...      0\n",
       "1  Not sure who was more lost - the flat characte...      0\n",
       "2  Attempting artiness with black & white and cle...      0\n",
       "3       Very little music or anything to speak of.        0\n",
       "4  The best scene in the movie was when Gerardo i...      1\n",
       "5  The rest of the movie lacks art, charm, meanin...      0\n",
       "6                                Wasted two hours.        0\n",
       "7  Saw the movie today and thought it was a good ...      1\n",
       "8                               A bit predictable.        0\n",
       "9  Loved the casting of Jimmy Buffet as the scien...      1"
      ]
     },
     "execution_count": 129,
     "metadata": {},
     "output_type": "execute_result"
    }
   ],
   "source": [
    "# Escreva sua resposta aqui\n",
    "data.head(10)\n",
    "#data.tail(10)"
   ]
  },
  {
   "cell_type": "markdown",
   "metadata": {},
   "source": [
    "## 2. Conceitos de Pré-processamento"
   ]
  },
  {
   "cell_type": "markdown",
   "metadata": {},
   "source": [
    "**(TODO)**. Explique os conceitos de Tokenização, Stemming e Stopwords.\n",
    "\n",
    "Escreva as suas respostas abaixo:"
   ]
  },
  {
   "cell_type": "markdown",
   "metadata": {},
   "source": [
    "---\n",
    "**Tokenização**\n",
    "\n",
    "<b>Resposta</b>: O ato de separação/seguimentação das frases em palavras ou sentenças. \n",
    "<br>\n",
    "Ex: Eu comprei meu carro\n",
    "<br>\n",
    "Resultado: Eu | comprei | meu | carro\n",
    "\n",
    "\n",
    "---\n",
    "**Stemming (radicalização)**\n",
    "\n",
    "<b>Resposta</b>: Processamento aplicado nas palavras para manter apenas o \"core\" dela. \n",
    "<br>\n",
    "Ex: **Compr**_as_ - **Compr**_ado_\n",
    "<br>\n",
    "Core: **Compr**\n",
    "\n",
    "\n",
    "---\n",
    "\n",
    "**Stopwords**\n",
    "\n",
    "\n",
    "<b>Respostas</b>: Palavras que, se removidas, não alteram o sentido do texto/possivelmente não terão valor para a predição.\n",
    "<br>\n",
    "Ex: PSOL vai questionar aumento **de** vereadores **e** prefeito BH Justica\n",
    "<br>\n",
    "Resultado: PSOL vai questionar aumento vereadores prefeito BH Justica\n"
   ]
  },
  {
   "cell_type": "markdown",
   "metadata": {},
   "source": [
    "## 3. Implementação de Funções de Pré-processamento"
   ]
  },
  {
   "cell_type": "markdown",
   "metadata": {},
   "source": [
    "O conjunto de dados de revisões de filmes precisa ser pré-processado para poder realizar uma análise de sentimento. Abaixo você terá que implementar as funções de tokenização, stemming, remoção de stopwords e remoção de pontuação. Siga as instruções e preste atenção nos testes e os resultados esperados, que serão apresentados para cada função."
   ]
  },
  {
   "cell_type": "markdown",
   "metadata": {},
   "source": [
    "### Função de Tokenização\n",
    "\n",
    "**TODO**: Implemente a função `tokenização`, considerando o idioma inglês. A função `tokenizar` recebe uma sentença e retorna uma conjunto de tokens.\n",
    "\n",
    "Teste:\n",
    "```python\n",
    "print( \n",
    "    tokenizar('The best scene in the movie was when Gerardo is trying to find a song that keeps running through his head.  ') \n",
    ")\n",
    "```\n",
    "Resultado esperado:\n",
    "```bash\n",
    "['The', 'best', 'scene', 'in', 'the', 'movie', 'was', 'when', 'Gerardo', 'is', 'trying', 'to', 'find', 'a', 'song', 'that', 'keeps', 'running', 'through', 'his', 'head', '.']\n",
    "```"
   ]
  },
  {
   "cell_type": "code",
   "execution_count": 130,
   "metadata": {},
   "outputs": [
    {
     "name": "stdout",
     "output_type": "stream",
     "text": [
      "['The', 'best', 'scene', 'in', 'the', 'movie', 'was', 'when', 'Gerardo', 'is', 'trying', 'to', 'find', 'a', 'song', 'that', 'keeps', 'running', 'through', 'his', 'head', '.']\n"
     ]
    }
   ],
   "source": [
    "import nltk        \n",
    "from nltk import tokenize\n",
    "\n",
    "def tokenizar(sentenca):        \n",
    "    \"\"\"Esta função aplica tokenização em uma sentença\n",
    "\n",
    "    Parameters:\n",
    "    sentence (string): um texto\n",
    "\n",
    "    Returns:\n",
    "    array: um array de palavras\n",
    "\n",
    "   \"\"\"\n",
    "    # Implementa a sua solução aqui\n",
    "\n",
    "    # return \n",
    "    return tokenize.word_tokenize(sentenca)\n",
    "# Teste de tokenização\n",
    "print( \n",
    "    tokenizar('The best scene in the movie was when Gerardo is trying to find a song that keeps running through his head.  ') \n",
    ")"
   ]
  },
  {
   "cell_type": "markdown",
   "metadata": {},
   "source": [
    "### Função de Radicalização de Palavras\n",
    "\n",
    "**TODO**: Implemente a função `aplicar_stemming` que extrai o radical das palavras, considerando o idioma inglês. A função `aplicar_stemming` recebe um array de palavras e retorna um array com o radical das palavras.\n",
    "\n",
    "Teste:\n",
    "```python\n",
    "print(\n",
    "    aplicar_stemming( \n",
    "        tokenizar('The best scene in the movie was when Gerardo is trying to find a song that keeps running through his head.  ')\n",
    "    )\n",
    ")\n",
    "```\n",
    "Resultado:\n",
    "```bash\n",
    "['the', 'best', 'scene', 'in', 'the', 'movi', 'was', 'when', 'gerardo', 'is', 'tri', 'to', 'find', 'a', 'song', 'that', 'keep', 'run', 'through', 'his', 'head', '.']\n",
    "```"
   ]
  },
  {
   "cell_type": "code",
   "execution_count": 131,
   "metadata": {},
   "outputs": [
    {
     "name": "stdout",
     "output_type": "stream",
     "text": [
      "['the', 'best', 'scene', 'in', 'the', 'movi', 'was', 'when', 'gerardo', 'is', 'tri', 'to', 'find', 'a', 'song', 'that', 'keep', 'run', 'through', 'his', 'head', '.']\n"
     ]
    }
   ],
   "source": [
    "from nltk.stem.snowball import SnowballStemmer  \n",
    "\n",
    "def aplicar_stemming(words):        \n",
    "    \"\"\"Esta função aplica radicalização (stemming) de um conjunto de palavras\n",
    "\n",
    "    Parameters:\n",
    "    words (array): um array de strings com palavras nas quais será aplicado stemming.    \n",
    "\n",
    "    Returns:\n",
    "    array: um array de palavras stemmizadas.\n",
    "\n",
    "   \"\"\"\n",
    "    # Implementa a sua solução aqui\n",
    "    stemmer = SnowballStemmer(\"english\")\n",
    "    words_stem = [stemmer.stem(word) for word in words]\n",
    "    # return words_stem\n",
    "    return words_stem\n",
    "# Teste\n",
    "print( \n",
    "    aplicar_stemming( \n",
    "        tokenizar('The best scene in the movie was when Gerardo is trying to find a song that keeps running through his head.  ') \n",
    "    )\n",
    ")"
   ]
  },
  {
   "cell_type": "markdown",
   "metadata": {},
   "source": [
    "### Função de Remoção de Stopwords\n",
    "\n",
    "**TODO**: Implemente a função `remover_stopwords`, que remove as stopwords, considerando o idioma inglês. A função `remover_stopwords` recebe um array de palavras e retorna um array com as stopwords removidas. \n",
    "\n",
    "Teste:\n",
    "```python\n",
    "print(\n",
    "    remover_stopwords( \n",
    "        tokenizar('The best scene in the movie was when Gerardo is trying to find a song that keeps running through his head.  ')\n",
    "    )\n",
    ")\n",
    "```\n",
    "Resultado:\n",
    "```bash\n",
    "['The', 'best', 'scene', 'movie', 'Gerardo', 'trying', 'find', 'song', 'keeps', 'running', 'head', '.']\n",
    "```"
   ]
  },
  {
   "cell_type": "code",
   "execution_count": 132,
   "metadata": {},
   "outputs": [
    {
     "name": "stdout",
     "output_type": "stream",
     "text": [
      "['The', 'best', 'scene', 'movie', 'Gerardo', 'trying', 'find', 'song', 'keeps', 'running', 'head', '.']\n"
     ]
    }
   ],
   "source": [
    "def remover_stopwords(words):\n",
    "    \"\"\"Esta função aplica remoção de stopwords de um conjunto de palavras\n",
    "\n",
    "    Parameters:\n",
    "    words (array): um array de strings com palavras\n",
    "\n",
    "    Returns:\n",
    "    array: um array de palavras sem as stopwords\n",
    "   \"\"\"\n",
    "    # Implementa a sua solução aqui\n",
    "    stopword = stopwords.words('english')\n",
    "    words_new = [word for word in words if word not in stopword]\n",
    "    # return\n",
    "    return words_new\n",
    "\n",
    "print(\n",
    "    remover_stopwords( \n",
    "        tokenizar('The best scene in the movie was when Gerardo is trying to find a song that keeps running through his head.  ')\n",
    "    )\n",
    ")"
   ]
  },
  {
   "cell_type": "markdown",
   "metadata": {},
   "source": [
    "### Função de Remoção de Pontuação\n",
    "\n",
    "**TODO**: Implemente a função `remover_pontuacao`, que remove a pontuação em uma frase. A função `remover_pontuacao` recebe um array de tokens e retorna um array com os tokens de pontuação removidos. Para facilitar o trabalho importe `ponctuation` do pacote `string`, que consiste em um vetor com os elementos básicos de pontuação. Assim como para importar outros elementos, use:\n",
    "```python \n",
    "from string import punctuation\n",
    "```\n",
    "\n",
    "Teste:\n",
    "```python\n",
    "print(\n",
    "    remover_pontuacao( \n",
    "        tokenizar('The best scene in the movie was when Gerardo is trying to find a song that keeps running through his head.  ')\n",
    "    )\n",
    ")\n",
    "```\n",
    "Resultado esperado:\n",
    "```bash\n",
    "['The', 'best', 'scene', 'in', 'the', 'movie', 'was', 'when', 'Gerardo', 'is', 'trying', 'to', 'find', 'a', 'song', 'that', 'keeps', 'running', 'through', 'his', 'head']\n",
    "```"
   ]
  },
  {
   "cell_type": "code",
   "execution_count": 133,
   "metadata": {},
   "outputs": [
    {
     "name": "stdout",
     "output_type": "stream",
     "text": [
      "['The', 'best', 'scene', 'in', 'the', 'movie', 'was', 'when', 'Gerardo', 'is', 'trying', 'to', 'find', 'a', 'song', 'that', 'keeps', 'running', 'through', 'his', 'head']\n"
     ]
    }
   ],
   "source": [
    "def remover_pontuacao(words):\n",
    "    \"\"\"Esta função aplica remoção pontuacao em uma frase\n",
    "\n",
    "    Parameters:\n",
    "    words (array): um array de strings com tokens    \n",
    "\n",
    "    Returns:\n",
    "    array: um array de palavras tokens sem a pontuação\n",
    "   \"\"\"\n",
    "    # Implemente a sua solução aqui\n",
    "    \n",
    "    words_new = [word for word in words if word not in punctuation]\n",
    "    #return\n",
    "    return words_new\n",
    "print(\n",
    "    remover_pontuacao( \n",
    "        tokenizar('The best scene in the movie was when Gerardo is trying to find a song that keeps running through his head.  ')\n",
    "    )\n",
    ")"
   ]
  },
  {
   "cell_type": "markdown",
   "metadata": {},
   "source": [
    "### Função Pré-processar Sentença\n",
    "\n",
    "A função `preprocessar_sentenca` utiliza as funções de tokenização, remoção de pontuação, remoção de stopwords e aplicação de stremming. **Neste local você não precisa implementar nada**. Só executar para verificar que esteja funcionando corretamente. \n",
    "\n",
    "Teste:\n",
    "```python\n",
    "print(\n",
    "    preprocessar_sentenca('The best scene in the movie was when Gerardo is trying to find a song that keeps running through his head.  ')\n",
    ")\n",
    "```\n",
    "\n",
    "Resultado:\n",
    "```bash\n",
    "['the', 'best', 'scene', 'movi', 'gerardo', 'tri', 'find', 'song', 'keep', 'run', 'head']\n",
    "```"
   ]
  },
  {
   "cell_type": "code",
   "execution_count": 134,
   "metadata": {},
   "outputs": [
    {
     "name": "stdout",
     "output_type": "stream",
     "text": [
      "['the', 'best', 'scene', 'movi', 'gerardo', 'tri', 'find', 'song', 'keep', 'run', 'head']\n"
     ]
    }
   ],
   "source": [
    "def preprocessar_sentenca(sentenca):\n",
    "    \"\"\"Esta função preprocessa um conjunto de sentenças\n",
    "\n",
    "    Parameters:\n",
    "    sentenca (string): uma sentenca\n",
    "\n",
    "    Returns:\n",
    "    array: um array de palavras tokens pré-processados\n",
    "   \"\"\"    \n",
    "    x = sentenca \n",
    "    x = tokenizar(x)\n",
    "    x = remover_pontuacao(x)\n",
    "    x = remover_stopwords(x)\n",
    "    x = aplicar_stemming(x)\n",
    "    \n",
    "    return x\n",
    "\n",
    "print(\n",
    "    preprocessar_sentenca('The best scene in the movie was when Gerardo is trying to find a song that keeps running through his head.  ')\n",
    ")"
   ]
  },
  {
   "cell_type": "markdown",
   "metadata": {},
   "source": [
    "A seguir preprocessamos todas as reviews usando a função `apply` e armazenamos as frases pré-processadas em uma nova coluna, chamada Review_preprocessado, e visualizamos as primeiras 10 linhas do conjunto de dados `data` com a nova coluna."
   ]
  },
  {
   "cell_type": "code",
   "execution_count": 135,
   "metadata": {},
   "outputs": [],
   "source": [
    "data['Review_preprocessado'] = data.Review.apply(preprocessar_sentenca)"
   ]
  },
  {
   "cell_type": "code",
   "execution_count": 136,
   "metadata": {},
   "outputs": [
    {
     "data": {
      "text/html": [
       "<div>\n",
       "<style scoped>\n",
       "    .dataframe tbody tr th:only-of-type {\n",
       "        vertical-align: middle;\n",
       "    }\n",
       "\n",
       "    .dataframe tbody tr th {\n",
       "        vertical-align: top;\n",
       "    }\n",
       "\n",
       "    .dataframe thead th {\n",
       "        text-align: right;\n",
       "    }\n",
       "</style>\n",
       "<table border=\"1\" class=\"dataframe\">\n",
       "  <thead>\n",
       "    <tr style=\"text-align: right;\">\n",
       "      <th></th>\n",
       "      <th>Review</th>\n",
       "      <th>Label</th>\n",
       "      <th>Review_preprocessado</th>\n",
       "    </tr>\n",
       "  </thead>\n",
       "  <tbody>\n",
       "    <tr>\n",
       "      <th>0</th>\n",
       "      <td>A very, very, very slow-moving, aimless movie ...</td>\n",
       "      <td>0</td>\n",
       "      <td>[a, slow-mov, aimless, movi, distress, drift, ...</td>\n",
       "    </tr>\n",
       "    <tr>\n",
       "      <th>1</th>\n",
       "      <td>Not sure who was more lost - the flat characte...</td>\n",
       "      <td>0</td>\n",
       "      <td>[not, sure, lost, flat, charact, audienc, near...</td>\n",
       "    </tr>\n",
       "    <tr>\n",
       "      <th>2</th>\n",
       "      <td>Attempting artiness with black &amp; white and cle...</td>\n",
       "      <td>0</td>\n",
       "      <td>[attempt, arti, black, white, clever, camera, ...</td>\n",
       "    </tr>\n",
       "    <tr>\n",
       "      <th>3</th>\n",
       "      <td>Very little music or anything to speak of.</td>\n",
       "      <td>0</td>\n",
       "      <td>[veri, littl, music, anyth, speak]</td>\n",
       "    </tr>\n",
       "    <tr>\n",
       "      <th>4</th>\n",
       "      <td>The best scene in the movie was when Gerardo i...</td>\n",
       "      <td>1</td>\n",
       "      <td>[the, best, scene, movi, gerardo, tri, find, s...</td>\n",
       "    </tr>\n",
       "    <tr>\n",
       "      <th>5</th>\n",
       "      <td>The rest of the movie lacks art, charm, meanin...</td>\n",
       "      <td>0</td>\n",
       "      <td>[the, rest, movi, lack, art, charm, mean, ...,...</td>\n",
       "    </tr>\n",
       "    <tr>\n",
       "      <th>6</th>\n",
       "      <td>Wasted two hours.</td>\n",
       "      <td>0</td>\n",
       "      <td>[wast, two, hour]</td>\n",
       "    </tr>\n",
       "    <tr>\n",
       "      <th>7</th>\n",
       "      <td>Saw the movie today and thought it was a good ...</td>\n",
       "      <td>1</td>\n",
       "      <td>[saw, movi, today, thought, good, effort, good...</td>\n",
       "    </tr>\n",
       "    <tr>\n",
       "      <th>8</th>\n",
       "      <td>A bit predictable.</td>\n",
       "      <td>0</td>\n",
       "      <td>[a, bit, predict]</td>\n",
       "    </tr>\n",
       "    <tr>\n",
       "      <th>9</th>\n",
       "      <td>Loved the casting of Jimmy Buffet as the scien...</td>\n",
       "      <td>1</td>\n",
       "      <td>[love, cast, jimmi, buffet, scienc, teacher]</td>\n",
       "    </tr>\n",
       "  </tbody>\n",
       "</table>\n",
       "</div>"
      ],
      "text/plain": [
       "                                              Review  Label  \\\n",
       "0  A very, very, very slow-moving, aimless movie ...      0   \n",
       "1  Not sure who was more lost - the flat characte...      0   \n",
       "2  Attempting artiness with black & white and cle...      0   \n",
       "3       Very little music or anything to speak of.        0   \n",
       "4  The best scene in the movie was when Gerardo i...      1   \n",
       "5  The rest of the movie lacks art, charm, meanin...      0   \n",
       "6                                Wasted two hours.        0   \n",
       "7  Saw the movie today and thought it was a good ...      1   \n",
       "8                               A bit predictable.        0   \n",
       "9  Loved the casting of Jimmy Buffet as the scien...      1   \n",
       "\n",
       "                                Review_preprocessado  \n",
       "0  [a, slow-mov, aimless, movi, distress, drift, ...  \n",
       "1  [not, sure, lost, flat, charact, audienc, near...  \n",
       "2  [attempt, arti, black, white, clever, camera, ...  \n",
       "3                 [veri, littl, music, anyth, speak]  \n",
       "4  [the, best, scene, movi, gerardo, tri, find, s...  \n",
       "5  [the, rest, movi, lack, art, charm, mean, ...,...  \n",
       "6                                  [wast, two, hour]  \n",
       "7  [saw, movi, today, thought, good, effort, good...  \n",
       "8                                  [a, bit, predict]  \n",
       "9       [love, cast, jimmi, buffet, scienc, teacher]  "
      ]
     },
     "execution_count": 136,
     "metadata": {},
     "output_type": "execute_result"
    }
   ],
   "source": [
    "data.head(10)"
   ]
  },
  {
   "cell_type": "markdown",
   "metadata": {},
   "source": [
    "## 4. Contagem de Palavras\n",
    "\n",
    "**(TODO)** Realizar a contagem de palavras utilizando os contadores `counter_positivos`, `counter_negativos`, `counter_todos`."
   ]
  },
  {
   "cell_type": "code",
   "execution_count": 137,
   "metadata": {},
   "outputs": [],
   "source": [
    "from collections import Counter\n",
    "counter_positivos = Counter()\n",
    "counter_negativos = Counter()\n",
    "counter_todos = Counter()\n",
    "\n",
    "# Implemente sua resposta aqui\n",
    "for i in range(len(data.Review)):\n",
    "    if(data.Label[i] == 1):\n",
    "        for word in data.Review_preprocessado[i]:\n",
    "            counter_positivos[word] += 1\n",
    "            counter_todos[word] += 1\n",
    "    else:\n",
    "        for word in data.Review_preprocessado[i]:\n",
    "            counter_negativos[word] += 1\n",
    "            counter_todos[word] += 1"
   ]
  },
  {
   "cell_type": "markdown",
   "metadata": {},
   "source": [
    "**(TODO)** Mostrar o top 5 dos termos mais frequêntes nos reviews positivos, negativos e todos.\n",
    "\n",
    "Resultado esperado:\n",
    "```bash\n",
    "Top 5 positivos: [('i', 144), ('movi', 103), ('film', 100), (\"'s\", 95), ('the', 85)]\n",
    "Top 5 negativos: [('i', 141), ('movi', 106), ('the', 103), ('1', 95), ('0', 92)]\n",
    "Top 5 total: [('i', 285), ('movi', 209), ('the', 188), ('film', 186), (\"'s\", 160)]\n",
    "```"
   ]
  },
  {
   "cell_type": "code",
   "execution_count": 138,
   "metadata": {},
   "outputs": [
    {
     "name": "stdout",
     "output_type": "stream",
     "text": [
      "Top 5 positivos: [('i', 144), ('movi', 103), ('film', 100), (\"'s\", 95), ('the', 85)]\n",
      "Top 5 negativos: [('i', 141), ('movi', 106), ('the', 103), ('1', 95), ('0', 92)]\n",
      "Top 5 total: [('i', 285), ('movi', 209), ('the', 188), ('film', 186), (\"'s\", 160)]\n"
     ]
    }
   ],
   "source": [
    "# Implemente a sua solução aqui\n",
    "print('Top 5 positivos:', counter_positivos.most_common(5))\n",
    "print('Top 5 negativos:', counter_negativos.most_common(5))\n",
    "print('Top 5 total:', counter_todos.most_common(5))"
   ]
  },
  {
   "cell_type": "markdown",
   "metadata": {},
   "source": [
    "## 5. Calcular a Taxa Positivo-negativo e o Score Positivo-negativo das Palavras"
   ]
  },
  {
   "cell_type": "markdown",
   "metadata": {},
   "source": [
    "**(TODO)** Calcular a taxa positivo-negativo das palavras baseado na frequência das mesmas em reviews positivos e negativos, seguindo a seguinte função:\n",
    "\n",
    "$$\n",
    "taxa\\_pos\\_neg(word) = \\frac{positivos(word)}{negativos(word)+1}\n",
    "$$\n",
    "\n",
    "onde $positivos(word)$ e $negativos(word)$ correspondem ao número de vezes que a palavra $word$ aparece em reviews positivos e negativos, respectivamente.\n",
    "\n",
    "Popular o dicionário `taxa_pos_neg` de acordo a função mencionada, para **palavras que tenham ocorrido pelo menos 10 vezes e arredonde o valor da taxa para 3 casas após a vírgula**.\n",
    "\n",
    "Teste:\n",
    "```python\n",
    "print( taxa_pos_neg['movi'] )\n",
    "```\n",
    "\n",
    "Resultado esperado:\n",
    "```\n",
    "0.963\n",
    "```"
   ]
  },
  {
   "cell_type": "code",
   "execution_count": 139,
   "metadata": {},
   "outputs": [
    {
     "name": "stdout",
     "output_type": "stream",
     "text": [
      "0.963\n"
     ]
    }
   ],
   "source": [
    "taxa_pos_neg = Counter()\n",
    "\n",
    "# Escreva a sua solução aqui\n",
    "for term, cnt in list(counter_todos.most_common()):\n",
    "    if(cnt > 10):\n",
    "        pos_neg_ratio = counter_positivos[term]/float(counter_negativos[term] + 1)\n",
    "        taxa_pos_neg[term] = round(pos_neg_ratio, 3)\n",
    "\n",
    "# Teste    \n",
    "print( taxa_pos_neg['movi'] )"
   ]
  },
  {
   "cell_type": "markdown",
   "metadata": {},
   "source": [
    "A função `ordenar_dict_por_valor` permite ordenar os dados contidos em um dicionário retornando um array com tuplas (word, valor) ordenado por valor. Assim, podemos visualizar os valores mais altos e mais baixos de taxa de positivo-negativo, como segue:\n",
    "\n",
    "Teste:\n",
    "```python\n",
    "print ('Top 5 taxa positivos:', taxa_pos_neg_sorted[-5:] )\n",
    "print ('Top 5 taxa negativos:', taxa_pos_neg_sorted[:5] )\n",
    "```\n",
    "\n",
    "Resultado esperado:\n",
    "```bash\n",
    "Top 5 taxa positivos: [('fine', 5.0), ('wonder', 5.25), ('hilari', 6.0), ('brilliant', 7.0), ('role', 8.0)]\n",
    "Top 5 taxa negativos: [('aw', 0.0), ('worst', 0.0), ('poor', 0.0), ('ridicul', 0.0), ('money', 0.0)]\n",
    "```"
   ]
  },
  {
   "cell_type": "code",
   "execution_count": 140,
   "metadata": {},
   "outputs": [
    {
     "name": "stdout",
     "output_type": "stream",
     "text": [
      "Top 5 taxa positivos: [('enjoy', 2.8), ('job', 3.0), ('play', 3.143), ('interest', 3.5), ('wonder', 5.25)]\n",
      "Top 5 taxa negativos: [('aw', 0.0), ('worst', 0.0), ('wast', 0.045), ('noth', 0.071), ('bad', 0.109)]\n"
     ]
    }
   ],
   "source": [
    "def ordenar_dict_por_valor(dicionario):\n",
    "    \"\"\"Esta função ordena os items de um dicionário baseado no seu valor\n",
    "\n",
    "    Parameters:\n",
    "    dicionario (disc): dicionários de palavras, onde cada palavra tem um valor associado\n",
    "\n",
    "    Returns:\n",
    "    array: um array de tuplas\n",
    "   \"\"\"\n",
    "    return sorted(dicionario.items(), key=lambda x: x[1])\n",
    "                                                      \n",
    "taxa_pos_neg_sorted = ordenar_dict_por_valor(taxa_pos_neg)\n",
    "\n",
    "# Teste\n",
    "print ('Top 5 taxa positivos:', taxa_pos_neg_sorted[-5:] )\n",
    "print ('Top 5 taxa negativos:', taxa_pos_neg_sorted[:5] )"
   ]
  },
  {
   "cell_type": "markdown",
   "metadata": {},
   "source": [
    "**(TODO)** Calcular o score das palavras baseado na normalização dos valores da taxa de positivo-negativo, seguindo a função abaixo.\n",
    "\n",
    "\\begin{align*}\n",
    "score\\_pos\\_neg(word) &= 0,& se \\;taxa\\_pos\\_neg(word) = 1\\\\\n",
    "                      &= log(taxa\\_pos\\_neg(word)),& se\\;taxa\\_pos\\_neg(word) > 1 \\\\\n",
    "                      &= -log\\Bigg(\\frac{1}{taxa\\_pos\\_neg(word)+0.001}\\Bigg),& se \\;taxa\\_pos\\_neg(word) < 1                      \n",
    "\\end{align*}\n",
    "\n",
    "Popular o dicionário `score_pos_neg` de acordo a função mencionada e **arredonde o valor com 3 casas após a vírgula**."
   ]
  },
  {
   "cell_type": "code",
   "execution_count": 141,
   "metadata": {},
   "outputs": [],
   "source": [
    "import numpy as np\n",
    "score_pos_neg = taxa_pos_neg\n",
    "\n",
    "# Escreva sua solução aqui\n",
    "for word, ratio in taxa_pos_neg.most_common():\n",
    "    if (ratio > 1):\n",
    "        score_pos_neg[word] = round(np.log(ratio),3)\n",
    "    elif(ratio < 1):\n",
    "        score_pos_neg[word] = round(-np.log(1/(ratio+0.01)),3)\n",
    "    else:\n",
    "        score_pos_neg[word] = 0"
   ]
  },
  {
   "cell_type": "markdown",
   "metadata": {},
   "source": [
    "**(TODO)** Ordenar o dicionário e mostrar as 5 palavras com scores mais altos e mais baixos\n",
    "\n",
    "Resultado esperado:\n",
    "```bash\n",
    "Top 5 taxa positivos: [('fine', 1.609), ('wonder', 1.658), ('hilari', 1.792), ('brilliant', 1.946), ('role', 2.079)]\n",
    "Top 5 taxa negativos: [('aw', -6.908), ('worst', -6.908), ('poor', -6.908), ('ridicul', -6.908), ('money', -6.908)]\n",
    "```"
   ]
  },
  {
   "cell_type": "code",
   "execution_count": 142,
   "metadata": {},
   "outputs": [
    {
     "name": "stdout",
     "output_type": "stream",
     "text": [
      "Top 5 score positivos: [('enjoy', 1.03), ('job', 1.099), ('play', 1.145), ('interest', 1.253), ('wonder', 1.658)]\n",
      "Top 5 score negativos: [('aw', -4.605), ('worst', -4.605), ('wast', -2.9), ('noth', -2.513), ('bad', -2.129)]\n"
     ]
    }
   ],
   "source": [
    "# Escreva aqui a sua solução\n",
    "score_pos_neg_sorted = ordenar_dict_por_valor(score_pos_neg)\n",
    "print ('Top 5 score positivos:', score_pos_neg_sorted[-5:] )\n",
    "print ('Top 5 score negativos:', score_pos_neg_sorted[:5] )"
   ]
  },
  {
   "cell_type": "markdown",
   "metadata": {},
   "source": [
    "## 6. Classificador de Reviews\n",
    "\n",
    "**(TODO)** Implemente a função `get_word_scores` para obter os scores a partir de um conjunto de palavras. A função `get_word_scores` recebe um array de palavras e um dicionário de scores e retorna um array de scores.\n",
    "\n",
    "Teste:\n",
    "```python\n",
    "print(\n",
    "    get_word_scores(['the', 'best', 'scene', 'movi', 'gerardo', 'tri', 'find', 'song', 'keep', 'run', 'head'], score_pos_neg)\n",
    ")\n",
    "```\n",
    "\n",
    "Resultado Esperado:\n",
    "```bash\n",
    "[-0.201, 0.47, -0.478, -0.037, -0.403, 0.336, 0.223, -0.286, 1.386]\n",
    "```"
   ]
  },
  {
   "cell_type": "code",
   "execution_count": 143,
   "metadata": {},
   "outputs": [
    {
     "name": "stdout",
     "output_type": "stream",
     "text": [
      "[-0.19, 0.47, -0.464, -0.027, 0, 0, 0.336, 0, 0, 0, 0]\n"
     ]
    }
   ],
   "source": [
    "def get_word_scores(words, dicionario):\n",
    "    \"\"\"Esta função extrai os scores de um conjunto de palavras\n",
    "\n",
    "    Parameters:\n",
    "    words (array): conjunto de palavras para extrair os scores\n",
    "    dicionario (disc): dicionários de palavras, onde cada palavra tem um valor de score associado\n",
    "\n",
    "    Returns:\n",
    "    array: um array de valores de scores\n",
    "   \"\"\"\n",
    "    # Escreva sua solução aqui   \n",
    "    words_score = [score_pos_neg[word] for word in words]\n",
    "    # return \n",
    "    return words_score\n",
    "print(\n",
    "    get_word_scores(['the', 'best', 'scene', 'movi', 'gerardo', 'tri', 'find', 'song', 'keep', 'run', 'head'], score_pos_neg)\n",
    ")"
   ]
  },
  {
   "cell_type": "markdown",
   "metadata": {},
   "source": [
    "**(TODO)** Implemente a função `predict_from_words` para obter uma predição (0 para review negativo e 1 para review negativo) a partir de um conjunto de palavras. A função `predict_from_words` recebe um conjunto de palavras e um dicionario de scores e retorna uma predição (0 ou 1).\n",
    "\n",
    "Teste:\n",
    "```python\n",
    "print(\n",
    "    predict_from_words(['the', 'best', 'scene', 'movi', 'gerardo', 'tri', 'find', 'song', 'keep', 'run', 'head'], score_pos_neg)\n",
    ")\n",
    "```\n",
    "\n",
    "Resultado esperado:\n",
    "```bash\n",
    "1\n",
    "```"
   ]
  },
  {
   "cell_type": "code",
   "execution_count": 144,
   "metadata": {},
   "outputs": [
    {
     "name": "stdout",
     "output_type": "stream",
     "text": [
      "1\n"
     ]
    }
   ],
   "source": [
    "def predict_from_words(words, dicionario):\n",
    "    \"\"\"Esta função realiza a predição a partir de um conjunto de palavras\n",
    "\n",
    "    Parameters:\n",
    "    words (array): conjunto de palavras\n",
    "    dicionario (disc): dicionários de palavras, onde cada palavra tem um valor de score associado\n",
    "\n",
    "    Returns:\n",
    "    array: um array de valores de scores\n",
    "   \"\"\"\n",
    "    # Escreva a sua solução aqui\n",
    "    words_scores = get_word_scores(words, dicionario)\n",
    "    score = sum(words_scores)\n",
    "    # return\n",
    "    return 1 if (score > 0) else 0\n",
    "print(\n",
    "    predict_from_words(['the', 'best', 'scene', 'movi', 'gerardo', 'tri', 'find', 'song', 'keep', 'run', 'head'], score_pos_neg)\n",
    ")"
   ]
  },
  {
   "cell_type": "markdown",
   "metadata": {},
   "source": [
    "**(TODO)** Crie uma nova coluna no conjunto de dados `data` chamada `Predicted` com o valor predito pelo preditor para cada sentença. Mostre as primeiras 10 linhas do conjunto de dados. O resultado deve ficar da seguinte forma:\n",
    "\n",
    "<img src=\"img/screenshoot_6_2.png\" width=\"650px\">"
   ]
  },
  {
   "cell_type": "code",
   "execution_count": 145,
   "metadata": {},
   "outputs": [
    {
     "data": {
      "text/html": [
       "<div>\n",
       "<style scoped>\n",
       "    .dataframe tbody tr th:only-of-type {\n",
       "        vertical-align: middle;\n",
       "    }\n",
       "\n",
       "    .dataframe tbody tr th {\n",
       "        vertical-align: top;\n",
       "    }\n",
       "\n",
       "    .dataframe thead th {\n",
       "        text-align: right;\n",
       "    }\n",
       "</style>\n",
       "<table border=\"1\" class=\"dataframe\">\n",
       "  <thead>\n",
       "    <tr style=\"text-align: right;\">\n",
       "      <th></th>\n",
       "      <th>Review</th>\n",
       "      <th>Label</th>\n",
       "      <th>Review_preprocessado</th>\n",
       "      <th>Predicted</th>\n",
       "    </tr>\n",
       "  </thead>\n",
       "  <tbody>\n",
       "    <tr>\n",
       "      <th>0</th>\n",
       "      <td>A very, very, very slow-moving, aimless movie ...</td>\n",
       "      <td>0</td>\n",
       "      <td>[a, slow-mov, aimless, movi, distress, drift, ...</td>\n",
       "      <td>1</td>\n",
       "    </tr>\n",
       "    <tr>\n",
       "      <th>1</th>\n",
       "      <td>Not sure who was more lost - the flat characte...</td>\n",
       "      <td>0</td>\n",
       "      <td>[not, sure, lost, flat, charact, audienc, near...</td>\n",
       "      <td>0</td>\n",
       "    </tr>\n",
       "    <tr>\n",
       "      <th>2</th>\n",
       "      <td>Attempting artiness with black &amp; white and cle...</td>\n",
       "      <td>0</td>\n",
       "      <td>[attempt, arti, black, white, clever, camera, ...</td>\n",
       "      <td>0</td>\n",
       "    </tr>\n",
       "    <tr>\n",
       "      <th>3</th>\n",
       "      <td>Very little music or anything to speak of.</td>\n",
       "      <td>0</td>\n",
       "      <td>[veri, littl, music, anyth, speak]</td>\n",
       "      <td>0</td>\n",
       "    </tr>\n",
       "    <tr>\n",
       "      <th>4</th>\n",
       "      <td>The best scene in the movie was when Gerardo i...</td>\n",
       "      <td>1</td>\n",
       "      <td>[the, best, scene, movi, gerardo, tri, find, s...</td>\n",
       "      <td>1</td>\n",
       "    </tr>\n",
       "    <tr>\n",
       "      <th>5</th>\n",
       "      <td>The rest of the movie lacks art, charm, meanin...</td>\n",
       "      <td>0</td>\n",
       "      <td>[the, rest, movi, lack, art, charm, mean, ...,...</td>\n",
       "      <td>1</td>\n",
       "    </tr>\n",
       "    <tr>\n",
       "      <th>6</th>\n",
       "      <td>Wasted two hours.</td>\n",
       "      <td>0</td>\n",
       "      <td>[wast, two, hour]</td>\n",
       "      <td>0</td>\n",
       "    </tr>\n",
       "    <tr>\n",
       "      <th>7</th>\n",
       "      <td>Saw the movie today and thought it was a good ...</td>\n",
       "      <td>1</td>\n",
       "      <td>[saw, movi, today, thought, good, effort, good...</td>\n",
       "      <td>1</td>\n",
       "    </tr>\n",
       "    <tr>\n",
       "      <th>8</th>\n",
       "      <td>A bit predictable.</td>\n",
       "      <td>0</td>\n",
       "      <td>[a, bit, predict]</td>\n",
       "      <td>0</td>\n",
       "    </tr>\n",
       "    <tr>\n",
       "      <th>9</th>\n",
       "      <td>Loved the casting of Jimmy Buffet as the scien...</td>\n",
       "      <td>1</td>\n",
       "      <td>[love, cast, jimmi, buffet, scienc, teacher]</td>\n",
       "      <td>1</td>\n",
       "    </tr>\n",
       "  </tbody>\n",
       "</table>\n",
       "</div>"
      ],
      "text/plain": [
       "                                              Review  Label  \\\n",
       "0  A very, very, very slow-moving, aimless movie ...      0   \n",
       "1  Not sure who was more lost - the flat characte...      0   \n",
       "2  Attempting artiness with black & white and cle...      0   \n",
       "3       Very little music or anything to speak of.        0   \n",
       "4  The best scene in the movie was when Gerardo i...      1   \n",
       "5  The rest of the movie lacks art, charm, meanin...      0   \n",
       "6                                Wasted two hours.        0   \n",
       "7  Saw the movie today and thought it was a good ...      1   \n",
       "8                               A bit predictable.        0   \n",
       "9  Loved the casting of Jimmy Buffet as the scien...      1   \n",
       "\n",
       "                                Review_preprocessado  Predicted  \n",
       "0  [a, slow-mov, aimless, movi, distress, drift, ...          1  \n",
       "1  [not, sure, lost, flat, charact, audienc, near...          0  \n",
       "2  [attempt, arti, black, white, clever, camera, ...          0  \n",
       "3                 [veri, littl, music, anyth, speak]          0  \n",
       "4  [the, best, scene, movi, gerardo, tri, find, s...          1  \n",
       "5  [the, rest, movi, lack, art, charm, mean, ...,...          1  \n",
       "6                                  [wast, two, hour]          0  \n",
       "7  [saw, movi, today, thought, good, effort, good...          1  \n",
       "8                                  [a, bit, predict]          0  \n",
       "9       [love, cast, jimmi, buffet, scienc, teacher]          1  "
      ]
     },
     "execution_count": 145,
     "metadata": {},
     "output_type": "execute_result"
    }
   ],
   "source": [
    "# Implemente a sua solução aqui\n",
    "data['Predicted'] = [predict_from_words(sentence, score_pos_neg) for sentence in data.Review_preprocessado]\n",
    "data.head(10)"
   ]
  },
  {
   "cell_type": "markdown",
   "metadata": {},
   "source": [
    "## 7. Análise das Predições"
   ]
  },
  {
   "cell_type": "markdown",
   "metadata": {},
   "source": [
    "**(TODO)** Desenvolva uma função `calcular_acuracia` que calcule a acurácia (taxa de acerto) das predições realizadas. Para o valor de acurácia arrendonde o número para 3 casas deciamis.\n",
    "\n",
    "Teste:\n",
    "```python\n",
    "print(\n",
    "    calcular_acuracia(data.Label, data.Predicted)\n",
    ")\n",
    "```\n",
    "\n",
    "```bash\n",
    "0.822\n",
    "```"
   ]
  },
  {
   "cell_type": "code",
   "execution_count": 146,
   "metadata": {},
   "outputs": [
    {
     "name": "stdout",
     "output_type": "stream",
     "text": [
      "0.754\n"
     ]
    }
   ],
   "source": [
    "def calcular_acuracia(y_true, y_predicted):\n",
    "    \"\"\"Esta função calcula a acurácia de classificação\n",
    "\n",
    "    Parameters:\n",
    "    for soma todos e divide pelas predições corretas\n",
    "    y_true: valores observados (verdadeiros)\n",
    "    y_predicted: valores preditos pelo preditor\n",
    "\n",
    "    Returns:\n",
    "    integer: predição\n",
    "   \"\"\"\n",
    "    # Implemente a sua solução aqui\n",
    "    return round(accuracy_score(y_true, y_predicted),3)\n",
    "    # return\n",
    "    \n",
    "print(\n",
    "    calcular_acuracia(data.Label, data.Predicted)\n",
    ")"
   ]
  },
  {
   "cell_type": "markdown",
   "metadata": {},
   "source": [
    "## 8. Avaliar o Classificador com Novas Frases"
   ]
  },
  {
   "cell_type": "markdown",
   "metadata": {},
   "source": [
    "**(TODO)** Implemente a função `predict_from_sentenca` para obter uma predição (0 para review negativo e 1 para review negativo) a partir de uma sentenca. A função `predict_from_sentenca` recebe uma sentença, um dicionário de scores e uma função de preprocesamento e retorna uma predição (0 ou 1).\n",
    "\n",
    "Teste:\n",
    "```python\n",
    "print(\n",
    "    predict_from_sentenca('the movie was amazing', score_pos_neg, preprocessar_sentenca)\n",
    ")\n",
    "```\n",
    "\n",
    "Resultado Esperado:\n",
    "```bash\n",
    "1\n",
    "```"
   ]
  },
  {
   "cell_type": "code",
   "execution_count": 147,
   "metadata": {},
   "outputs": [
    {
     "name": "stdout",
     "output_type": "stream",
     "text": [
      "1\n"
     ]
    }
   ],
   "source": [
    "def predict_from_sentenca(sentenca, dicionario, preprocessar_fn):\n",
    "    \"\"\"Esta função realiza a predição a partir de um conjunto de palavras\n",
    "\n",
    "    preprocessar_fn(sentenca)\n",
    "    Parameters:\n",
    "    words (array): conjunto de palavras\n",
    "    dicionario (disc): dicionários de palavras, onde cada palavra tem um valor de score associado\n",
    "    preprocessar_fn (function): função de preprocesamento de sentencas\n",
    "    Returns:\n",
    "    array: um array de valores de scores\n",
    "   \"\"\"\n",
    "    # Implemente a sua solução aqui\n",
    "    words = preprocessar_fn(sentenca)\n",
    "    prediction = predict_from_words(words, score_pos_neg)\n",
    "    # return\n",
    "    return prediction\n",
    "print(\n",
    "    predict_from_sentenca('the movie was amazing', score_pos_neg, preprocessar_sentenca)\n",
    ")"
   ]
  },
  {
   "cell_type": "markdown",
   "metadata": {},
   "source": [
    "## 9. Visualização de Dados com Seaborn\n",
    "\n",
    "**(TODO)** Apresente uma visualização de barras horzontais para mostrar o score das palavras ordenadas em ordem crescente de score."
   ]
  },
  {
   "cell_type": "code",
   "execution_count": 148,
   "metadata": {},
   "outputs": [
    {
     "data": {
      "text/html": [
       "<div>\n",
       "<style scoped>\n",
       "    .dataframe tbody tr th:only-of-type {\n",
       "        vertical-align: middle;\n",
       "    }\n",
       "\n",
       "    .dataframe tbody tr th {\n",
       "        vertical-align: top;\n",
       "    }\n",
       "\n",
       "    .dataframe thead th {\n",
       "        text-align: right;\n",
       "    }\n",
       "</style>\n",
       "<table border=\"1\" class=\"dataframe\">\n",
       "  <thead>\n",
       "    <tr style=\"text-align: right;\">\n",
       "      <th></th>\n",
       "      <th>Term</th>\n",
       "      <th>Score</th>\n",
       "    </tr>\n",
       "  </thead>\n",
       "  <tbody>\n",
       "    <tr>\n",
       "      <th>0</th>\n",
       "      <td>i</td>\n",
       "      <td>0.014</td>\n",
       "    </tr>\n",
       "    <tr>\n",
       "      <th>1</th>\n",
       "      <td>movi</td>\n",
       "      <td>-0.027</td>\n",
       "    </tr>\n",
       "    <tr>\n",
       "      <th>2</th>\n",
       "      <td>the</td>\n",
       "      <td>-0.190</td>\n",
       "    </tr>\n",
       "    <tr>\n",
       "      <th>3</th>\n",
       "      <td>film</td>\n",
       "      <td>0.139</td>\n",
       "    </tr>\n",
       "    <tr>\n",
       "      <th>4</th>\n",
       "      <td>'s</td>\n",
       "      <td>0.364</td>\n",
       "    </tr>\n",
       "  </tbody>\n",
       "</table>\n",
       "</div>"
      ],
      "text/plain": [
       "   Term  Score\n",
       "0     i  0.014\n",
       "1  movi -0.027\n",
       "2   the -0.190\n",
       "3  film  0.139\n",
       "4    's  0.364"
      ]
     },
     "execution_count": 148,
     "metadata": {},
     "output_type": "execute_result"
    }
   ],
   "source": [
    "# Implementa a sua solução aqui\n",
    "df_taxa_pos_neg = pd.DataFrame.from_dict(taxa_pos_neg, orient='index').reset_index()\n",
    "df_taxa_pos_neg.columns=['Term','Score']\n",
    "df_taxa_pos_neg.head()"
   ]
  },
  {
   "cell_type": "code",
   "execution_count": 149,
   "metadata": {},
   "outputs": [
    {
     "data": {
      "text/plain": [
       "<matplotlib.axes._subplots.AxesSubplot at 0x7f3b2f9be588>"
      ]
     },
     "execution_count": 149,
     "metadata": {},
     "output_type": "execute_result"
    },
    {
     "data": {
      "image/png": "[encoded data removed]",
      "text/plain": [
       "<Figure size 720x1440 with 1 Axes>"
      ]
     },
     "metadata": {
      "needs_background": "light"
     },
     "output_type": "display_data"
    }
   ],
   "source": [
    "fig, ax = pyplot.subplots(figsize=(10,20))\n",
    "sns.barplot(ax = ax, y = \"Term\", x = \"Score\", data = df_taxa_pos_neg.sort_values([\"Score\"]))"
   ]
  },
  {
   "cell_type": "code",
   "execution_count": null,
   "metadata": {},
   "outputs": [],
   "source": []
  }
 ],
 "metadata": {
  "anaconda-cloud": {},
  "kernelspec": {
   "display_name": "Python 3",
   "language": "python",
   "name": "python3"
  },
  "language_info": {
   "codemirror_mode": {
    "name": "ipython",
    "version": 3
   },
   "file_extension": ".py",
   "mimetype": "text/x-python",
   "name": "python",
   "nbconvert_exporter": "python",
   "pygments_lexer": "ipython3",
   "version": "3.7.1"
  }
 },
 "nbformat": 4,
 "nbformat_minor": 2
}
