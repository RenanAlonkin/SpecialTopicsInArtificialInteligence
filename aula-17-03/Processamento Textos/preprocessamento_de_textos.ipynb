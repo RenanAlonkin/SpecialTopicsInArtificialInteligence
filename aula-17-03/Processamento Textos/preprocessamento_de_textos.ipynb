{
 "cells": [
  {
   "cell_type": "markdown",
   "metadata": {
    "slideshow": {
     "slide_type": "slide"
    }
   },
   "source": [
    "<link rel=\"stylesheet\" href=\"ipython.min.css\">\n",
    "\n",
    "<img src=\"img/logoifsc.png\">\n",
    "\n",
    "---\n",
    "\n",
    "Prof. Carlos Andrés Ferrero\n",
    "\n",
    "# Pré-processamento de Textos\n",
    "---"
   ]
  },
  {
   "cell_type": "markdown",
   "metadata": {
    "slideshow": {
     "slide_type": "slide"
    }
   },
   "source": [
    "## Conteúdo\n",
    "\n",
    "- Introdução ao Pré-processamento de Textos\n",
    "- Técnicas de NLP (Natural Language Processing)\n",
    "    - Pré-processamento de strings\n",
    "    - Remoção de Stopwords\n",
    "    - Extração do Radical das Palavras (Stemming)\n",
    "    - Tokenização\n",
    "- Pré-procesamento de Tweets\n",
    "- Avaliação das Palavras mais Relevantes em Tweets classificados\n",
    "- Avaliação com Novos dados de Tweets"
   ]
  },
  {
   "cell_type": "markdown",
   "metadata": {
    "slideshow": {
     "slide_type": "slide"
    }
   },
   "source": [
    "## Introdução ao Pré-processamento de Textos\n",
    "\n",
    "- Diversos domínios de aplicação armazenam dados em formato de texto:\n",
    "    - Medicina: laudos médicos\n",
    "    - Literatura: livros e outros documentos\n",
    "    - Jornalismo: notícias\n",
    "    - Redes sociais: posts (por ex. tweets no Twitter)\n",
    "    - ...\n",
    "- Como hoje o volume de dados tem aumentado consideravelmente em qualquer domínio, são necessárias o uso de técnicas automáticas (prefercialmente) ou semi-automáticas, para analisar dados nesse formato.    "
   ]
  },
  {
   "cell_type": "markdown",
   "metadata": {
    "slideshow": {
     "slide_type": "subslide"
    }
   },
   "source": [
    "**Mas o que existe de diferente em analisar dados de texto em relação a outros dados?**\n",
    "\n",
    "- Dados no formato de texto são chamados não-estruturados ou semi-estruturados;\n",
    "\n",
    "- Para compreender melhor, primeiro vamos observar um conjunto de dados estruturado:\n",
    "\n",
    "|Exemplo | Atributo 1 | Atributo 2 | ... | Atributo m | Atributo classe |\n",
    "|------|------|------|------|------|------| \n",
    "|$e_1$ | $x_{1,1}$ | $x_{1,2}$ | ... | $x_{1,m}$ | $y_1$ |\n",
    "|$e_2$ | $x_{2,1}$ | $x_{2,2}$ | ... | $x_{2,m}$ | $y_2$ |\n",
    "| ... | ... | ... | ... | ... | ... |\n",
    "|$e_n$ | $x_{n,1}$ | $x_{n,2}$ | ... | $x_{n,m}$ | $y_n$ |\n",
    "\n",
    "- Cada exemplo é representado pelos valores de um conjunto de atrbiutos, inclusive o atributo classe\n"
   ]
  },
  {
   "cell_type": "markdown",
   "metadata": {
    "slideshow": {
     "slide_type": "subslide"
    }
   },
   "source": [
    "- Em dados de texto cada exemplo não possui um número de atributos, mas possui apenas um texto escrito em linguagem natural.\n",
    "\n",
    "- Por exemplo um conjunto de Tweets:"
   ]
  },
  {
   "cell_type": "code",
   "execution_count": 500,
   "metadata": {
    "slideshow": {
     "slide_type": "skip"
    }
   },
   "outputs": [],
   "source": [
    "import pandas as pd\n",
    "def pretty_print_tweet(item):\n",
    "    print(item.Classificacao.ljust(10) + \":\\t\" + item.Text[0:60] + \"...\")\n",
    "df = pd.read_csv('data/Tweets_Mg.csv', encoding='utf-8')"
   ]
  },
  {
   "cell_type": "code",
   "execution_count": 501,
   "metadata": {},
   "outputs": [
    {
     "name": "stdout",
     "output_type": "stream",
     "text": [
      "Neutro    :\t���⛪ @ Catedral de Santo Antônio - Governador Valadares/MG h...\n",
      "Neutro    :\t� @ Governador Valadares, Minas Gerais https://t.co/B3ThIDJC...\n",
      "Neutro    :\t�� @ Governador Valadares, Minas Gerais https://t.co/dPkgzVR...\n",
      "Neutro    :\t��� https://t.co/BnDsO34qK0...\n",
      "Negativo  :\t��� PSOL vai questionar aumento de vereadores e prefeito de ...\n",
      "Neutro    :\t\" bom é bandido morto\"\n",
      "Deputado Cabo Júlio é condenado e fic...\n",
      "Neutro    :\t\"..E 25% dos mineiros dizem não torcer para time nenhum,mesm...\n",
      "Neutro    :\t\"A gigantesca barba do mal\" em destaque no caderno Cultura d...\n",
      "Negativo  :\t\"BB e governo de Minas travam disputa sobre depósitos judici...\n",
      "Neutro    :\t\"com vcs bh fica pequena!\" Belo Horizonte (pron. [bɛloɾiˈzõn...\n"
     ]
    }
   ],
   "source": [
    "for i in range(10):\n",
    "    pretty_print_tweet(df.loc[i]);"
   ]
  },
  {
   "cell_type": "markdown",
   "metadata": {
    "slideshow": {
     "slide_type": "subslide"
    }
   },
   "source": [
    "**Problemas comumente encontrados**\n",
    "- Faltas de ortografia (erros de acentuação, crase, entre outros)\n",
    "- Presença de Caracteres especiais\n",
    "- Diferentes maneiras de falar algo muito similar\n",
    "- Nomes Próprios e Siglas\n",
    "- Uso de áspas para enfatizar algo (negrito e itálico podem ter essa função)\n",
    "- Presença de informações adicionais que não estavam nos planos de análise, como endereços de site da Internet"
   ]
  },
  {
   "cell_type": "markdown",
   "metadata": {
    "slideshow": {
     "slide_type": "subslide"
    }
   },
   "source": [
    "**Técnicas que um Cientísta de Dados tem que ter Domínio**\n",
    "- Expressões regulares:\n",
    "    - Permitem remover caracteres especiais\n",
    "    - Permitem remover pontuação\n",
    "    - Permitem deixar somente deixar letras e números\n",
    "    - Permitem remover endereços de sites da internet e e-mails\n",
    "    - ..."
   ]
  },
  {
   "cell_type": "markdown",
   "metadata": {
    "slideshow": {
     "slide_type": "subslide"
    }
   },
   "source": [
    "- Manipulação de Strings:\n",
    "    - `split` para separar uma string em partes por algum separador\n",
    "    - *slicing* para mostrar uma substring\n",
    "    - `upper, lower` para transformar dados para maiúsculo ou minúsculo\n",
    "    - `lstrip(), rstrip(), strip()` para remover espaços à direita e à esquerda ou ambos\n",
    "    - ...   "
   ]
  },
  {
   "cell_type": "markdown",
   "metadata": {
    "slideshow": {
     "slide_type": "subslide"
    }
   },
   "source": [
    "- Processamento de Linguagem Natural (Natural Language Processing - NLP):\n",
    "    - Pré-processamento de strings\n",
    "    - Tokenização\n",
    "    - Remoção de Stopwords\n",
    "    - Extração de Radical de Palavras (stemming)\n",
    "    - Word Embeddings, Word2Vec,\n",
    "    - ..."
   ]
  },
  {
   "cell_type": "markdown",
   "metadata": {
    "slideshow": {
     "slide_type": "subslide"
    }
   },
   "source": [
    "- Bibliotecas nas linguagens de programação que auxiliar para fazer NLP: \n",
    "    - numpy e pandas (que são clássicas e de uso geral)\n",
    "    - spaCy\n",
    "    - Gensim\n",
    "    - Pattern\n",
    "    - **NLTK**"
   ]
  },
  {
   "cell_type": "markdown",
   "metadata": {
    "slideshow": {
     "slide_type": "slide"
    }
   },
   "source": [
    "## Técnicas de Processamento de Linguagem Natural\n",
    "\n",
    "- Pré-processamento de strings\n",
    "- Remoção de Stopwords\n",
    "- Extração de Radical (Stemming)\n",
    "- Tokenização"
   ]
  },
  {
   "cell_type": "markdown",
   "metadata": {
    "slideshow": {
     "slide_type": "subslide"
    }
   },
   "source": [
    "### Pré-processamento de strings"
   ]
  },
  {
   "cell_type": "markdown",
   "metadata": {},
   "source": [
    "- Remoção de caracteres de pontuação de uma frase"
   ]
  },
  {
   "cell_type": "code",
   "execution_count": 502,
   "metadata": {},
   "outputs": [
    {
     "name": "stdout",
     "output_type": "stream",
     "text": [
      "Esta é uma frase com pontuação! Retira a minha ponutação, por favor?\n"
     ]
    }
   ],
   "source": [
    "text = 'Esta é uma frase com pontuação! Retira a minha ponutação, por favor?'\n",
    "print(text)"
   ]
  },
  {
   "cell_type": "code",
   "execution_count": 503,
   "metadata": {},
   "outputs": [
    {
     "name": "stdout",
     "output_type": "stream",
     "text": [
      "Esta é uma frase com pontuação Retira a minha ponutação por favor\n"
     ]
    }
   ],
   "source": [
    "expression = '[!?,]'\n",
    "text_new = pd.Series(text).replace( expression , '', regex=True).loc[0]\n",
    "print(text_new)"
   ]
  },
  {
   "cell_type": "markdown",
   "metadata": {
    "slideshow": {
     "slide_type": "subslide"
    }
   },
   "source": [
    "- Manter apenas letras e números no texto"
   ]
  },
  {
   "cell_type": "code",
   "execution_count": 504,
   "metadata": {},
   "outputs": [
    {
     "name": "stdout",
     "output_type": "stream",
     "text": [
      "Estima-se que 20% dos alunos do IFSC nao sabem trabalhar com expressoes regulares. Sera verdade?\n"
     ]
    }
   ],
   "source": [
    "text = 'Estima-se que 20% dos alunos do IFSC nao sabem trabalhar com expressoes regulares. Sera verdade?'\n",
    "print(text)"
   ]
  },
  {
   "cell_type": "code",
   "execution_count": 505,
   "metadata": {},
   "outputs": [
    {
     "name": "stdout",
     "output_type": "stream",
     "text": [
      "Estimase que 20 dos alunos do IFSC nao sabem trabalhar com expressoes regulares Sera verdade\n"
     ]
    }
   ],
   "source": [
    "expression = '[^a-zA-Z0-9\\s]'\n",
    "text_new = pd.Series(text).replace( expression , '', regex=True).loc[0]\n",
    "print(text_new)"
   ]
  },
  {
   "cell_type": "markdown",
   "metadata": {
    "slideshow": {
     "slide_type": "subslide"
    }
   },
   "source": [
    "- O problema da acentuação"
   ]
  },
  {
   "cell_type": "code",
   "execution_count": 506,
   "metadata": {
    "slideshow": {
     "slide_type": "-"
    }
   },
   "outputs": [
    {
     "name": "stdout",
     "output_type": "stream",
     "text": [
      "Estima-se que 20% dos alunos do IFSC não sabem trabalhar com expressões regulares. Será verdade?\n"
     ]
    }
   ],
   "source": [
    "text = 'Estima-se que 20% dos alunos do IFSC não sabem trabalhar com expressões regulares. Será verdade?'\n",
    "print(text)"
   ]
  },
  {
   "cell_type": "code",
   "execution_count": 507,
   "metadata": {},
   "outputs": [
    {
     "name": "stdout",
     "output_type": "stream",
     "text": [
      "Estimase que 20 dos alunos do IFSC no sabem trabalhar com expresses regulares Ser verdade\n"
     ]
    }
   ],
   "source": [
    "expression = '[^a-zA-Z0-9\\s]'\n",
    "text_new = pd.Series(text).replace( expression , '', regex=True).loc[0]\n",
    "print(text_new)"
   ]
  },
  {
   "cell_type": "markdown",
   "metadata": {
    "slideshow": {
     "slide_type": "subslide"
    }
   },
   "source": [
    "- Remover todos os acentos das palavras"
   ]
  },
  {
   "cell_type": "code",
   "execution_count": 508,
   "metadata": {},
   "outputs": [
    {
     "data": {
      "text/plain": [
       "'Estima-se que 20% dos alunos do IFSC não sabem trabalhar com expressões regulares. Será verdade?'"
      ]
     },
     "execution_count": 508,
     "metadata": {},
     "output_type": "execute_result"
    }
   ],
   "source": [
    "text"
   ]
  },
  {
   "cell_type": "code",
   "execution_count": 509,
   "metadata": {},
   "outputs": [],
   "source": [
    "#conda install unidecode"
   ]
  },
  {
   "cell_type": "code",
   "execution_count": 510,
   "metadata": {},
   "outputs": [],
   "source": [
    "import unidecode\n",
    "def remover_acentos(texto):\n",
    "    return unidecode.unidecode(texto)\n",
    "\n",
    "text_new = remover_acentos(text)"
   ]
  },
  {
   "cell_type": "code",
   "execution_count": 511,
   "metadata": {},
   "outputs": [
    {
     "data": {
      "text/plain": [
       "'Estima-se que 20% dos alunos do IFSC nao sabem trabalhar com expressoes regulares. Sera verdade?'"
      ]
     },
     "execution_count": 511,
     "metadata": {},
     "output_type": "execute_result"
    }
   ],
   "source": [
    "text_new"
   ]
  },
  {
   "cell_type": "markdown",
   "metadata": {
    "slideshow": {
     "slide_type": "subslide"
    }
   },
   "source": [
    "- Remover endereço de site da Internet no texto"
   ]
  },
  {
   "cell_type": "code",
   "execution_count": 512,
   "metadata": {},
   "outputs": [
    {
     "data": {
      "text/plain": [
       "'� @ Governador Valadares, Minas Gerais https://t.co/B3ThIDJCSf'"
      ]
     },
     "execution_count": 512,
     "metadata": {},
     "output_type": "execute_result"
    }
   ],
   "source": [
    "text = df.loc[1].Text\n",
    "text"
   ]
  },
  {
   "cell_type": "code",
   "execution_count": 513,
   "metadata": {},
   "outputs": [
    {
     "name": "stdout",
     "output_type": "stream",
     "text": [
      "� @ Governador Valadares, Minas Gerais \n"
     ]
    }
   ],
   "source": [
    "expression = r'https?:\\/\\/.*[\\r\\n]*'\n",
    "text_new = pd.Series(text).replace( expression , '', regex=True).loc[0]\n",
    "print(text_new)"
   ]
  },
  {
   "cell_type": "markdown",
   "metadata": {
    "slideshow": {
     "slide_type": "subslide"
    }
   },
   "source": [
    "- Substituir endereço de E-mail por uma tag"
   ]
  },
  {
   "cell_type": "code",
   "execution_count": 514,
   "metadata": {
    "slideshow": {
     "slide_type": "-"
    }
   },
   "outputs": [],
   "source": [
    "text = 'O meu email é andres.ferrero@ifsc.edu.br. Trabalho como professor no IFSC'"
   ]
  },
  {
   "cell_type": "code",
   "execution_count": 515,
   "metadata": {},
   "outputs": [
    {
     "name": "stdout",
     "output_type": "stream",
     "text": [
      "O meu email é <email>. Trabalho como professor no IFSC\n"
     ]
    }
   ],
   "source": [
    "expression = r'([a-zA-Z0-9_\\-\\.]+)@([a-zA-Z0-9_\\-\\.]+)\\.([a-zA-Z]{2,5})'\n",
    "text_new = pd.Series(text).replace( expression , '<email>', regex=True).loc[0]\n",
    "print(text_new)"
   ]
  },
  {
   "cell_type": "markdown",
   "metadata": {
    "slideshow": {
     "slide_type": "subslide"
    }
   },
   "source": [
    "### Tokenização\n",
    "\n",
    "- A tokenização permite separar os elementos de uma frase, como palavras, pontuação, caracteres especiais, entre outros.\n",
    "\n",
    "- Uma função que costuma fazer algo similar é `split`, mas como veremos a tokenização é mais efetiva."
   ]
  },
  {
   "cell_type": "code",
   "execution_count": 516,
   "metadata": {},
   "outputs": [],
   "source": [
    "text = 'Hoje é um dia muito bonito, ótimo para estudar Text Mining!!! Teremos muito para trabalhar!'"
   ]
  },
  {
   "cell_type": "markdown",
   "metadata": {},
   "source": [
    "- Separação dos elementos da frase usando `split`"
   ]
  },
  {
   "cell_type": "code",
   "execution_count": 517,
   "metadata": {},
   "outputs": [
    {
     "name": "stdout",
     "output_type": "stream",
     "text": [
      "['Hoje', 'é', 'um', 'dia', 'muito', 'bonito,', 'ótimo', 'para', 'estudar', 'Text', 'Mining!!!', 'Teremos', 'muito', 'para', 'trabalhar!']\n"
     ]
    }
   ],
   "source": [
    "print( text.split(\" \") )"
   ]
  },
  {
   "cell_type": "markdown",
   "metadata": {
    "slideshow": {
     "slide_type": "subslide"
    }
   },
   "source": [
    "- Separação dos elementos da frase usando tokenização"
   ]
  },
  {
   "cell_type": "code",
   "execution_count": 518,
   "metadata": {},
   "outputs": [],
   "source": [
    "import nltk    \n",
    "# nltk.download('punkt')\n",
    "from nltk import tokenize"
   ]
  },
  {
   "cell_type": "code",
   "execution_count": 519,
   "metadata": {},
   "outputs": [
    {
     "name": "stdout",
     "output_type": "stream",
     "text": [
      "['Hoje', 'é', 'um', 'dia', 'muito', 'bonito', ',', 'ótimo', 'para', 'estudar', 'Text', 'Mining', '!', '!', '!', 'Teremos', 'muito', 'para', 'trabalhar', '!']\n"
     ]
    }
   ],
   "source": [
    "tokens = tokenize.word_tokenize(text, language='portuguese')\n",
    "print( tokens )"
   ]
  },
  {
   "cell_type": "markdown",
   "metadata": {
    "slideshow": {
     "slide_type": "subslide"
    }
   },
   "source": [
    "### Remoção de Stopwords\n",
    "\n",
    "- Stopwords palavras que se removidas da frase não alteram o seu significado ou sentido.\n",
    "\n",
    "- A lista de Stopwords depende do domínio de aplicação, mas de forma geral, é constituída de preposições.\n",
    "\n",
    "- A biblioteca NLTK já proporciona uma lista de Stopwords para a lingua portuguesa."
   ]
  },
  {
   "cell_type": "code",
   "execution_count": 520,
   "metadata": {},
   "outputs": [
    {
     "name": "stdout",
     "output_type": "stream",
     "text": [
      "Lista de stopwords: \n",
      "['de', 'a', 'o', 'que', 'e', 'do', 'da', 'em', 'um', 'para', 'com', 'não', 'uma', 'os', 'no', 'se', 'na', 'por', 'mais', 'as', 'dos', 'como', 'mas', 'ao', 'ele', 'das', 'à', 'seu', 'sua', 'ou', 'quando', 'muito', 'nos', 'já', 'eu', 'também', 'só', 'pelo', 'pela', 'até', 'isso', 'ela', 'entre', 'depois', 'sem', 'mesmo', 'aos', 'seus', 'quem', 'nas'] ...\n"
     ]
    }
   ],
   "source": [
    "# nltk.download('stopwords')\n",
    "stopwords = nltk.corpus.stopwords.words('portuguese')\n",
    "print('Lista de stopwords: ')\n",
    "print( stopwords[0:50], '...' )"
   ]
  },
  {
   "cell_type": "markdown",
   "metadata": {
    "slideshow": {
     "slide_type": "subslide"
    }
   },
   "source": [
    "- Função para remover Stopwords"
   ]
  },
  {
   "cell_type": "code",
   "execution_count": 521,
   "metadata": {
    "slideshow": {
     "slide_type": "-"
    }
   },
   "outputs": [],
   "source": [
    "def remove_stopwords(sentence, language = \"portuguese\"):\n",
    "    # Import packages\n",
    "    # nltk.download('stopwords')\n",
    "    from nltk.corpus import stopwords  \n",
    "    # Split sentence into words\n",
    "    words = sentence.split(' ')\n",
    "    # Get the stopwords list\n",
    "    stopwords = stopwords.words(language)        \n",
    "    words_new = [ word for word in words if word not in stopwords]\n",
    "    # Impode words into a sentence and return\n",
    "    return ' '.join(words_new)"
   ]
  },
  {
   "cell_type": "markdown",
   "metadata": {
    "slideshow": {
     "slide_type": "subslide"
    }
   },
   "source": [
    "- Considere a seguinte frase:"
   ]
  },
  {
   "cell_type": "code",
   "execution_count": 522,
   "metadata": {},
   "outputs": [],
   "source": [
    "text = 'Hoje é um dia muito bonito, ótimo para estudar Text Mining! Teremos que trabalhar.'"
   ]
  },
  {
   "cell_type": "markdown",
   "metadata": {},
   "source": [
    "- Observe que o sentido da seguinte frase não muda após a remoção de Stopwords"
   ]
  },
  {
   "cell_type": "code",
   "execution_count": 523,
   "metadata": {},
   "outputs": [
    {
     "name": "stdout",
     "output_type": "stream",
     "text": [
      "Hoje é dia bonito, ótimo estudar Text Mining! Teremos trabalhar.\n"
     ]
    }
   ],
   "source": [
    "text_new = remove_stopwords(text)\n",
    "print(text_new)"
   ]
  },
  {
   "cell_type": "markdown",
   "metadata": {
    "slideshow": {
     "slide_type": "subslide"
    }
   },
   "source": [
    "### Extração do Radical das Palavras (Stemming)\n",
    "\n",
    "- Esta técnica permite extrair o radical linguístico de uma palavra\n",
    "\n",
    "- É utilizado principalmente para unificar as variações da mesma palavra\n",
    "    - Por exemplo, as palavras `furto`, `furtos`, `furtar`, `furtarei`, possuem como radical `furt`.\n",
    "\n",
    "\n",
    "- Como resultado teremos um conjunto de dados com um número menos de termos"
   ]
  },
  {
   "cell_type": "code",
   "execution_count": 524,
   "metadata": {
    "slideshow": {
     "slide_type": "subslide"
    }
   },
   "outputs": [],
   "source": [
    "def stem_sentence(sentence, language = \"portuguese\"):\n",
    "    # Import packages\n",
    "    from nltk.stem.snowball import SnowballStemmer  \n",
    "    # Split sentence into words\n",
    "    words = sentence.split(' ')\n",
    "    # Stem words\n",
    "    stemmer = SnowballStemmer(language)        \n",
    "    words_stem = [ stemmer.stem(word) for word in words ]\n",
    "    # Impode words into a sentence and return\n",
    "    return ' '.join(words_stem)    "
   ]
  },
  {
   "cell_type": "markdown",
   "metadata": {
    "slideshow": {
     "slide_type": "subslide"
    }
   },
   "source": [
    "- Considere as seguintes três frases."
   ]
  },
  {
   "cell_type": "code",
   "execution_count": 525,
   "metadata": {},
   "outputs": [],
   "source": [
    "msg1 = 'Trio suspeito de furto de carga'\n",
    "msg2 = 'Trio suspeito de furto de cargas'\n",
    "msg3 = 'Trio suspeito de furtos de cargas'"
   ]
  },
  {
   "cell_type": "markdown",
   "metadata": {},
   "source": [
    "- Resultado da aplicação de stemming: antes tínhamos três frases diferentes, agora temos três frases iguais."
   ]
  },
  {
   "cell_type": "code",
   "execution_count": 526,
   "metadata": {},
   "outputs": [
    {
     "name": "stdout",
     "output_type": "stream",
     "text": [
      "Trio suspeito de furto de carga    :  tri suspeit de furt de carg\n",
      "Trio suspeito de furto de cargas   :  tri suspeit de furt de carg\n",
      "Trio suspeito de furtos de cargas  :  tri suspeit de furt de carg\n"
     ]
    }
   ],
   "source": [
    "print( msg1.ljust(33), ' : ', stem_sentence(msg1) )\n",
    "print( msg2.ljust(33), ' : ', stem_sentence(msg2) )\n",
    "print( msg3.ljust(33), ' : ', stem_sentence(msg3) )"
   ]
  },
  {
   "cell_type": "markdown",
   "metadata": {
    "slideshow": {
     "slide_type": "subslide"
    }
   },
   "source": [
    "### Considerações\n",
    "\n",
    "- As funções para tokenização, remoção de stopwords e aplicação de stemming são dependentes do idioma. A biblioteca NLTK possui essas funcionalidade para a lingua portugesa e para outras linhas, como inglês (por default) e espanhol.\n",
    "- As técnicas de pré-processamento de dados não funcionam bem para qualquer caso e devem ser aplicadas com bastante cuidado. Por exemplo, se na frase \"Meu site eh: http://www.meusite.com\" aplicamos remoção de caracteres especiais ou de pontuação, depois não poderemos aplicar a remoção endereço de site da Internet, já que o resultado teria ficado algo como \"Meu site eh httpwwwmeusitecom\".\n",
    "- Em geral a ideia de aplicar estas técnicas consiste em manter o significado das frases do conjunto de dados com o menor número de palavras possível."
   ]
  },
  {
   "cell_type": "markdown",
   "metadata": {
    "slideshow": {
     "slide_type": "slide"
    }
   },
   "source": [
    "### Pré-processamento de Tweets: conjunto de dados *Sentiment Analysis in Portuguese*\n",
    "\n",
    "- O conjunto de dados está disponível na plataforma Kaggle no endereço https://www.kaggle.com/leandrodoze/sentiment-analysis-in-portuguese"
   ]
  },
  {
   "cell_type": "code",
   "execution_count": 527,
   "metadata": {
    "slideshow": {
     "slide_type": "-"
    }
   },
   "outputs": [
    {
     "data": {
      "text/html": [
       "<div>\n",
       "<style scoped>\n",
       "    .dataframe tbody tr th:only-of-type {\n",
       "        vertical-align: middle;\n",
       "    }\n",
       "\n",
       "    .dataframe tbody tr th {\n",
       "        vertical-align: top;\n",
       "    }\n",
       "\n",
       "    .dataframe thead th {\n",
       "        text-align: right;\n",
       "    }\n",
       "</style>\n",
       "<table border=\"1\" class=\"dataframe\">\n",
       "  <thead>\n",
       "    <tr style=\"text-align: right;\">\n",
       "      <th></th>\n",
       "      <th>Unnamed: 0</th>\n",
       "      <th>Created At</th>\n",
       "      <th>Text</th>\n",
       "      <th>Geo Coordinates.latitude</th>\n",
       "      <th>Geo Coordinates.longitude</th>\n",
       "      <th>User Location</th>\n",
       "      <th>Username</th>\n",
       "      <th>User Screen Name</th>\n",
       "      <th>Retweet Count</th>\n",
       "      <th>Classificacao</th>\n",
       "      <th>...</th>\n",
       "      <th>Unnamed: 15</th>\n",
       "      <th>Unnamed: 16</th>\n",
       "      <th>Unnamed: 17</th>\n",
       "      <th>Unnamed: 18</th>\n",
       "      <th>Unnamed: 19</th>\n",
       "      <th>Unnamed: 20</th>\n",
       "      <th>Unnamed: 21</th>\n",
       "      <th>Unnamed: 22</th>\n",
       "      <th>Unnamed: 23</th>\n",
       "      <th>Unnamed: 24</th>\n",
       "    </tr>\n",
       "  </thead>\n",
       "  <tbody>\n",
       "    <tr>\n",
       "      <th>0</th>\n",
       "      <td>0</td>\n",
       "      <td>Sun Jan 08 01:22:05 +0000 2017</td>\n",
       "      <td>���⛪ @ Catedral de Santo Antônio - Governador ...</td>\n",
       "      <td>NaN</td>\n",
       "      <td>NaN</td>\n",
       "      <td>Brasil</td>\n",
       "      <td>Leonardo C Schneider</td>\n",
       "      <td>LeoCSchneider</td>\n",
       "      <td>0</td>\n",
       "      <td>Neutro</td>\n",
       "      <td>...</td>\n",
       "      <td>NaN</td>\n",
       "      <td>NaN</td>\n",
       "      <td>NaN</td>\n",
       "      <td>NaN</td>\n",
       "      <td>NaN</td>\n",
       "      <td>NaN</td>\n",
       "      <td>NaN</td>\n",
       "      <td>NaN</td>\n",
       "      <td>NaN</td>\n",
       "      <td>NaN</td>\n",
       "    </tr>\n",
       "  </tbody>\n",
       "</table>\n",
       "<p>1 rows × 26 columns</p>\n",
       "</div>"
      ],
      "text/plain": [
       "   Unnamed: 0                      Created At  \\\n",
       "0           0  Sun Jan 08 01:22:05 +0000 2017   \n",
       "\n",
       "                                                Text  \\\n",
       "0  ���⛪ @ Catedral de Santo Antônio - Governador ...   \n",
       "\n",
       "   Geo Coordinates.latitude  Geo Coordinates.longitude User Location  \\\n",
       "0                       NaN                        NaN        Brasil   \n",
       "\n",
       "               Username User Screen Name  Retweet Count Classificacao  ...  \\\n",
       "0  Leonardo C Schneider    LeoCSchneider              0        Neutro  ...   \n",
       "\n",
       "  Unnamed: 15  Unnamed: 16  Unnamed: 17  Unnamed: 18  Unnamed: 19  \\\n",
       "0         NaN          NaN          NaN          NaN          NaN   \n",
       "\n",
       "   Unnamed: 20  Unnamed: 21  Unnamed: 22  Unnamed: 23  Unnamed: 24  \n",
       "0          NaN          NaN          NaN          NaN          NaN  \n",
       "\n",
       "[1 rows x 26 columns]"
      ]
     },
     "execution_count": 527,
     "metadata": {},
     "output_type": "execute_result"
    }
   ],
   "source": [
    "import pandas as pd\n",
    "df = pd.read_csv('data/Tweets_Mg.csv', encoding='utf-8')\n",
    "df_orig = df\n",
    "df.head(1)"
   ]
  },
  {
   "cell_type": "code",
   "execution_count": 528,
   "metadata": {
    "slideshow": {
     "slide_type": "subslide"
    }
   },
   "outputs": [
    {
     "data": {
      "text/html": [
       "<div>\n",
       "<style scoped>\n",
       "    .dataframe tbody tr th:only-of-type {\n",
       "        vertical-align: middle;\n",
       "    }\n",
       "\n",
       "    .dataframe tbody tr th {\n",
       "        vertical-align: top;\n",
       "    }\n",
       "\n",
       "    .dataframe thead th {\n",
       "        text-align: right;\n",
       "    }\n",
       "</style>\n",
       "<table border=\"1\" class=\"dataframe\">\n",
       "  <thead>\n",
       "    <tr style=\"text-align: right;\">\n",
       "      <th></th>\n",
       "      <th>Unnamed: 0</th>\n",
       "      <th>Created At</th>\n",
       "      <th>Text</th>\n",
       "      <th>Geo Coordinates.latitude</th>\n",
       "      <th>Geo Coordinates.longitude</th>\n",
       "      <th>User Location</th>\n",
       "      <th>Username</th>\n",
       "      <th>User Screen Name</th>\n",
       "      <th>Retweet Count</th>\n",
       "      <th>Classificacao</th>\n",
       "      <th>...</th>\n",
       "      <th>Unnamed: 15</th>\n",
       "      <th>Unnamed: 16</th>\n",
       "      <th>Unnamed: 17</th>\n",
       "      <th>Unnamed: 18</th>\n",
       "      <th>Unnamed: 19</th>\n",
       "      <th>Unnamed: 20</th>\n",
       "      <th>Unnamed: 21</th>\n",
       "      <th>Unnamed: 22</th>\n",
       "      <th>Unnamed: 23</th>\n",
       "      <th>Unnamed: 24</th>\n",
       "    </tr>\n",
       "  </thead>\n",
       "  <tbody>\n",
       "    <tr>\n",
       "      <th>1</th>\n",
       "      <td>1</td>\n",
       "      <td>Sun Jan 08 01:49:01 +0000 2017</td>\n",
       "      <td>� @ Governador Valadares, Minas Gerais https:/...</td>\n",
       "      <td>-41.9333</td>\n",
       "      <td>-18.85</td>\n",
       "      <td>NaN</td>\n",
       "      <td>Wândell</td>\n",
       "      <td>klefnews</td>\n",
       "      <td>0</td>\n",
       "      <td>Neutro</td>\n",
       "      <td>...</td>\n",
       "      <td>NaN</td>\n",
       "      <td>NaN</td>\n",
       "      <td>NaN</td>\n",
       "      <td>NaN</td>\n",
       "      <td>NaN</td>\n",
       "      <td>NaN</td>\n",
       "      <td>NaN</td>\n",
       "      <td>NaN</td>\n",
       "      <td>NaN</td>\n",
       "      <td>NaN</td>\n",
       "    </tr>\n",
       "    <tr>\n",
       "      <th>10</th>\n",
       "      <td>10</td>\n",
       "      <td>Mon Jan 09 15:09:31 +0000 2017</td>\n",
       "      <td>\"Daí a gente visita governador valadares\"\\n\"Qu...</td>\n",
       "      <td>NaN</td>\n",
       "      <td>NaN</td>\n",
       "      <td>error 404 location not found</td>\n",
       "      <td>gambim</td>\n",
       "      <td>marina_gambim</td>\n",
       "      <td>0</td>\n",
       "      <td>Neutro</td>\n",
       "      <td>...</td>\n",
       "      <td>NaN</td>\n",
       "      <td>NaN</td>\n",
       "      <td>NaN</td>\n",
       "      <td>NaN</td>\n",
       "      <td>NaN</td>\n",
       "      <td>NaN</td>\n",
       "      <td>NaN</td>\n",
       "      <td>NaN</td>\n",
       "      <td>NaN</td>\n",
       "      <td>NaN</td>\n",
       "    </tr>\n",
       "    <tr>\n",
       "      <th>20</th>\n",
       "      <td>20</td>\n",
       "      <td>Wed Jan 04 19:43:08 +0000 2017</td>\n",
       "      <td>\"O governo de Minas Gerais não comentou o assu...</td>\n",
       "      <td>NaN</td>\n",
       "      <td>NaN</td>\n",
       "      <td>Belo Horizonte, Brazil</td>\n",
       "      <td>Fora Renan</td>\n",
       "      <td>CedeSilva</td>\n",
       "      <td>4</td>\n",
       "      <td>Neutro</td>\n",
       "      <td>...</td>\n",
       "      <td>NaN</td>\n",
       "      <td>NaN</td>\n",
       "      <td>NaN</td>\n",
       "      <td>NaN</td>\n",
       "      <td>NaN</td>\n",
       "      <td>NaN</td>\n",
       "      <td>NaN</td>\n",
       "      <td>NaN</td>\n",
       "      <td>NaN</td>\n",
       "      <td>NaN</td>\n",
       "    </tr>\n",
       "  </tbody>\n",
       "</table>\n",
       "<p>3 rows × 26 columns</p>\n",
       "</div>"
      ],
      "text/plain": [
       "    Unnamed: 0                      Created At  \\\n",
       "1            1  Sun Jan 08 01:49:01 +0000 2017   \n",
       "10          10  Mon Jan 09 15:09:31 +0000 2017   \n",
       "20          20  Wed Jan 04 19:43:08 +0000 2017   \n",
       "\n",
       "                                                 Text  \\\n",
       "1   � @ Governador Valadares, Minas Gerais https:/...   \n",
       "10  \"Daí a gente visita governador valadares\"\\n\"Qu...   \n",
       "20  \"O governo de Minas Gerais não comentou o assu...   \n",
       "\n",
       "    Geo Coordinates.latitude  Geo Coordinates.longitude  \\\n",
       "1                   -41.9333                     -18.85   \n",
       "10                       NaN                        NaN   \n",
       "20                       NaN                        NaN   \n",
       "\n",
       "                   User Location    Username User Screen Name  Retweet Count  \\\n",
       "1                            NaN     Wândell         klefnews              0   \n",
       "10  error 404 location not found      gambim    marina_gambim              0   \n",
       "20        Belo Horizonte, Brazil  Fora Renan        CedeSilva              4   \n",
       "\n",
       "   Classificacao  ... Unnamed: 15  Unnamed: 16  Unnamed: 17  Unnamed: 18  \\\n",
       "1         Neutro  ...         NaN          NaN          NaN          NaN   \n",
       "10        Neutro  ...         NaN          NaN          NaN          NaN   \n",
       "20        Neutro  ...         NaN          NaN          NaN          NaN   \n",
       "\n",
       "    Unnamed: 19  Unnamed: 20  Unnamed: 21  Unnamed: 22  Unnamed: 23  \\\n",
       "1           NaN          NaN          NaN          NaN          NaN   \n",
       "10          NaN          NaN          NaN          NaN          NaN   \n",
       "20          NaN          NaN          NaN          NaN          NaN   \n",
       "\n",
       "    Unnamed: 24  \n",
       "1           NaN  \n",
       "10          NaN  \n",
       "20          NaN  \n",
       "\n",
       "[3 rows x 26 columns]"
      ]
     },
     "execution_count": 528,
     "metadata": {},
     "output_type": "execute_result"
    }
   ],
   "source": [
    "df.loc[[1,10,20]]"
   ]
  },
  {
   "cell_type": "markdown",
   "metadata": {
    "slideshow": {
     "slide_type": "subslide"
    }
   },
   "source": [
    "### Descrição dos tipos de dados de cada coluna"
   ]
  },
  {
   "cell_type": "code",
   "execution_count": 529,
   "metadata": {},
   "outputs": [
    {
     "name": "stdout",
     "output_type": "stream",
     "text": [
      "<class 'pandas.core.frame.DataFrame'>\n",
      "RangeIndex: 8199 entries, 0 to 8198\n",
      "Data columns (total 26 columns):\n",
      "Unnamed: 0                   8199 non-null int64\n",
      "Created At                   8199 non-null object\n",
      "Text                         8199 non-null object\n",
      "Geo Coordinates.latitude     104 non-null float64\n",
      "Geo Coordinates.longitude    104 non-null float64\n",
      "User Location                5489 non-null object\n",
      "Username                     8199 non-null object\n",
      "User Screen Name             8199 non-null object\n",
      "Retweet Count                8199 non-null int64\n",
      "Classificacao                8199 non-null object\n",
      "Observação                   1 non-null object\n",
      "Unnamed: 10                  0 non-null float64\n",
      "Unnamed: 11                  0 non-null float64\n",
      "Unnamed: 12                  0 non-null float64\n",
      "Unnamed: 13                  0 non-null float64\n",
      "Unnamed: 14                  0 non-null float64\n",
      "Unnamed: 15                  0 non-null float64\n",
      "Unnamed: 16                  0 non-null float64\n",
      "Unnamed: 17                  0 non-null float64\n",
      "Unnamed: 18                  0 non-null float64\n",
      "Unnamed: 19                  0 non-null float64\n",
      "Unnamed: 20                  0 non-null float64\n",
      "Unnamed: 21                  0 non-null float64\n",
      "Unnamed: 22                  0 non-null float64\n",
      "Unnamed: 23                  0 non-null float64\n",
      "Unnamed: 24                  0 non-null float64\n",
      "dtypes: float64(17), int64(2), object(7)\n",
      "memory usage: 1.6+ MB\n"
     ]
    }
   ],
   "source": [
    "df.info()"
   ]
  },
  {
   "cell_type": "markdown",
   "metadata": {
    "slideshow": {
     "slide_type": "subslide"
    }
   },
   "source": [
    "### Seleção das Colunas Improtantes para Estudo"
   ]
  },
  {
   "cell_type": "code",
   "execution_count": 530,
   "metadata": {},
   "outputs": [
    {
     "data": {
      "text/html": [
       "<div>\n",
       "<style scoped>\n",
       "    .dataframe tbody tr th:only-of-type {\n",
       "        vertical-align: middle;\n",
       "    }\n",
       "\n",
       "    .dataframe tbody tr th {\n",
       "        vertical-align: top;\n",
       "    }\n",
       "\n",
       "    .dataframe thead th {\n",
       "        text-align: right;\n",
       "    }\n",
       "</style>\n",
       "<table border=\"1\" class=\"dataframe\">\n",
       "  <thead>\n",
       "    <tr style=\"text-align: right;\">\n",
       "      <th></th>\n",
       "      <th>Text</th>\n",
       "      <th>Classificacao</th>\n",
       "    </tr>\n",
       "  </thead>\n",
       "  <tbody>\n",
       "    <tr>\n",
       "      <th>0</th>\n",
       "      <td>���⛪ @ Catedral de Santo Antônio - Governador ...</td>\n",
       "      <td>Neutro</td>\n",
       "    </tr>\n",
       "    <tr>\n",
       "      <th>1</th>\n",
       "      <td>� @ Governador Valadares, Minas Gerais https:/...</td>\n",
       "      <td>Neutro</td>\n",
       "    </tr>\n",
       "    <tr>\n",
       "      <th>2</th>\n",
       "      <td>�� @ Governador Valadares, Minas Gerais https:...</td>\n",
       "      <td>Neutro</td>\n",
       "    </tr>\n",
       "    <tr>\n",
       "      <th>3</th>\n",
       "      <td>��� https://t.co/BnDsO34qK0</td>\n",
       "      <td>Neutro</td>\n",
       "    </tr>\n",
       "    <tr>\n",
       "      <th>4</th>\n",
       "      <td>��� PSOL vai questionar aumento de vereadores ...</td>\n",
       "      <td>Negativo</td>\n",
       "    </tr>\n",
       "  </tbody>\n",
       "</table>\n",
       "</div>"
      ],
      "text/plain": [
       "                                                Text Classificacao\n",
       "0  ���⛪ @ Catedral de Santo Antônio - Governador ...        Neutro\n",
       "1  � @ Governador Valadares, Minas Gerais https:/...        Neutro\n",
       "2  �� @ Governador Valadares, Minas Gerais https:...        Neutro\n",
       "3                        ��� https://t.co/BnDsO34qK0        Neutro\n",
       "4  ��� PSOL vai questionar aumento de vereadores ...      Negativo"
      ]
     },
     "execution_count": 530,
     "metadata": {},
     "output_type": "execute_result"
    }
   ],
   "source": [
    "df = df[ ['Text','Classificacao'] ]\n",
    "df.head()"
   ]
  },
  {
   "cell_type": "markdown",
   "metadata": {
    "slideshow": {
     "slide_type": "subslide"
    }
   },
   "source": [
    "- Mostrar os dados do conjunto com uma função específica"
   ]
  },
  {
   "cell_type": "code",
   "execution_count": 531,
   "metadata": {
    "slideshow": {
     "slide_type": "-"
    }
   },
   "outputs": [],
   "source": [
    "import pandas as pd\n",
    "def pretty_print_tweet(item):\n",
    "    print(item.Classificacao.ljust(10) + \":\\t\" + item.Text[0:60] + \"...\")"
   ]
  },
  {
   "cell_type": "code",
   "execution_count": 532,
   "metadata": {},
   "outputs": [
    {
     "name": "stdout",
     "output_type": "stream",
     "text": [
      "Neutro    :\t���⛪ @ Catedral de Santo Antônio - Governador Valadares/MG h...\n",
      "Neutro    :\t� @ Governador Valadares, Minas Gerais https://t.co/B3ThIDJC...\n",
      "Neutro    :\t�� @ Governador Valadares, Minas Gerais https://t.co/dPkgzVR...\n",
      "Neutro    :\t��� https://t.co/BnDsO34qK0...\n",
      "Negativo  :\t��� PSOL vai questionar aumento de vereadores e prefeito de ...\n",
      "Neutro    :\t\" bom é bandido morto\"\n",
      "Deputado Cabo Júlio é condenado e fic...\n",
      "Neutro    :\t\"..E 25% dos mineiros dizem não torcer para time nenhum,mesm...\n",
      "Neutro    :\t\"A gigantesca barba do mal\" em destaque no caderno Cultura d...\n",
      "Negativo  :\t\"BB e governo de Minas travam disputa sobre depósitos judici...\n",
      "Neutro    :\t\"com vcs bh fica pequena!\" Belo Horizonte (pron. [bɛloɾiˈzõn...\n"
     ]
    }
   ],
   "source": [
    "for i in range(10):\n",
    "    pretty_print_tweet(df.loc[i]);"
   ]
  },
  {
   "cell_type": "markdown",
   "metadata": {
    "slideshow": {
     "slide_type": "subslide"
    }
   },
   "source": [
    "### Contagem do número de tweets por categoria"
   ]
  },
  {
   "cell_type": "code",
   "execution_count": 533,
   "metadata": {},
   "outputs": [
    {
     "data": {
      "text/html": [
       "<div>\n",
       "<style scoped>\n",
       "    .dataframe tbody tr th:only-of-type {\n",
       "        vertical-align: middle;\n",
       "    }\n",
       "\n",
       "    .dataframe tbody tr th {\n",
       "        vertical-align: top;\n",
       "    }\n",
       "\n",
       "    .dataframe thead th {\n",
       "        text-align: right;\n",
       "    }\n",
       "</style>\n",
       "<table border=\"1\" class=\"dataframe\">\n",
       "  <thead>\n",
       "    <tr style=\"text-align: right;\">\n",
       "      <th></th>\n",
       "      <th>Text</th>\n",
       "    </tr>\n",
       "    <tr>\n",
       "      <th>Classificacao</th>\n",
       "      <th></th>\n",
       "    </tr>\n",
       "  </thead>\n",
       "  <tbody>\n",
       "    <tr>\n",
       "      <th>Negativo</th>\n",
       "      <td>2446</td>\n",
       "    </tr>\n",
       "    <tr>\n",
       "      <th>Neutro</th>\n",
       "      <td>2453</td>\n",
       "    </tr>\n",
       "    <tr>\n",
       "      <th>Positivo</th>\n",
       "      <td>3300</td>\n",
       "    </tr>\n",
       "  </tbody>\n",
       "</table>\n",
       "</div>"
      ],
      "text/plain": [
       "               Text\n",
       "Classificacao      \n",
       "Negativo       2446\n",
       "Neutro         2453\n",
       "Positivo       3300"
      ]
     },
     "execution_count": 533,
     "metadata": {},
     "output_type": "execute_result"
    }
   ],
   "source": [
    "df.groupby('Classificacao').count()"
   ]
  },
  {
   "cell_type": "markdown",
   "metadata": {
    "slideshow": {
     "slide_type": "subslide"
    }
   },
   "source": [
    "### Separando twees positivos, negativos e neutros"
   ]
  },
  {
   "cell_type": "code",
   "execution_count": 534,
   "metadata": {},
   "outputs": [],
   "source": [
    "df_neg = df.query('Classificacao == \"Negativo\"')\n",
    "df_pos = df.query('Classificacao == \"Positivo\"')\n",
    "df_neu = df.query('Classificacao == \"Neutro\"')"
   ]
  },
  {
   "cell_type": "markdown",
   "metadata": {
    "slideshow": {
     "slide_type": "subslide"
    }
   },
   "source": [
    "**Negativos**"
   ]
  },
  {
   "cell_type": "code",
   "execution_count": 535,
   "metadata": {},
   "outputs": [
    {
     "name": "stdout",
     "output_type": "stream",
     "text": [
      "Negativo  :\t��� PSOL vai questionar aumento de vereadores e prefeito de ...\n",
      "Negativo  :\t\"BB e governo de Minas travam disputa sobre depósitos judici...\n",
      "Negativo  :\t\"erro desconhecido\" é mato! Aliás, é da secretaria estadual ...\n",
      "Negativo  :\t\"Mesmo sem muito dinheiro no caixa o governo de Minas Gerais...\n",
      "Negativo  :\t\"uso de aeronave pertencente ao  Estado de MG, em domingo, p...\n",
      "Negativo  :\t#Alerta - Nome da CEEE é utilizado em golpe no Estado. https...\n",
      "Negativo  :\t#beta #betalab #mg Governo em calamidade financeira: BB avis...\n",
      "Negativo  :\t#i5gornascimento @i5gornascimento g1 Prefeito de Aimorés dec...\n",
      "Negativo  :\t#noticiasdorenan Em calamidade financeira, governo de MG com...\n",
      "Negativo  :\t#noticiasdorenan Uso de depósitos judiciais pelo governo tem...\n"
     ]
    }
   ],
   "source": [
    "for i in range(10):\n",
    "    pretty_print_tweet(df_neg.reset_index().loc[i]);"
   ]
  },
  {
   "cell_type": "markdown",
   "metadata": {
    "slideshow": {
     "slide_type": "subslide"
    }
   },
   "source": [
    "**Positivos**"
   ]
  },
  {
   "cell_type": "code",
   "execution_count": 536,
   "metadata": {},
   "outputs": [
    {
     "name": "stdout",
     "output_type": "stream",
     "text": [
      "Positivo  :\t#DefesaAgropecuária \"Governo de Minas Gerais aposta nos Arra...\n",
      "Positivo  :\t#EBC Governo de Minas investiga casos suspeitos de febre ama...\n",
      "Positivo  :\t#Minas vai dobrar oferta de trabalho e estudo nos #presídios...\n",
      "Positivo  :\t#Minas vai dobrar oferta de trabalho e estudo nos #presídios...\n",
      "Positivo  :\t#SUS Minas Gerais recebe recurso máximo disponibilizado pelo...\n",
      "Positivo  :\t@diegocabral75 @exame aí em MG, ta td bem? Pimentel cada dia...\n",
      "Positivo  :\t@israel_massa @ferrisss @JornalOGlobo pelo menos 1 coisa p s...\n",
      "Positivo  :\t@madeleinelacsko Em MG e SP,o Estado tem razoável controle s...\n",
      "Positivo  :\t@Madonegatti MG melhor estado...\n",
      "Positivo  :\t@MrSincero_ @klyfor @MBLivre @MBLivreBH Minas foi governada ...\n"
     ]
    }
   ],
   "source": [
    "for i in range(10):\n",
    "    pretty_print_tweet(df_pos.reset_index().loc[i]);"
   ]
  },
  {
   "cell_type": "markdown",
   "metadata": {
    "slideshow": {
     "slide_type": "subslide"
    }
   },
   "source": [
    "**Neutros**"
   ]
  },
  {
   "cell_type": "code",
   "execution_count": 537,
   "metadata": {},
   "outputs": [
    {
     "name": "stdout",
     "output_type": "stream",
     "text": [
      "Neutro    :\t���⛪ @ Catedral de Santo Antônio - Governador Valadares/MG h...\n",
      "Neutro    :\t� @ Governador Valadares, Minas Gerais https://t.co/B3ThIDJC...\n",
      "Neutro    :\t�� @ Governador Valadares, Minas Gerais https://t.co/dPkgzVR...\n",
      "Neutro    :\t��� https://t.co/BnDsO34qK0...\n",
      "Neutro    :\t\" bom é bandido morto\"\n",
      "Deputado Cabo Júlio é condenado e fic...\n",
      "Neutro    :\t\"..E 25% dos mineiros dizem não torcer para time nenhum,mesm...\n",
      "Neutro    :\t\"A gigantesca barba do mal\" em destaque no caderno Cultura d...\n",
      "Neutro    :\t\"com vcs bh fica pequena!\" Belo Horizonte (pron. [bɛloɾiˈzõn...\n",
      "Neutro    :\t\"Daí a gente visita governador valadares\"\n",
      "\"Que lugar eh esse...\n",
      "Neutro    :\t\"É bonita e é bonita...\" \n",
      "#latergram #ibituruna #home @ Gove...\n"
     ]
    }
   ],
   "source": [
    "for i in range(10):\n",
    "    pretty_print_tweet(df_neu.reset_index().loc[i]);"
   ]
  },
  {
   "cell_type": "markdown",
   "metadata": {
    "slideshow": {
     "slide_type": "subslide"
    }
   },
   "source": [
    "### Pré-processamento dos Tweets"
   ]
  },
  {
   "cell_type": "markdown",
   "metadata": {
    "slideshow": {
     "slide_type": "subslide"
    }
   },
   "source": [
    "**Remover acentuação**\n",
    "\n",
    "- A função `remover_acentos` é aplicada a cada tupla (linha) do DataFrame na coluna Text, usando a função `apply`."
   ]
  },
  {
   "cell_type": "code",
   "execution_count": 538,
   "metadata": {},
   "outputs": [],
   "source": [
    "import unidecode\n",
    "\n",
    "def remover_acentos(texto):\n",
    "    return unidecode.unidecode(texto)"
   ]
  },
  {
   "cell_type": "code",
   "execution_count": 539,
   "metadata": {},
   "outputs": [
    {
     "name": "stderr",
     "output_type": "stream",
     "text": [
      "C:\\Users\\andres\\Anaconda3\\envs\\keras2\\lib\\site-packages\\pandas\\core\\generic.py:5096: SettingWithCopyWarning: \n",
      "A value is trying to be set on a copy of a slice from a DataFrame.\n",
      "Try using .loc[row_indexer,col_indexer] = value instead\n",
      "\n",
      "See the caveats in the documentation: http://pandas.pydata.org/pandas-docs/stable/indexing.html#indexing-view-versus-copy\n",
      "  self[name] = value\n"
     ]
    }
   ],
   "source": [
    "df.Text = df.Text.apply(remover_acentos)"
   ]
  },
  {
   "cell_type": "code",
   "execution_count": 540,
   "metadata": {},
   "outputs": [
    {
     "name": "stdout",
     "output_type": "stream",
     "text": [
      "Neutro    :\t[?] @ Catedral de Santo Antonio - Governador Valadares/MG ht...\n",
      "Neutro    :\t @ Governador Valadares, Minas Gerais https://t.co/B3ThIDJCS...\n",
      "Neutro    :\t @ Governador Valadares, Minas Gerais https://t.co/dPkgzVR2Q...\n",
      "Neutro    :\t https://t.co/BnDsO34qK0...\n",
      "Negativo  :\t PSOL vai questionar aumento de vereadores e prefeito de BH ...\n",
      "Neutro    :\t\" bom e bandido morto\"\n",
      "Deputado Cabo Julio e condenado e fic...\n",
      "Neutro    :\t\"..E 25% dos mineiros dizem nao torcer para time nenhum,mesm...\n",
      "Neutro    :\t\"A gigantesca barba do mal\" em destaque no caderno Cultura d...\n",
      "Negativo  :\t\"BB e governo de Minas travam disputa sobre depositos judici...\n",
      "Neutro    :\t\"com vcs bh fica pequena!\" Belo Horizonte (pron. [belori'zon...\n"
     ]
    }
   ],
   "source": [
    "for i in range(10):\n",
    "    pretty_print_tweet(df.loc[i]);"
   ]
  },
  {
   "cell_type": "markdown",
   "metadata": {
    "slideshow": {
     "slide_type": "subslide"
    }
   },
   "source": [
    "**Diversos pré-processamentos**\n",
    "\n",
    "- Remoção de endereço de website\n",
    "- Remoção de caracteres que não sem letras, números, espaços, vírgulas ou pontos"
   ]
  },
  {
   "cell_type": "code",
   "execution_count": 541,
   "metadata": {},
   "outputs": [],
   "source": [
    "regex_to_replace = {\n",
    "    r'https?:\\/\\/.*[\\r\\n]*' : '',\n",
    "    '[^a-zA-Z0-9\\s,.]+' : '',\n",
    "    '\\n' : ''\n",
    "}"
   ]
  },
  {
   "cell_type": "code",
   "execution_count": 542,
   "metadata": {},
   "outputs": [],
   "source": [
    "df.Text = df.Text.replace(regex_to_replace, regex=True)"
   ]
  },
  {
   "cell_type": "code",
   "execution_count": 543,
   "metadata": {},
   "outputs": [
    {
     "name": "stdout",
     "output_type": "stream",
     "text": [
      "Neutro    :\t  Catedral de Santo Antonio  Governador ValadaresMG ...\n",
      "Neutro    :\t  Governador Valadares, Minas Gerais ...\n",
      "Neutro    :\t  Governador Valadares, Minas Gerais ...\n",
      "Neutro    :\t ...\n",
      "Negativo  :\t PSOL vai questionar aumento de vereadores e prefeito de BH ...\n",
      "Neutro    :\t bom e bandido mortoDeputado Cabo Julio e condenado e fica i...\n",
      "Neutro    :\t..E 25 dos mineiros dizem nao torcer para time nenhum,mesmo ...\n",
      "Neutro    :\tA gigantesca barba do mal em destaque no caderno Cultura do ...\n",
      "Negativo  :\tBB e governo de Minas travam disputa sobre depositos judicia...\n",
      "Neutro    :\tcom vcs bh fica pequena Belo Horizonte pron. belorizontSi10 ...\n"
     ]
    }
   ],
   "source": [
    "for i in range(10):\n",
    "    pretty_print_tweet(df.loc[i]);"
   ]
  },
  {
   "cell_type": "markdown",
   "metadata": {
    "slideshow": {
     "slide_type": "subslide"
    }
   },
   "source": [
    "**Remoção de Stopwords**"
   ]
  },
  {
   "cell_type": "code",
   "execution_count": 544,
   "metadata": {},
   "outputs": [
    {
     "name": "stderr",
     "output_type": "stream",
     "text": [
      "C:\\Users\\andres\\Anaconda3\\envs\\keras2\\lib\\site-packages\\ipykernel_launcher.py:1: SettingWithCopyWarning: \n",
      "A value is trying to be set on a copy of a slice from a DataFrame.\n",
      "Try using .loc[row_indexer,col_indexer] = value instead\n",
      "\n",
      "See the caveats in the documentation: http://pandas.pydata.org/pandas-docs/stable/indexing.html#indexing-view-versus-copy\n",
      "  \"\"\"Entry point for launching an IPython kernel.\n"
     ]
    }
   ],
   "source": [
    "df['Text'] = df['Text'].apply(remove_stopwords)"
   ]
  },
  {
   "cell_type": "code",
   "execution_count": 545,
   "metadata": {},
   "outputs": [
    {
     "name": "stdout",
     "output_type": "stream",
     "text": [
      "Neutro    :\t  Catedral Santo Antonio  Governador ValadaresMG ...\n",
      "Neutro    :\t  Governador Valadares, Minas Gerais ...\n",
      "Neutro    :\t  Governador Valadares, Minas Gerais ...\n",
      "Neutro    :\t ...\n",
      "Negativo  :\t PSOL vai questionar aumento vereadores prefeito BH Justica ...\n",
      "Neutro    :\t bom bandido mortoDeputado Cabo Julio condenado fica inelegi...\n",
      "Neutro    :\t..E 25 mineiros dizem nao torcer time nenhum,mesmo dentro es...\n",
      "Neutro    :\tA gigantesca barba mal destaque caderno Cultura Estado Minas...\n",
      "Negativo  :\tBB governo Minas travam disputa sobre depositos judiciais ...\n",
      "Neutro    :\tvcs bh fica pequena Belo Horizonte pron. belorizontSi10 capi...\n"
     ]
    }
   ],
   "source": [
    "for i in range(10):\n",
    "    pretty_print_tweet(df.loc[i]);"
   ]
  },
  {
   "cell_type": "markdown",
   "metadata": {
    "slideshow": {
     "slide_type": "subslide"
    }
   },
   "source": [
    "**Aplicação de Stemming**"
   ]
  },
  {
   "cell_type": "code",
   "execution_count": 546,
   "metadata": {},
   "outputs": [
    {
     "name": "stderr",
     "output_type": "stream",
     "text": [
      "C:\\Users\\andres\\Anaconda3\\envs\\keras2\\lib\\site-packages\\ipykernel_launcher.py:1: SettingWithCopyWarning: \n",
      "A value is trying to be set on a copy of a slice from a DataFrame.\n",
      "Try using .loc[row_indexer,col_indexer] = value instead\n",
      "\n",
      "See the caveats in the documentation: http://pandas.pydata.org/pandas-docs/stable/indexing.html#indexing-view-versus-copy\n",
      "  \"\"\"Entry point for launching an IPython kernel.\n"
     ]
    }
   ],
   "source": [
    "df['Text'] = df['Text'].apply(stem_sentence)"
   ]
  },
  {
   "cell_type": "code",
   "execution_count": 547,
   "metadata": {},
   "outputs": [
    {
     "name": "stdout",
     "output_type": "stream",
     "text": [
      "Neutro    :\t  catedral sant antoni  govern valadaresmg ...\n",
      "Neutro    :\t  govern valadares, min ger ...\n",
      "Neutro    :\t  govern valadares, min ger ...\n",
      "Neutro    :\t ...\n",
      "Negativo  :\t psol vai question aument vereador prefeit bh justic  polit ...\n",
      "Neutro    :\t bom band mortodeput cab juli conden fic inelegivel 10 anos ...\n",
      "Neutro    :\t..e 25 mineir diz nao torc tim nenhum,mesm dentr estad atlet...\n",
      "Neutro    :\ta gigantesc barb mal destaqu cadern cultur estad minas. ...\n",
      "Negativo  :\tbb govern min trav disput sobr deposit judic ...\n",
      "Neutro    :\tvcs bh fic pequen bel horizont pron. belorizontsi10 capital ...\n"
     ]
    }
   ],
   "source": [
    "for i in range(10):\n",
    "    pretty_print_tweet(df.loc[i]);"
   ]
  },
  {
   "cell_type": "markdown",
   "metadata": {
    "slideshow": {
     "slide_type": "subslide"
    }
   },
   "source": [
    "### Contagem de Termos Antes / Depois do Pré-processamento"
   ]
  },
  {
   "cell_type": "markdown",
   "metadata": {},
   "source": [
    "- Usamos uma função que explora a coluna que contém os textos, separa cada sentença em palavras, e retorna o conjunto (sem repetições) de palavras."
   ]
  },
  {
   "cell_type": "code",
   "execution_count": 548,
   "metadata": {},
   "outputs": [],
   "source": [
    "from itertools import chain\n",
    "\n",
    "def get_word_set(sentences):\n",
    "    words_for_sentence = [sentence.split(' ') for sentence in sentences]\n",
    "    flatten_list = list(chain(*words_for_sentence))\n",
    "    word_set = set(flatten_list)\n",
    "    return word_set"
   ]
  },
  {
   "cell_type": "code",
   "execution_count": 549,
   "metadata": {
    "slideshow": {
     "slide_type": "subslide"
    }
   },
   "outputs": [
    {
     "name": "stdout",
     "output_type": "stream",
     "text": [
      "Número de Termos:  16271\n"
     ]
    }
   ],
   "source": [
    "word_set_orig = get_word_set(df_orig.Text)\n",
    "print('Número de Termos: ', len(word_set_orig) )"
   ]
  },
  {
   "cell_type": "code",
   "execution_count": 550,
   "metadata": {},
   "outputs": [
    {
     "name": "stdout",
     "output_type": "stream",
     "text": [
      "Número de Termos:  6549\n"
     ]
    }
   ],
   "source": [
    "word_set = get_word_set(df.Text)\n",
    "print('Número de Termos: ', len(word_set) )"
   ]
  },
  {
   "cell_type": "code",
   "execution_count": 551,
   "metadata": {},
   "outputs": [
    {
     "name": "stdout",
     "output_type": "stream",
     "text": [
      "A redução do número de termos foi de 59.75%\n"
     ]
    }
   ],
   "source": [
    "ratio = 1 - len(word_set) / len(word_set_orig)\n",
    "print('A redução do número de termos foi de {:.2f}%'.format( ratio*100) )"
   ]
  },
  {
   "cell_type": "markdown",
   "metadata": {
    "slideshow": {
     "slide_type": "subslide"
    }
   },
   "source": [
    "### Palavras mais Frequentes Positivas e Negativas"
   ]
  },
  {
   "cell_type": "code",
   "execution_count": 552,
   "metadata": {},
   "outputs": [
    {
     "data": {
      "text/html": [
       "<div>\n",
       "<style scoped>\n",
       "    .dataframe tbody tr th:only-of-type {\n",
       "        vertical-align: middle;\n",
       "    }\n",
       "\n",
       "    .dataframe tbody tr th {\n",
       "        vertical-align: top;\n",
       "    }\n",
       "\n",
       "    .dataframe thead th {\n",
       "        text-align: right;\n",
       "    }\n",
       "</style>\n",
       "<table border=\"1\" class=\"dataframe\">\n",
       "  <thead>\n",
       "    <tr style=\"text-align: right;\">\n",
       "      <th></th>\n",
       "      <th>Text</th>\n",
       "      <th>Classificacao</th>\n",
       "    </tr>\n",
       "  </thead>\n",
       "  <tbody>\n",
       "    <tr>\n",
       "      <th>0</th>\n",
       "      <td>defesaagropecu govern min ger apost arranj pro...</td>\n",
       "      <td>Positivo</td>\n",
       "    </tr>\n",
       "    <tr>\n",
       "      <th>1</th>\n",
       "      <td>ebc govern min investig cas suspeit febr amare...</td>\n",
       "      <td>Positivo</td>\n",
       "    </tr>\n",
       "    <tr>\n",
       "      <th>2</th>\n",
       "      <td>min vai dobr ofert trabalh estud presidi estad</td>\n",
       "      <td>Positivo</td>\n",
       "    </tr>\n",
       "    <tr>\n",
       "      <th>3</th>\n",
       "      <td>min vai dobr ofert trabalh estud presidi estad</td>\n",
       "      <td>Positivo</td>\n",
       "    </tr>\n",
       "    <tr>\n",
       "      <th>4</th>\n",
       "      <td>sus min ger receb recurs maxim disponibiliz go...</td>\n",
       "      <td>Positivo</td>\n",
       "    </tr>\n",
       "  </tbody>\n",
       "</table>\n",
       "</div>"
      ],
      "text/plain": [
       "                                                Text Classificacao\n",
       "0  defesaagropecu govern min ger apost arranj pro...      Positivo\n",
       "1  ebc govern min investig cas suspeit febr amare...      Positivo\n",
       "2     min vai dobr ofert trabalh estud presidi estad      Positivo\n",
       "3     min vai dobr ofert trabalh estud presidi estad      Positivo\n",
       "4  sus min ger receb recurs maxim disponibiliz go...      Positivo"
      ]
     },
     "execution_count": 552,
     "metadata": {},
     "output_type": "execute_result"
    }
   ],
   "source": [
    "dfnew = df.query('Classificacao == \"Positivo\"').append( df.query('Classificacao == \"Negativo\"') ).reset_index(drop=True)\n",
    "dfnew.head()"
   ]
  },
  {
   "cell_type": "code",
   "execution_count": 553,
   "metadata": {},
   "outputs": [],
   "source": [
    "from collections import Counter\n",
    "positive_counts = Counter()\n",
    "negative_counts = Counter()\n",
    "total_counts = Counter()"
   ]
  },
  {
   "cell_type": "code",
   "execution_count": 554,
   "metadata": {
    "slideshow": {
     "slide_type": "subslide"
    }
   },
   "outputs": [],
   "source": [
    "for i in range(len(dfnew.Text)):\n",
    "    if(dfnew.Classificacao[i] == 'Positivo'):\n",
    "        for word in dfnew.Text[i].split(\" \"):\n",
    "            positive_counts[word] += 1\n",
    "            total_counts[word] += 1\n",
    "    else:\n",
    "        for word in dfnew.Text[i].split(\" \"):\n",
    "            negative_counts[word] += 1\n",
    "            total_counts[word] += 1"
   ]
  },
  {
   "cell_type": "markdown",
   "metadata": {
    "slideshow": {
     "slide_type": "subslide"
    }
   },
   "source": [
    "**Termos mais frequentes em tweets postivos**"
   ]
  },
  {
   "cell_type": "code",
   "execution_count": 555,
   "metadata": {},
   "outputs": [
    {
     "data": {
      "text/plain": [
       "[('', 4088),\n",
       " ('min', 968),\n",
       " ('drog', 917),\n",
       " ('pres', 778),\n",
       " ('rt', 608),\n",
       " ('mg', 572),\n",
       " ('presidi', 538),\n",
       " ('febr', 489),\n",
       " ('trafic', 487),\n",
       " ('amarel', 474),\n",
       " ('ger', 473),\n",
       " ('roub', 445),\n",
       " ('polic', 404),\n",
       " ('suspeit', 394),\n",
       " ('contr', 384)]"
      ]
     },
     "execution_count": 555,
     "metadata": {},
     "output_type": "execute_result"
    }
   ],
   "source": [
    "positive_counts.most_common(15)"
   ]
  },
  {
   "cell_type": "markdown",
   "metadata": {
    "slideshow": {
     "slide_type": "subslide"
    }
   },
   "source": [
    "**Termos mais frequentes em tweets negativos**"
   ]
  },
  {
   "cell_type": "code",
   "execution_count": 556,
   "metadata": {},
   "outputs": [
    {
     "data": {
      "text/plain": [
       "[('', 2235),\n",
       " ('rt', 1729),\n",
       " ('govern', 1518),\n",
       " ('helicopter', 1242),\n",
       " ('mg', 1096),\n",
       " ('compr', 977),\n",
       " ('calam', 958),\n",
       " ('dois', 786),\n",
       " ('min', 677),\n",
       " ('q', 621),\n",
       " ('financeira,', 549),\n",
       " ('pimentel', 425),\n",
       " ('2', 419),\n",
       " ('mesm', 405),\n",
       " ('financeir', 403)]"
      ]
     },
     "execution_count": 556,
     "metadata": {},
     "output_type": "execute_result"
    }
   ],
   "source": [
    "negative_counts.most_common(15)"
   ]
  },
  {
   "cell_type": "markdown",
   "metadata": {
    "slideshow": {
     "slide_type": "subslide"
    }
   },
   "source": [
    "**Termos mais frequentes em geral nos tweets**"
   ]
  },
  {
   "cell_type": "code",
   "execution_count": 557,
   "metadata": {},
   "outputs": [
    {
     "data": {
      "text/plain": [
       "[('', 6323),\n",
       " ('rt', 2337),\n",
       " ('govern', 1789),\n",
       " ('mg', 1668),\n",
       " ('min', 1645),\n",
       " ('helicopter', 1242),\n",
       " ('compr', 977),\n",
       " ('calam', 958),\n",
       " ('drog', 917),\n",
       " ('dois', 892),\n",
       " ('pres', 817),\n",
       " ('ger', 686),\n",
       " ('sao', 681),\n",
       " ('nao', 637),\n",
       " ('q', 626)]"
      ]
     },
     "execution_count": 557,
     "metadata": {},
     "output_type": "execute_result"
    }
   ],
   "source": [
    "total_counts.most_common(15)"
   ]
  },
  {
   "cell_type": "markdown",
   "metadata": {
    "slideshow": {
     "slide_type": "subslide"
    }
   },
   "source": [
    "**Taxa de Positivos em relação a Negativos**\n",
    "\n",
    "- Para saber a correspondência de cada palavra com tweets positivos ou negativos podemos calcular uma taxa em que:\n",
    "    - Positivos: tenham valores acima de 1 (numerador maior que denominador)\n",
    "    - Negativos: tenham valores entre 0 e 1 (denominador maior que numerador)\n",
    "    - Neutro: próximo de 1 (numerador e denominador parecidos)"
   ]
  },
  {
   "cell_type": "code",
   "execution_count": 558,
   "metadata": {},
   "outputs": [],
   "source": [
    "pos_neg_ratios = Counter()\n",
    "\n",
    "# Calculate the ratios of positive and negative uses of the most common words\n",
    "# Consider words to be \"common\" if they've been used at least 100 times\n",
    "for term, cnt in list(total_counts.most_common()):\n",
    "    if(cnt > 100):\n",
    "        pos_neg_ratio = positive_counts[term] / float(negative_counts[term]+1)\n",
    "        pos_neg_ratios[term] = pos_neg_ratio"
   ]
  },
  {
   "cell_type": "code",
   "execution_count": 559,
   "metadata": {
    "slideshow": {
     "slide_type": "subslide"
    }
   },
   "outputs": [
    {
     "name": "stdout",
     "output_type": "stream",
     "text": [
      "Pos-to-neg ratio for 'drog' = 917.000\n",
      "Pos-to-neg ratio for 'trafic' = 487.000\n",
      "Pos-to-neg ratio for 'roub' = 222.500\n",
      "Pos-to-neg ratio for 'sao' = 1.172\n",
      "Pos-to-neg ratio for 'pimentel' = 0.113\n"
     ]
    }
   ],
   "source": [
    "print(\"Pos-to-neg ratio for 'drog' = {:.3f}\".format(pos_neg_ratios[\"drog\"]))\n",
    "print(\"Pos-to-neg ratio for 'trafic' = {:.3f}\".format(pos_neg_ratios[\"trafic\"]))\n",
    "print(\"Pos-to-neg ratio for 'roub' = {:.3f}\".format(pos_neg_ratios[\"roub\"]))\n",
    "print(\"Pos-to-neg ratio for 'sao' = {:.3f}\".format(pos_neg_ratios[\"sao\"]))\n",
    "print(\"Pos-to-neg ratio for 'pimentel' = {:.3f}\".format(pos_neg_ratios[\"pimentel\"]))"
   ]
  },
  {
   "cell_type": "markdown",
   "metadata": {
    "slideshow": {
     "slide_type": "subslide"
    }
   },
   "source": [
    "**Normalização da taxa para valores positivos e negativos e linearização**"
   ]
  },
  {
   "cell_type": "code",
   "execution_count": 560,
   "metadata": {},
   "outputs": [],
   "source": [
    "# Convert ratios to logs\n",
    "import numpy as np\n",
    "for word, ratio in pos_neg_ratios.most_common():\n",
    "    if (ratio > 1):\n",
    "        pos_neg_ratios[word] = np.log(ratio)\n",
    "    elif (ratio < 1):\n",
    "        pos_neg_ratios[word] = -np.log(1/(ratio + 0.01))\n",
    "    else:\n",
    "        pos_neg_ratios[word] = 0"
   ]
  },
  {
   "cell_type": "code",
   "execution_count": 561,
   "metadata": {
    "slideshow": {
     "slide_type": "subslide"
    }
   },
   "outputs": [
    {
     "name": "stdout",
     "output_type": "stream",
     "text": [
      "Pos-to-neg ratio for 'drog' = 6.821\n",
      "Pos-to-neg ratio for 'trafic' = 6.188\n",
      "Pos-to-neg ratio for 'roub' = 5.405\n",
      "Pos-to-neg ratio for 'sao' = 0.159\n",
      "Pos-to-neg ratio for 'pimentel' = -2.098\n",
      "Pos-to-neg ratio for 'cust' = -3.234\n"
     ]
    }
   ],
   "source": [
    "print(\"Pos-to-neg ratio for 'drog' = {:.3f}\".format(pos_neg_ratios[\"drog\"]))\n",
    "print(\"Pos-to-neg ratio for 'trafic' = {:.3f}\".format(pos_neg_ratios[\"trafic\"]))\n",
    "print(\"Pos-to-neg ratio for 'roub' = {:.3f}\".format(pos_neg_ratios[\"roub\"]))\n",
    "print(\"Pos-to-neg ratio for 'sao' = {:.3f}\".format(pos_neg_ratios[\"sao\"]))\n",
    "print(\"Pos-to-neg ratio for 'pimentel' = {:.3f}\".format(pos_neg_ratios[\"pimentel\"]))\n",
    "print(\"Pos-to-neg ratio for 'cust' = {:.3f}\".format(pos_neg_ratios[\"cust\"]))"
   ]
  },
  {
   "cell_type": "code",
   "execution_count": 562,
   "metadata": {
    "slideshow": {
     "slide_type": "subslide"
    }
   },
   "outputs": [
    {
     "data": {
      "text/plain": [
       "[('drog', 6.821107472256465),\n",
       " ('trafic', 6.18826412308259),\n",
       " ('pmmg190', 5.860786223465865),\n",
       " ('apreend', 5.768320995793772),\n",
       " ('priv', 5.594711379601839),\n",
       " ('for', 5.53338948872752),\n",
       " ('anos,', 5.529429087511423),\n",
       " ('febr', 5.499215308914927),\n",
       " ('amarel', 5.4680601411351315),\n",
       " ('roub', 5.404927101606295),\n",
       " ('det', 5.318119993844216),\n",
       " ('suspeit', 5.2832037287379885),\n",
       " ('recuper', 5.2832037287379885),\n",
       " ('tres', 5.209486152841421),\n",
       " ('model', 5.198497031265826)]"
      ]
     },
     "execution_count": 562,
     "metadata": {},
     "output_type": "execute_result"
    }
   ],
   "source": [
    "pos_neg_ratios.most_common()[:15]"
   ]
  },
  {
   "cell_type": "code",
   "execution_count": 563,
   "metadata": {
    "slideshow": {
     "slide_type": "subslide"
    }
   },
   "outputs": [
    {
     "data": {
      "text/plain": [
       "[('helicopter', -4.605170185988092),\n",
       " ('compr', -4.605170185988092),\n",
       " ('calam', -4.605170185988092),\n",
       " ('financeira,', -4.605170185988092),\n",
       " ('financeir', -4.605170185988092),\n",
       " ('pau', -4.605170185988092),\n",
       " ('canalhic', -4.605170185988092),\n",
       " ('anapaulavol', -4.605170185988092),\n",
       " ('viv', -4.605170185988092),\n",
       " ('bb', -4.605170185988092),\n",
       " ('judicial', -4.605170185988092),\n",
       " ('21,8', -4.605170185988092),\n",
       " ('calamidade,', -4.605170185988092),\n",
       " ('uolnotic', -4.605170185988092),\n",
       " ('helicopteros.', -4.605170185988092)]"
      ]
     },
     "execution_count": 563,
     "metadata": {},
     "output_type": "execute_result"
    }
   ],
   "source": [
    "pos_neg_ratios.most_common()[-15:]"
   ]
  },
  {
   "cell_type": "markdown",
   "metadata": {
    "slideshow": {
     "slide_type": "subslide"
    }
   },
   "source": [
    "## Visualização do Score dos Termos"
   ]
  },
  {
   "cell_type": "code",
   "execution_count": 564,
   "metadata": {},
   "outputs": [],
   "source": [
    "df_pos_neg_ratios = pd.DataFrame.from_dict(pos_neg_ratios, orient='index').reset_index()\n",
    "df_pos_neg_ratios.columns = ['Term','Score']"
   ]
  },
  {
   "cell_type": "code",
   "execution_count": 565,
   "metadata": {},
   "outputs": [
    {
     "data": {
      "text/html": [
       "<div>\n",
       "<style scoped>\n",
       "    .dataframe tbody tr th:only-of-type {\n",
       "        vertical-align: middle;\n",
       "    }\n",
       "\n",
       "    .dataframe tbody tr th {\n",
       "        vertical-align: top;\n",
       "    }\n",
       "\n",
       "    .dataframe thead th {\n",
       "        text-align: right;\n",
       "    }\n",
       "</style>\n",
       "<table border=\"1\" class=\"dataframe\">\n",
       "  <thead>\n",
       "    <tr style=\"text-align: right;\">\n",
       "      <th></th>\n",
       "      <th>Term</th>\n",
       "      <th>Score</th>\n",
       "    </tr>\n",
       "  </thead>\n",
       "  <tbody>\n",
       "    <tr>\n",
       "      <th>0</th>\n",
       "      <td></td>\n",
       "      <td>0.603367</td>\n",
       "    </tr>\n",
       "    <tr>\n",
       "      <th>1</th>\n",
       "      <td>rt</td>\n",
       "      <td>-1.017645</td>\n",
       "    </tr>\n",
       "    <tr>\n",
       "      <th>2</th>\n",
       "      <td>govern</td>\n",
       "      <td>-1.669152</td>\n",
       "    </tr>\n",
       "    <tr>\n",
       "      <th>3</th>\n",
       "      <td>mg</td>\n",
       "      <td>-0.632199</td>\n",
       "    </tr>\n",
       "    <tr>\n",
       "      <th>4</th>\n",
       "      <td>min</td>\n",
       "      <td>0.356085</td>\n",
       "    </tr>\n",
       "  </tbody>\n",
       "</table>\n",
       "</div>"
      ],
      "text/plain": [
       "     Term     Score\n",
       "0          0.603367\n",
       "1      rt -1.017645\n",
       "2  govern -1.669152\n",
       "3      mg -0.632199\n",
       "4     min  0.356085"
      ]
     },
     "execution_count": 565,
     "metadata": {},
     "output_type": "execute_result"
    }
   ],
   "source": [
    "df_pos_neg_ratios.head()"
   ]
  },
  {
   "cell_type": "code",
   "execution_count": 566,
   "metadata": {
    "slideshow": {
     "slide_type": "subslide"
    }
   },
   "outputs": [
    {
     "data": {
      "text/plain": [
       "<matplotlib.axes._subplots.AxesSubplot at 0x22e475c7198>"
      ]
     },
     "execution_count": 566,
     "metadata": {},
     "output_type": "execute_result"
    },
    {
     "data": {
      "image/png": "[encoded data removed]",
      "text/plain": [
       "<Figure size 720x1440 with 1 Axes>"
      ]
     },
     "metadata": {
      "needs_background": "light"
     },
     "output_type": "display_data"
    }
   ],
   "source": [
    "import seaborn as sns\n",
    "from matplotlib import pyplot\n",
    "fig, ax = pyplot.subplots(figsize=(10, 20))\n",
    "sns.barplot(ax = ax, y=\"Term\", x=\"Score\", data=df_pos_neg_ratios.sort_values([\"Score\"]) )"
   ]
  },
  {
   "cell_type": "markdown",
   "metadata": {
    "slideshow": {
     "slide_type": "subslide"
    }
   },
   "source": [
    "## Construíndo o Nosso Classificador"
   ]
  },
  {
   "cell_type": "markdown",
   "metadata": {},
   "source": [
    "**A função `get_scores` extrai os scores das palavras de uma sentença**\n",
    "\n",
    "Observe que apenas temos o score de algumas palavras, aquelas que mais aparecem nos negativos e positivos."
   ]
  },
  {
   "cell_type": "code",
   "execution_count": 567,
   "metadata": {},
   "outputs": [],
   "source": [
    "def get_scores (sentence, pos_neg_ratios):\n",
    "    keys = pos_neg_ratios.keys()\n",
    "    words = [word for word in sentence.split(' ') if word in keys]\n",
    "    word_scores = [ pos_neg_ratios[word] for word in words ]\n",
    "    return word_scores"
   ]
  },
  {
   "cell_type": "markdown",
   "metadata": {},
   "source": [
    "**Visualizando os scores de frases**"
   ]
  },
  {
   "cell_type": "code",
   "execution_count": 584,
   "metadata": {
    "slideshow": {
     "slide_type": "subslide"
    }
   },
   "outputs": [
    {
     "name": "stdout",
     "output_type": "stream",
     "text": [
      "Text:defesaagropecu govern min ger apost arranj produt loc ritd \n",
      "Scores:[-1.669  0.356  0.793  0.603]\n",
      "\n",
      "Text:ebc govern min investig cas suspeit febr amarel mal estad \n",
      "Scores:[-1.669  0.356  3.418  5.283  5.499  5.468 -0.801  0.603]\n",
      "\n",
      "Text:min vai dobr ofert trabalh estud presidi estad\n",
      "Scores:[ 0.356 -1.693  4.902 -0.801]\n",
      "\n",
      "Text:min vai dobr ofert trabalh estud presidi estad\n",
      "Scores:[ 0.356 -1.693  4.902 -0.801]\n",
      "\n",
      "Text:sus min ger receb recurs maxim disponibiliz govern federal aco vigilanciasanitaria... \n",
      "Scores:[ 0.356  0.793  1.379 -3.664 -1.669  0.603]\n",
      "\n",
      "Text:diegocabral75 exam ai mg, ta td bem pimentel cad dia faz melhor estad ne aind bem q dor prefeit sp nao bh\n",
      "Scores:[-2.098 -0.801 -3.964 -4.015 -0.29 ]\n",
      "\n"
     ]
    }
   ],
   "source": [
    "for i in range(6):\n",
    "    print('Text:{}'.format(dfnew.Text[i]) )\n",
    "    scores = get_scores(dfnew.Text[i], pos_neg_ratios)\n",
    "    print('Scores:{}\\n'.format( np.around(scores,3)) )    "
   ]
  },
  {
   "cell_type": "markdown",
   "metadata": {
    "slideshow": {
     "slide_type": "subslide"
    }
   },
   "source": [
    "**A função `predict` analisa os scores de uma sentença e retorna se o tweet é predito como positivo ou negativo**\n",
    "\n",
    "Nesta função primero obtemos os scores da sentença usando 'get_scores' somamos os scores e verificamos se o valor resultante é positivo ou negativo"
   ]
  },
  {
   "cell_type": "code",
   "execution_count": 569,
   "metadata": {},
   "outputs": [],
   "source": [
    "def predict ( sentence ):\n",
    "    scores = get_scores( sentence, pos_neg_ratios)\n",
    "    score = sum(scores)\n",
    "    if (score > 0):\n",
    "        return 'Positivo'\n",
    "    else:\n",
    "        return 'Negativo'"
   ]
  },
  {
   "cell_type": "markdown",
   "metadata": {
    "slideshow": {
     "slide_type": "subslide"
    }
   },
   "source": [
    "**Exemplos de predição**"
   ]
  },
  {
   "cell_type": "code",
   "execution_count": 589,
   "metadata": {},
   "outputs": [
    {
     "name": "stdout",
     "output_type": "stream",
     "text": [
      "Predicted: Positivo ; Texto: defesaagropecu govern min ger apost arranj produt \n",
      "Predicted: Positivo ; Texto: ebc govern min investig cas suspeit febr amarel ma\n",
      "Predicted: Positivo ; Texto: min vai dobr ofert trabalh estud presidi estad\n",
      "Predicted: Positivo ; Texto: min vai dobr ofert trabalh estud presidi estad\n",
      "Predicted: Negativo ; Texto: sus min ger receb recurs maxim disponibiliz govern\n",
      "Predicted: Negativo ; Texto: diegocabral75 exam ai mg, ta td bem pimentel cad d\n",
      "Predicted: Positivo ; Texto: israelmass ferrisss jornaloglob men 1 cois p orgul\n",
      "Predicted: Negativo ; Texto: madeleinelacsk em mg sp,o estad razoavel control s\n",
      "Predicted: Negativo ; Texto: madonegatt mg melhor estad\n",
      "Predicted: Negativo ; Texto: mrsincer klyfor mblivr mblivrebh min govern 2003 2\n"
     ]
    }
   ],
   "source": [
    "for i in range(10):\n",
    "    print('Predicted:', predict(dfnew.Text[i]),'; Texto:', dfnew.Text[i][:50] )"
   ]
  },
  {
   "cell_type": "markdown",
   "metadata": {
    "slideshow": {
     "slide_type": "subslide"
    }
   },
   "source": [
    "**Classificando todas as sentenças (tweets) da base de dados**\n",
    "\n",
    "Criamos uma nova coluna no nosso conjunto de dados (que contém apenas frases positivas e negativas) e predizemos qual é classe de cada frase.\n",
    "\n",
    "Forma 1:\n",
    "```python\n",
    "dfnew['Predicted'] = [ predict(sentence) for sentence in dfnew.Text]\n",
    "```\n",
    "\n",
    "Forma 2:\n",
    "```python\n",
    "dfnew['Predicted'] = dfnew.Text.apply(predict)\n",
    "```\n"
   ]
  },
  {
   "cell_type": "code",
   "execution_count": 594,
   "metadata": {},
   "outputs": [],
   "source": [
    "dfnew['Predicted'] = dfnew.Text.apply(predict)"
   ]
  },
  {
   "cell_type": "markdown",
   "metadata": {
    "slideshow": {
     "slide_type": "subslide"
    }
   },
   "source": [
    "**Avaliação dos Resultados**"
   ]
  },
  {
   "cell_type": "markdown",
   "metadata": {},
   "source": [
    "*Matriz de confusão da biblioteca sklearn*"
   ]
  },
  {
   "cell_type": "code",
   "execution_count": 599,
   "metadata": {},
   "outputs": [
    {
     "name": "stdout",
     "output_type": "stream",
     "text": [
      "Confusion Table:\n",
      " [[3041  259]\n",
      " [  85 2361]]\n"
     ]
    }
   ],
   "source": [
    "from sklearn.metrics import confusion_matrix\n",
    "cm = confusion_matrix(y_true = dfnew.Classificacao, y_pred = dfnew.Predicted, labels=['Positivo','Negativo'])\n",
    "print('Matriz de confusão:\\n', cm)"
   ]
  },
  {
   "cell_type": "markdown",
   "metadata": {
    "slideshow": {
     "slide_type": "subslide"
    }
   },
   "source": [
    "*Matriz de confusão da biblioteca pandas_ml*"
   ]
  },
  {
   "cell_type": "code",
   "execution_count": 637,
   "metadata": {},
   "outputs": [
    {
     "data": {
      "text/plain": [
       "Predicted  False  True  __all__\n",
       "Actual                         \n",
       "False       2361    85     2446\n",
       "True         259  3041     3300\n",
       "__all__     2620  3126     5746"
      ]
     },
     "execution_count": 637,
     "metadata": {},
     "output_type": "execute_result"
    }
   ],
   "source": [
    "from pandas_ml import ConfusionMatrix\n",
    "cm = ConfusionMatrix(y_true=dfnew.Classificacao.map({'Positivo': 1, 'Negativo': 0}), \n",
    "                     y_pred=dfnew.Predicted.map({'Positivo': 1, 'Negativo': 0}) )\n",
    "cm"
   ]
  },
  {
   "cell_type": "markdown",
   "metadata": {
    "slideshow": {
     "slide_type": "subslide"
    }
   },
   "source": [
    "**Cálculo de Acurácia**"
   ]
  },
  {
   "cell_type": "code",
   "execution_count": 641,
   "metadata": {},
   "outputs": [
    {
     "name": "stdout",
     "output_type": "stream",
     "text": [
      "Accuracy:  0.9401322659241211\n"
     ]
    }
   ],
   "source": [
    "from sklearn.metrics import accuracy_score\n",
    "accuracy = accuracy_score(y_true = dfnew.Classificacao, y_pred = dfnew.Predicted)\n",
    "print('Accuracy: ', accuracy)"
   ]
  },
  {
   "cell_type": "markdown",
   "metadata": {
    "slideshow": {
     "slide_type": "subslide"
    }
   },
   "source": [
    "**Cálculo de Precision, Recall e F1-score**"
   ]
  },
  {
   "cell_type": "code",
   "execution_count": 642,
   "metadata": {},
   "outputs": [
    {
     "name": "stdout",
     "output_type": "stream",
     "text": [
      "              precision    recall  f1-score   support\n",
      "\n",
      "    Positivo       0.97      0.92      0.95      3300\n",
      "    Negativo       0.90      0.97      0.93      2446\n",
      "\n",
      "   micro avg       0.94      0.94      0.94      5746\n",
      "   macro avg       0.94      0.94      0.94      5746\n",
      "weighted avg       0.94      0.94      0.94      5746\n",
      "\n"
     ]
    }
   ],
   "source": [
    "from sklearn.metrics import classification_report\n",
    "\n",
    "report = classification_report(y_true = dfnew.Classificacao, y_pred = dfnew.Predicted, labels=['Positivo','Negativo'])\n",
    "print(report)"
   ]
  },
  {
   "cell_type": "markdown",
   "metadata": {
    "slideshow": {
     "slide_type": "slide"
    }
   },
   "source": [
    "# Avaliação com Novos Tweets\n",
    "\n",
    "- Procurar na internet como fazer captura de Tweets em Python.\n",
    "\n",
    "- Aplicar estes métodos usados nesta aula para pré-processar dados de seus tweets.\n",
    "\n",
    "- Classifique você mesmo tweets como positivos, negativos e neutros. E verifique quais as palavras mais comuns em tweets negativos e positivos em seus tweets."
   ]
  }
 ],
 "metadata": {
  "kernelspec": {
   "display_name": "Python 3",
   "language": "python",
   "name": "python3"
  },
  "language_info": {
   "codemirror_mode": {
    "name": "ipython",
    "version": 3
   },
   "file_extension": ".py",
   "mimetype": "text/x-python",
   "name": "python",
   "nbconvert_exporter": "python",
   "pygments_lexer": "ipython3",
   "version": "3.7.1"
  }
 },
 "nbformat": 4,
 "nbformat_minor": 2
}
